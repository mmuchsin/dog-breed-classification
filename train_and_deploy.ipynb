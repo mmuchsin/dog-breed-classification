{
 "cells": [
  {
   "cell_type": "markdown",
   "metadata": {},
   "source": [
    "# TODO: Title\n",
    "\n",
    "This notebook lists all the steps that you need to complete the complete this project. You will need to complete all the TODOs in this notebook as well as in the README and the two python scripts included with the starter code.\n",
    "\n",
    "\n",
    "**TODO**: Give a helpful introduction to what this notebook is for. Remember that comments, explanations and good documentation make your project informative and professional.\n",
    "\n",
    "**Note:** This notebook has a bunch of code and markdown cells with TODOs that you have to complete. These are meant to be helpful guidelines for you to finish your project while meeting the requirements in the project rubrics. Feel free to change the order of these the TODO\"s and use more than one TODO code cell to do all your tasks."
   ]
  },
  {
   "cell_type": "code",
   "execution_count": 1,
   "metadata": {
    "scrolled": true
   },
   "outputs": [],
   "source": [
    "# TODO: Install any packages that you might need\n",
    "# For instance, you will need the smdebug package\n",
    "!pip -qq install smdebug"
   ]
  },
  {
   "cell_type": "code",
   "execution_count": 3,
   "metadata": {},
   "outputs": [
    {
     "name": "stderr",
     "output_type": "stream",
     "text": [
      "/opt/conda/lib/python3.8/site-packages/scipy/__init__.py:146: UserWarning: A NumPy version >=1.16.5 and <1.23.0 is required for this version of SciPy (detected version 1.23.5\n",
      "  warnings.warn(f\"A NumPy version >={np_minversion} and <{np_maxversion}\"\n"
     ]
    }
   ],
   "source": [
    "# TODO: Import any packages that you might need\n",
    "# For instance you will need Boto3 and Sagemaker\n",
    "import sagemaker\n",
    "import boto3\n",
    "\n",
    "from sagemaker.session import Session\n",
    "from sagemaker.inputs import TrainingInput\n",
    "from sagemaker.pytorch import PyTorch\n",
    "\n",
    "from sagemaker.tuner import (\n",
    "    IntegerParameter,\n",
    "    CategoricalParameter,\n",
    "    ContinuousParameter,\n",
    "    HyperparameterTuner,\n",
    ")"
   ]
  },
  {
   "cell_type": "markdown",
   "metadata": {},
   "source": [
    "## Dataset\n",
    "TODO: Explain what dataset you are using for this project. Maybe even give a small overview of the classes, class distributions etc that can help anyone not familiar with the dataset get a better understand of it."
   ]
  },
  {
   "cell_type": "code",
   "execution_count": 4,
   "metadata": {},
   "outputs": [
    {
     "name": "stdout",
     "output_type": "stream",
     "text": [
      "File ‘dogImages.zip’ already there; not retrieving.\n",
      "\n"
     ]
    }
   ],
   "source": [
    "#TODO: Fetch and upload the data to AWS S3\n",
    "\n",
    "# Command to download and unzip data\n",
    "! wget -nc https://s3-us-west-1.amazonaws.com/udacity-aind/dog-project/dogImages.zip\n",
    "! unzip -qq dogImages.zip"
   ]
  },
  {
   "cell_type": "code",
   "execution_count": 10,
   "metadata": {
    "tags": []
   },
   "outputs": [],
   "source": [
    "! aws s3 sync /root/dog-breed-classification/dogImages s3://sagemaker-us-east-1-022926224205/dog-breed-project/data/"
   ]
  },
  {
   "cell_type": "code",
   "execution_count": 13,
   "metadata": {
    "tags": []
   },
   "outputs": [
    {
     "data": {
      "text/plain": [
       "['test', 'valid', 'train']"
      ]
     },
     "execution_count": 13,
     "metadata": {},
     "output_type": "execute_result"
    }
   ],
   "source": [
    "import os\n",
    "\n",
    "os.listdir(\"/root/dog-breed-classification/dogImages/\")"
   ]
  },
  {
   "cell_type": "markdown",
   "metadata": {},
   "source": [
    "the dataset already splitted to test, valid, and train"
   ]
  },
  {
   "cell_type": "code",
   "execution_count": null,
   "metadata": {},
   "outputs": [],
   "source": [
    "! pip install -qq torchvision"
   ]
  },
  {
   "cell_type": "code",
   "execution_count": 21,
   "metadata": {
    "tags": []
   },
   "outputs": [],
   "source": [
    "import pandas as pd\n",
    "import torchvision\n",
    "from PIL import ImageFile\n",
    "\n",
    "%matplotlib inline\n",
    "ImageFile.LOAD_TRUNCATED_IMAGES = True\n",
    "\n",
    "train_dataset = torchvision.datasets.ImageFolder(\"~/dog-breed-classification/dogImages/train\")\n",
    "valid_dataset = torchvision.datasets.ImageFolder(\"~/dog-breed-classification/dogImages/valid\")\n",
    "test_dataset = torchvision.datasets.ImageFolder(\"~/dog-breed-classification/dogImages/test\")\n",
    "\n",
    "def get_class_distribution(dataset_obj):\n",
    "    idx2class = {v: k for k, v in dataset_obj.class_to_idx.items()}\n",
    "    count_dict = {k:0 for k,v in dataset_obj.class_to_idx.items()}\n",
    "    for _, label_id in dataset_obj:\n",
    "        label = idx2class[label_id]\n",
    "        count_dict[label] += 1\n",
    "    return count_dict"
   ]
  },
  {
   "cell_type": "code",
   "execution_count": 17,
   "metadata": {
    "tags": []
   },
   "outputs": [
    {
     "data": {
      "text/plain": [
       "Dataset ImageFolder\n",
       "    Number of datapoints: 6680\n",
       "    Root location: /root/dog-breed-classification/dogImages/train"
      ]
     },
     "execution_count": 17,
     "metadata": {},
     "output_type": "execute_result"
    }
   ],
   "source": [
    "train_dataset"
   ]
  },
  {
   "cell_type": "code",
   "execution_count": 19,
   "metadata": {
    "tags": []
   },
   "outputs": [
    {
     "data": {
      "text/plain": [
       "Dataset ImageFolder\n",
       "    Number of datapoints: 835\n",
       "    Root location: /root/dog-breed-classification/dogImages/valid"
      ]
     },
     "execution_count": 19,
     "metadata": {},
     "output_type": "execute_result"
    }
   ],
   "source": [
    "valid_dataset"
   ]
  },
  {
   "cell_type": "code",
   "execution_count": 20,
   "metadata": {
    "tags": []
   },
   "outputs": [
    {
     "data": {
      "text/plain": [
       "Dataset ImageFolder\n",
       "    Number of datapoints: 836\n",
       "    Root location: /root/dog-breed-classification/dogImages/test"
      ]
     },
     "execution_count": 20,
     "metadata": {},
     "output_type": "execute_result"
    }
   ],
   "source": [
    "test_dataset"
   ]
  },
  {
   "cell_type": "code",
   "execution_count": 50,
   "metadata": {
    "tags": []
   },
   "outputs": [
    {
     "name": "stdout",
     "output_type": "stream",
     "text": [
      "total_class: 133\n",
      "{'001.Affenpinscher': 0, '002.Afghan_hound': 1, '003.Airedale_terrier': 2, '004.Akita': 3, '005.Alaskan_malamute': 4, '006.American_eskimo_dog': 5, '007.American_foxhound': 6, '008.American_staffordshire_terrier': 7, '009.American_water_spaniel': 8, '010.Anatolian_shepherd_dog': 9, '011.Australian_cattle_dog': 10, '012.Australian_shepherd': 11, '013.Australian_terrier': 12, '014.Basenji': 13, '015.Basset_hound': 14, '016.Beagle': 15, '017.Bearded_collie': 16, '018.Beauceron': 17, '019.Bedlington_terrier': 18, '020.Belgian_malinois': 19, '021.Belgian_sheepdog': 20, '022.Belgian_tervuren': 21, '023.Bernese_mountain_dog': 22, '024.Bichon_frise': 23, '025.Black_and_tan_coonhound': 24, '026.Black_russian_terrier': 25, '027.Bloodhound': 26, '028.Bluetick_coonhound': 27, '029.Border_collie': 28, '030.Border_terrier': 29, '031.Borzoi': 30, '032.Boston_terrier': 31, '033.Bouvier_des_flandres': 32, '034.Boxer': 33, '035.Boykin_spaniel': 34, '036.Briard': 35, '037.Brittany': 36, '038.Brussels_griffon': 37, '039.Bull_terrier': 38, '040.Bulldog': 39, '041.Bullmastiff': 40, '042.Cairn_terrier': 41, '043.Canaan_dog': 42, '044.Cane_corso': 43, '045.Cardigan_welsh_corgi': 44, '046.Cavalier_king_charles_spaniel': 45, '047.Chesapeake_bay_retriever': 46, '048.Chihuahua': 47, '049.Chinese_crested': 48, '050.Chinese_shar-pei': 49, '051.Chow_chow': 50, '052.Clumber_spaniel': 51, '053.Cocker_spaniel': 52, '054.Collie': 53, '055.Curly-coated_retriever': 54, '056.Dachshund': 55, '057.Dalmatian': 56, '058.Dandie_dinmont_terrier': 57, '059.Doberman_pinscher': 58, '060.Dogue_de_bordeaux': 59, '061.English_cocker_spaniel': 60, '062.English_setter': 61, '063.English_springer_spaniel': 62, '064.English_toy_spaniel': 63, '065.Entlebucher_mountain_dog': 64, '066.Field_spaniel': 65, '067.Finnish_spitz': 66, '068.Flat-coated_retriever': 67, '069.French_bulldog': 68, '070.German_pinscher': 69, '071.German_shepherd_dog': 70, '072.German_shorthaired_pointer': 71, '073.German_wirehaired_pointer': 72, '074.Giant_schnauzer': 73, '075.Glen_of_imaal_terrier': 74, '076.Golden_retriever': 75, '077.Gordon_setter': 76, '078.Great_dane': 77, '079.Great_pyrenees': 78, '080.Greater_swiss_mountain_dog': 79, '081.Greyhound': 80, '082.Havanese': 81, '083.Ibizan_hound': 82, '084.Icelandic_sheepdog': 83, '085.Irish_red_and_white_setter': 84, '086.Irish_setter': 85, '087.Irish_terrier': 86, '088.Irish_water_spaniel': 87, '089.Irish_wolfhound': 88, '090.Italian_greyhound': 89, '091.Japanese_chin': 90, '092.Keeshond': 91, '093.Kerry_blue_terrier': 92, '094.Komondor': 93, '095.Kuvasz': 94, '096.Labrador_retriever': 95, '097.Lakeland_terrier': 96, '098.Leonberger': 97, '099.Lhasa_apso': 98, '100.Lowchen': 99, '101.Maltese': 100, '102.Manchester_terrier': 101, '103.Mastiff': 102, '104.Miniature_schnauzer': 103, '105.Neapolitan_mastiff': 104, '106.Newfoundland': 105, '107.Norfolk_terrier': 106, '108.Norwegian_buhund': 107, '109.Norwegian_elkhound': 108, '110.Norwegian_lundehund': 109, '111.Norwich_terrier': 110, '112.Nova_scotia_duck_tolling_retriever': 111, '113.Old_english_sheepdog': 112, '114.Otterhound': 113, '115.Papillon': 114, '116.Parson_russell_terrier': 115, '117.Pekingese': 116, '118.Pembroke_welsh_corgi': 117, '119.Petit_basset_griffon_vendeen': 118, '120.Pharaoh_hound': 119, '121.Plott': 120, '122.Pointer': 121, '123.Pomeranian': 122, '124.Poodle': 123, '125.Portuguese_water_dog': 124, '126.Saint_bernard': 125, '127.Silky_terrier': 126, '128.Smooth_fox_terrier': 127, '129.Tibetan_mastiff': 128, '130.Welsh_springer_spaniel': 129, '131.Wirehaired_pointing_griffon': 130, '132.Xoloitzcuintli': 131, '133.Yorkshire_terrier': 132}\n"
     ]
    }
   ],
   "source": [
    "print(f\"total_class: {len(train_dataset.classes)}\")\n",
    "print(train_dataset.class_to_idx)"
   ]
  },
  {
   "cell_type": "markdown",
   "metadata": {},
   "source": [
    "There're **133 classes** (dog breeds) with index 0 to 132"
   ]
  },
  {
   "cell_type": "code",
   "execution_count": 54,
   "metadata": {
    "tags": []
   },
   "outputs": [
    {
     "data": {
      "text/plain": [
       "{'001.Affenpinscher': 64,\n",
       " '002.Afghan_hound': 58,\n",
       " '003.Airedale_terrier': 52,\n",
       " '004.Akita': 63,\n",
       " '005.Alaskan_malamute': 77,\n",
       " '006.American_eskimo_dog': 64,\n",
       " '007.American_foxhound': 50,\n",
       " '008.American_staffordshire_terrier': 66,\n",
       " '009.American_water_spaniel': 34,\n",
       " '010.Anatolian_shepherd_dog': 50,\n",
       " '011.Australian_cattle_dog': 66,\n",
       " '012.Australian_shepherd': 66,\n",
       " '013.Australian_terrier': 46,\n",
       " '014.Basenji': 69,\n",
       " '015.Basset_hound': 73,\n",
       " '016.Beagle': 59,\n",
       " '017.Bearded_collie': 62,\n",
       " '018.Beauceron': 50,\n",
       " '019.Bedlington_terrier': 48,\n",
       " '020.Belgian_malinois': 62,\n",
       " '021.Belgian_sheepdog': 64,\n",
       " '022.Belgian_tervuren': 47,\n",
       " '023.Bernese_mountain_dog': 65,\n",
       " '024.Bichon_frise': 62,\n",
       " '025.Black_and_tan_coonhound': 37,\n",
       " '026.Black_russian_terrier': 41,\n",
       " '027.Bloodhound': 64,\n",
       " '028.Bluetick_coonhound': 35,\n",
       " '029.Border_collie': 74,\n",
       " '030.Border_terrier': 52,\n",
       " '031.Borzoi': 56,\n",
       " '032.Boston_terrier': 65,\n",
       " '033.Bouvier_des_flandres': 45,\n",
       " '034.Boxer': 64,\n",
       " '035.Boykin_spaniel': 53,\n",
       " '036.Briard': 65,\n",
       " '037.Brittany': 50,\n",
       " '038.Brussels_griffon': 57,\n",
       " '039.Bull_terrier': 69,\n",
       " '040.Bulldog': 53,\n",
       " '041.Bullmastiff': 69,\n",
       " '042.Cairn_terrier': 63,\n",
       " '043.Canaan_dog': 50,\n",
       " '044.Cane_corso': 64,\n",
       " '045.Cardigan_welsh_corgi': 53,\n",
       " '046.Cavalier_king_charles_spaniel': 67,\n",
       " '047.Chesapeake_bay_retriever': 54,\n",
       " '048.Chihuahua': 54,\n",
       " '049.Chinese_crested': 50,\n",
       " '050.Chinese_shar-pei': 50,\n",
       " '051.Chow_chow': 62,\n",
       " '052.Clumber_spaniel': 49,\n",
       " '053.Cocker_spaniel': 47,\n",
       " '054.Collie': 57,\n",
       " '055.Curly-coated_retriever': 50,\n",
       " '056.Dachshund': 65,\n",
       " '057.Dalmatian': 71,\n",
       " '058.Dandie_dinmont_terrier': 50,\n",
       " '059.Doberman_pinscher': 47,\n",
       " '060.Dogue_de_bordeaux': 60,\n",
       " '061.English_cocker_spaniel': 61,\n",
       " '062.English_setter': 53,\n",
       " '063.English_springer_spaniel': 53,\n",
       " '064.English_toy_spaniel': 39,\n",
       " '065.Entlebucher_mountain_dog': 42,\n",
       " '066.Field_spaniel': 33,\n",
       " '067.Finnish_spitz': 34,\n",
       " '068.Flat-coated_retriever': 63,\n",
       " '069.French_bulldog': 51,\n",
       " '070.German_pinscher': 47,\n",
       " '071.German_shepherd_dog': 62,\n",
       " '072.German_shorthaired_pointer': 48,\n",
       " '073.German_wirehaired_pointer': 42,\n",
       " '074.Giant_schnauzer': 41,\n",
       " '075.Glen_of_imaal_terrier': 44,\n",
       " '076.Golden_retriever': 64,\n",
       " '077.Gordon_setter': 43,\n",
       " '078.Great_dane': 40,\n",
       " '079.Great_pyrenees': 59,\n",
       " '080.Greater_swiss_mountain_dog': 46,\n",
       " '081.Greyhound': 56,\n",
       " '082.Havanese': 61,\n",
       " '083.Ibizan_hound': 46,\n",
       " '084.Icelandic_sheepdog': 50,\n",
       " '085.Irish_red_and_white_setter': 37,\n",
       " '086.Irish_setter': 53,\n",
       " '087.Irish_terrier': 66,\n",
       " '088.Irish_water_spaniel': 51,\n",
       " '089.Irish_wolfhound': 53,\n",
       " '090.Italian_greyhound': 58,\n",
       " '091.Japanese_chin': 57,\n",
       " '092.Keeshond': 44,\n",
       " '093.Kerry_blue_terrier': 35,\n",
       " '094.Komondor': 44,\n",
       " '095.Kuvasz': 49,\n",
       " '096.Labrador_retriever': 43,\n",
       " '097.Lakeland_terrier': 50,\n",
       " '098.Leonberger': 46,\n",
       " '099.Lhasa_apso': 42,\n",
       " '100.Lowchen': 34,\n",
       " '101.Maltese': 48,\n",
       " '102.Manchester_terrier': 29,\n",
       " '103.Mastiff': 58,\n",
       " '104.Miniature_schnauzer': 42,\n",
       " '105.Neapolitan_mastiff': 31,\n",
       " '106.Newfoundland': 50,\n",
       " '107.Norfolk_terrier': 46,\n",
       " '108.Norwegian_buhund': 26,\n",
       " '109.Norwegian_elkhound': 45,\n",
       " '110.Norwegian_lundehund': 33,\n",
       " '111.Norwich_terrier': 44,\n",
       " '112.Nova_scotia_duck_tolling_retriever': 54,\n",
       " '113.Old_english_sheepdog': 39,\n",
       " '114.Otterhound': 35,\n",
       " '115.Papillon': 63,\n",
       " '116.Parson_russell_terrier': 30,\n",
       " '117.Pekingese': 48,\n",
       " '118.Pembroke_welsh_corgi': 53,\n",
       " '119.Petit_basset_griffon_vendeen': 31,\n",
       " '120.Pharaoh_hound': 39,\n",
       " '121.Plott': 28,\n",
       " '122.Pointer': 32,\n",
       " '123.Pomeranian': 44,\n",
       " '124.Poodle': 50,\n",
       " '125.Portuguese_water_dog': 34,\n",
       " '126.Saint_bernard': 30,\n",
       " '127.Silky_terrier': 41,\n",
       " '128.Smooth_fox_terrier': 30,\n",
       " '129.Tibetan_mastiff': 48,\n",
       " '130.Welsh_springer_spaniel': 44,\n",
       " '131.Wirehaired_pointing_griffon': 30,\n",
       " '132.Xoloitzcuintli': 26,\n",
       " '133.Yorkshire_terrier': 30}"
      ]
     },
     "execution_count": 54,
     "metadata": {},
     "output_type": "execute_result"
    }
   ],
   "source": [
    "# get total sample of each class\n",
    "class_dist = get_class_distribution(train_dataset)\n",
    "class_dist"
   ]
  },
  {
   "cell_type": "markdown",
   "metadata": {
    "tags": []
   },
   "source": [
    "## Hyperparameter Tuning\n",
    "**TODO:** This is the part where you will finetune a pretrained model with hyperparameter tuning. Remember that you have to tune a minimum of two hyperparameters. However you are encouraged to tune more. You are also encouraged to explain why you chose to tune those particular hyperparameters and the ranges.\n",
    "\n",
    "**Note:** You will need to use the `hpo.py` script to perform hyperparameter tuning."
   ]
  },
  {
   "cell_type": "markdown",
   "metadata": {},
   "source": [
    "lorem ipsum"
   ]
  },
  {
   "cell_type": "code",
   "execution_count": 55,
   "metadata": {},
   "outputs": [],
   "source": [
    "role = sagemaker.get_execution_role()\n",
    "\n",
    "#TODO: Declare your HP ranges, metrics etc.\n",
    "hyperparameter_ranges = {\n",
    "    \"epochs\": IntegerParameter(3, 5),\n",
    "    \"learning_rate\": ContinuousParameter(0.001, 0.1),\n",
    "    \"step_size\": IntegerParameter(3, 5),\n",
    "    \"gamma\": ContinuousParameter(0.001, 0.1),\n",
    "    \"batch_size\": CategoricalParameter([32, 64, 128, 256, 512]),\n",
    "}"
   ]
  },
  {
   "cell_type": "code",
   "execution_count": 12,
   "metadata": {
    "tags": []
   },
   "outputs": [],
   "source": [
    "#TODO: Create estimators for your HPs\n",
    "# TODO: Your estimator here\n",
    "estimator = PyTorch(\n",
    "    entry_point=\"hpo.py\",\n",
    "    role=role,\n",
    "    instance_type=\"ml.g4dn.xlarge\",\n",
    "    instance_count=1,\n",
    "    framework_version=\"1.12\",\n",
    "    py_version=\"py38\",\n",
    ")"
   ]
  },
  {
   "cell_type": "code",
   "execution_count": 15,
   "metadata": {},
   "outputs": [],
   "source": [
    "# TODO: Your HP tuner here\n",
    "tuner = HyperparameterTuner(\n",
    "    estimator=estimator,\n",
    "    hyperparameter_ranges=hyperparameter_ranges,\n",
    "    max_jobs=5,\n",
    "    max_parallel_jobs=2,\n",
    "    objective_metric_name=\"test accucary\",\n",
    "    objective_type=\"Maximize\",\n",
    "    metric_definitions=[{\"Name\": \"test accucary\", \"Regex\": \"test_accuracy: ([0-9\\\\.]+)\"}],\n",
    "    early_stopping_type='Auto',\n",
    ")"
   ]
  },
  {
   "cell_type": "code",
   "execution_count": 16,
   "metadata": {
    "tags": []
   },
   "outputs": [
    {
     "name": "stderr",
     "output_type": "stream",
     "text": [
      "No finished training job found associated with this estimator. Please make sure this estimator is only used for building workflow config\n",
      "No finished training job found associated with this estimator. Please make sure this estimator is only used for building workflow config\n"
     ]
    },
    {
     "name": "stdout",
     "output_type": "stream",
     "text": [
      ".........................................................................................................................................................................................................................................................................................................!\n"
     ]
    }
   ],
   "source": [
    "# TODO: Fit your HP Tuner\n",
    "# TODO: Remember to include your data channels\n",
    "tuner.fit({\n",
    "    \"train\": \"s3://sagemaker-us-east-1-022926224205/dog-breed-project/data/train/\",\n",
    "    \"valid\": \"s3://sagemaker-us-east-1-022926224205/dog-breed-project/data/valid/\",\n",
    "    \"test\": \"s3://sagemaker-us-east-1-022926224205/dog-breed-project/data/test/\"\n",
    "})"
   ]
  },
  {
   "cell_type": "code",
   "execution_count": 18,
   "metadata": {},
   "outputs": [
    {
     "name": "stdout",
     "output_type": "stream",
     "text": [
      "\n",
      "2023-01-10 08:53:23 Starting - Preparing the instances for training\n",
      "2023-01-10 08:53:23 Downloading - Downloading input data\n",
      "2023-01-10 08:53:23 Training - Training image download completed. Training in progress.\n",
      "2023-01-10 08:53:23 Uploading - Uploading generated training model\n",
      "2023-01-10 08:53:23 Completed - Resource reused by training job: pytorch-training-230110-0841-004-c4d1afde\n"
     ]
    },
    {
     "data": {
      "text/plain": [
       "{'_tuning_objective_metric': '\"test accucary\"',\n",
       " 'batch_size': '\"64\"',\n",
       " 'epochs': '4',\n",
       " 'gamma': '0.05764456565718428',\n",
       " 'learning_rate': '0.00968994167901433',\n",
       " 'sagemaker_container_log_level': '20',\n",
       " 'sagemaker_estimator_class_name': '\"PyTorch\"',\n",
       " 'sagemaker_estimator_module': '\"sagemaker.pytorch.estimator\"',\n",
       " 'sagemaker_job_name': '\"pytorch-training-2023-01-10-08-41-44-936\"',\n",
       " 'sagemaker_program': '\"hpo.py\"',\n",
       " 'sagemaker_region': '\"us-east-1\"',\n",
       " 'sagemaker_submit_directory': '\"s3://sagemaker-us-east-1-022926224205/pytorch-training-2023-01-10-08-41-44-936/source/sourcedir.tar.gz\"',\n",
       " 'step_size': '4'}"
      ]
     },
     "execution_count": 18,
     "metadata": {},
     "output_type": "execute_result"
    }
   ],
   "source": [
    "# TODO: Get the best estimators and the best HPs\n",
    "#TODO\n",
    "best_estimator = tuner.best_estimator()\n",
    "\n",
    "#Get the hyperparameters of the best trained model\n",
    "best_estimator.hyperparameters()"
   ]
  },
  {
   "cell_type": "code",
   "execution_count": 53,
   "metadata": {
    "tags": []
   },
   "outputs": [
    {
     "name": "stdout",
     "output_type": "stream",
     "text": [
      "Number of training jobs with valid objective: 5\n",
      "{'lowest': 0.7834929823875427, 'highest': 0.8122010231018066}\n"
     ]
    },
    {
     "data": {
      "text/html": [
       "<div>\n",
       "<style scoped>\n",
       "    .dataframe tbody tr th:only-of-type {\n",
       "        vertical-align: middle;\n",
       "    }\n",
       "\n",
       "    .dataframe tbody tr th {\n",
       "        vertical-align: top;\n",
       "    }\n",
       "\n",
       "    .dataframe thead th {\n",
       "        text-align: right;\n",
       "    }\n",
       "</style>\n",
       "<table border=\"1\" class=\"dataframe\">\n",
       "  <thead>\n",
       "    <tr style=\"text-align: right;\">\n",
       "      <th></th>\n",
       "      <th>batch_size</th>\n",
       "      <th>epochs</th>\n",
       "      <th>gamma</th>\n",
       "      <th>learning_rate</th>\n",
       "      <th>step_size</th>\n",
       "      <th>TrainingJobName</th>\n",
       "      <th>TrainingJobStatus</th>\n",
       "      <th>FinalObjectiveValue</th>\n",
       "      <th>TrainingStartTime</th>\n",
       "      <th>TrainingEndTime</th>\n",
       "      <th>TrainingElapsedTimeSeconds</th>\n",
       "    </tr>\n",
       "  </thead>\n",
       "  <tbody>\n",
       "    <tr>\n",
       "      <th>3</th>\n",
       "      <td>\"64\"</td>\n",
       "      <td>4.0</td>\n",
       "      <td>0.057645</td>\n",
       "      <td>0.009690</td>\n",
       "      <td>4.0</td>\n",
       "      <td>pytorch-training-230110-0841-002-a6e5503d</td>\n",
       "      <td>Completed</td>\n",
       "      <td>0.812201</td>\n",
       "      <td>2023-01-10 08:42:57+00:00</td>\n",
       "      <td>2023-01-10 08:53:11+00:00</td>\n",
       "      <td>614.0</td>\n",
       "    </tr>\n",
       "    <tr>\n",
       "      <th>2</th>\n",
       "      <td>\"256\"</td>\n",
       "      <td>4.0</td>\n",
       "      <td>0.061777</td>\n",
       "      <td>0.046865</td>\n",
       "      <td>4.0</td>\n",
       "      <td>pytorch-training-230110-0841-003-3e5583ae</td>\n",
       "      <td>Completed</td>\n",
       "      <td>0.801435</td>\n",
       "      <td>2023-01-10 08:52:10+00:00</td>\n",
       "      <td>2023-01-10 08:59:13+00:00</td>\n",
       "      <td>423.0</td>\n",
       "    </tr>\n",
       "    <tr>\n",
       "      <th>1</th>\n",
       "      <td>\"32\"</td>\n",
       "      <td>5.0</td>\n",
       "      <td>0.002436</td>\n",
       "      <td>0.009374</td>\n",
       "      <td>4.0</td>\n",
       "      <td>pytorch-training-230110-0841-004-c4d1afde</td>\n",
       "      <td>Stopped</td>\n",
       "      <td>0.793062</td>\n",
       "      <td>2023-01-10 08:53:25+00:00</td>\n",
       "      <td>2023-01-10 09:00:18+00:00</td>\n",
       "      <td>413.0</td>\n",
       "    </tr>\n",
       "    <tr>\n",
       "      <th>4</th>\n",
       "      <td>\"32\"</td>\n",
       "      <td>3.0</td>\n",
       "      <td>0.011719</td>\n",
       "      <td>0.013154</td>\n",
       "      <td>4.0</td>\n",
       "      <td>pytorch-training-230110-0841-001-08e643ba</td>\n",
       "      <td>Completed</td>\n",
       "      <td>0.789474</td>\n",
       "      <td>2023-01-10 08:42:58+00:00</td>\n",
       "      <td>2023-01-10 08:51:22+00:00</td>\n",
       "      <td>504.0</td>\n",
       "    </tr>\n",
       "    <tr>\n",
       "      <th>0</th>\n",
       "      <td>\"512\"</td>\n",
       "      <td>4.0</td>\n",
       "      <td>0.007329</td>\n",
       "      <td>0.001621</td>\n",
       "      <td>3.0</td>\n",
       "      <td>pytorch-training-230110-0841-005-bfb0ceec</td>\n",
       "      <td>Stopped</td>\n",
       "      <td>0.783493</td>\n",
       "      <td>2023-01-10 08:59:34+00:00</td>\n",
       "      <td>2023-01-10 09:06:38+00:00</td>\n",
       "      <td>424.0</td>\n",
       "    </tr>\n",
       "  </tbody>\n",
       "</table>\n",
       "</div>"
      ],
      "text/plain": [
       "  batch_size  epochs     gamma  learning_rate  step_size  \\\n",
       "3       \"64\"     4.0  0.057645       0.009690        4.0   \n",
       "2      \"256\"     4.0  0.061777       0.046865        4.0   \n",
       "1       \"32\"     5.0  0.002436       0.009374        4.0   \n",
       "4       \"32\"     3.0  0.011719       0.013154        4.0   \n",
       "0      \"512\"     4.0  0.007329       0.001621        3.0   \n",
       "\n",
       "                             TrainingJobName TrainingJobStatus  \\\n",
       "3  pytorch-training-230110-0841-002-a6e5503d         Completed   \n",
       "2  pytorch-training-230110-0841-003-3e5583ae         Completed   \n",
       "1  pytorch-training-230110-0841-004-c4d1afde           Stopped   \n",
       "4  pytorch-training-230110-0841-001-08e643ba         Completed   \n",
       "0  pytorch-training-230110-0841-005-bfb0ceec           Stopped   \n",
       "\n",
       "   FinalObjectiveValue         TrainingStartTime           TrainingEndTime  \\\n",
       "3             0.812201 2023-01-10 08:42:57+00:00 2023-01-10 08:53:11+00:00   \n",
       "2             0.801435 2023-01-10 08:52:10+00:00 2023-01-10 08:59:13+00:00   \n",
       "1             0.793062 2023-01-10 08:53:25+00:00 2023-01-10 09:00:18+00:00   \n",
       "4             0.789474 2023-01-10 08:42:58+00:00 2023-01-10 08:51:22+00:00   \n",
       "0             0.783493 2023-01-10 08:59:34+00:00 2023-01-10 09:06:38+00:00   \n",
       "\n",
       "   TrainingElapsedTimeSeconds  \n",
       "3                       614.0  \n",
       "2                       423.0  \n",
       "1                       413.0  \n",
       "4                       504.0  \n",
       "0                       424.0  "
      ]
     },
     "execution_count": 53,
     "metadata": {},
     "output_type": "execute_result"
    }
   ],
   "source": [
    "# Get results from HPO\n",
    "import pandas as pd\n",
    "\n",
    "tuning_job_name = tuner.latest_tuning_job.name\n",
    "tuner_results = sagemaker.HyperparameterTuningJobAnalytics(tuning_job_name)\n",
    "# Get the results as a dataframe\n",
    "full_df = tuner_results.dataframe()\n",
    "##Display results sorted by objective metric values\n",
    "if len(full_df) > 0:\n",
    "    df = full_df[full_df[\"FinalObjectiveValue\"] > -float(\"inf\")]\n",
    "    if len(df) > 0:\n",
    "        df = df.sort_values(\"FinalObjectiveValue\", ascending=False)\n",
    "        print(\"Number of training jobs with valid objective: %d\" % len(df))\n",
    "        print({\"lowest\": min(df[\"FinalObjectiveValue\"]), \"highest\": max(df[\"FinalObjectiveValue\"])})\n",
    "        pd.set_option(\"display.max_colwidth\", None)  # Don't truncate TrainingJobName\n",
    "    else:\n",
    "        print(\"No training jobs have reported valid results yet.\")\n",
    "\n",
    "df"
   ]
  },
  {
   "cell_type": "markdown",
   "metadata": {},
   "source": [
    "## Model Profiling and Debugging\n",
    "TODO: Using the best hyperparameters, create and finetune a new model\n",
    "\n",
    "**Note:** You will need to use the `train_model.py` script to perform model profiling and debugging."
   ]
  },
  {
   "cell_type": "code",
   "execution_count": null,
   "metadata": {},
   "outputs": [],
   "source": [
    "# TODO: Set up debugging and profiling rules and hooks"
   ]
  },
  {
   "cell_type": "code",
   "execution_count": null,
   "metadata": {},
   "outputs": [],
   "source": [
    "# TODO: Create and fit an estimator\n",
    "\n",
    "estimator = # TODO: Your estimator here"
   ]
  },
  {
   "cell_type": "code",
   "execution_count": null,
   "metadata": {},
   "outputs": [],
   "source": [
    "# TODO: Plot a debugging output."
   ]
  },
  {
   "cell_type": "markdown",
   "metadata": {},
   "source": [
    "**TODO**: Is there some anomalous behaviour in your debugging output? If so, what is the error and how will you fix it?  \n",
    "**TODO**: If not, suppose there was an error. What would that error look like and how would you have fixed it?"
   ]
  },
  {
   "cell_type": "code",
   "execution_count": null,
   "metadata": {},
   "outputs": [],
   "source": [
    "# TODO: Display the profiler output"
   ]
  },
  {
   "cell_type": "markdown",
   "metadata": {},
   "source": [
    "## Model Deploying"
   ]
  },
  {
   "cell_type": "code",
   "execution_count": null,
   "metadata": {},
   "outputs": [],
   "source": [
    "# TODO: Deploy your model to an endpoint\n",
    "\n",
    "predictor=estimator.deploy() # TODO: Add your deployment configuration like instance type and number of instances"
   ]
  },
  {
   "cell_type": "code",
   "execution_count": null,
   "metadata": {},
   "outputs": [],
   "source": [
    "# TODO: Run an prediction on the endpoint\n",
    "\n",
    "image = # TODO: Your code to load and preprocess image to send to endpoint for prediction\n",
    "response = predictor.predict(image)"
   ]
  },
  {
   "cell_type": "code",
   "execution_count": null,
   "metadata": {},
   "outputs": [],
   "source": [
    "# TODO: Remember to shutdown/delete your endpoint once your work is done\n",
    "predictor.delete_endpoint()"
   ]
  },
  {
   "cell_type": "code",
   "execution_count": null,
   "metadata": {},
   "outputs": [],
   "source": []
  }
 ],
 "metadata": {
  "instance_type": "ml.t3.medium",
  "kernelspec": {
   "display_name": "Python 3 (Data Science 2.0)",
   "language": "python",
   "name": "python3__SAGEMAKER_INTERNAL__arn:aws:sagemaker:us-east-1:081325390199:image/sagemaker-data-science-38"
  },
  "language_info": {
   "codemirror_mode": {
    "name": "ipython",
    "version": 3
   },
   "file_extension": ".py",
   "mimetype": "text/x-python",
   "name": "python",
   "nbconvert_exporter": "python",
   "pygments_lexer": "ipython3",
   "version": "3.8.13"
  }
 },
 "nbformat": 4,
 "nbformat_minor": 4
}
