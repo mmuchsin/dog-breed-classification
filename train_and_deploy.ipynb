{
 "cells": [
  {
   "cell_type": "markdown",
   "metadata": {},
   "source": [
    "# TODO: Title\n",
    "\n",
    "This notebook lists all the steps that you need to complete the complete this project. You will need to complete all the TODOs in this notebook as well as in the README and the two python scripts included with the starter code.\n",
    "\n",
    "\n",
    "**TODO**: Give a helpful introduction to what this notebook is for. Remember that comments, explanations and good documentation make your project informative and professional.\n",
    "\n",
    "**Note:** This notebook has a bunch of code and markdown cells with TODOs that you have to complete. These are meant to be helpful guidelines for you to finish your project while meeting the requirements in the project rubrics. Feel free to change the order of these the TODO\"s and use more than one TODO code cell to do all your tasks."
   ]
  },
  {
   "cell_type": "markdown",
   "metadata": {
    "tags": []
   },
   "source": [
    "# Overview\n",
    "This notebook outlines the process for an end-to-end image classification project, utilizing the resources and capabilities of AWS Sagemaker. The objective of this project is to create a deep learning model that is capable of identifying 133 different breeds of dogs. This project will use [Pytorch](https://pytorch.org/) as a deep learning framework and [Resnet50](https://pytorch.org/vision/main/models/generated/torchvision.models.resnet50.html) as a pre-trained model.\n",
    "\n",
    "# Project Pipeline\n",
    "<div align='left'>\n",
    "   <img src=\"./src/img/project-diagrams.png\" alt=\"pipeline\"style=\"width: 350px;\"/>\n",
    "</div>\n"
   ]
  },
  {
   "cell_type": "code",
   "execution_count": 3,
   "metadata": {
    "scrolled": true
   },
   "outputs": [],
   "source": [
    "# TODO: Install any packages that you might need\n",
    "# For instance, you will need the smdebug package\n",
    "!pip -qq install smdebug"
   ]
  },
  {
   "cell_type": "code",
   "execution_count": 32,
   "metadata": {},
   "outputs": [
    {
     "name": "stderr",
     "output_type": "stream",
     "text": [
      "/opt/conda/lib/python3.8/site-packages/tqdm/auto.py:22: TqdmWarning: IProgress not found. Please update jupyter and ipywidgets. See https://ipywidgets.readthedocs.io/en/stable/user_install.html\n",
      "  from .autonotebook import tqdm as notebook_tqdm\n"
     ]
    },
    {
     "name": "stdout",
     "output_type": "stream",
     "text": [
      "[2023-01-11 11:30:04.234 pytorch-1-12-gpu-py38-ml-t3-medium-5c243b1aae6a0c39c0e73a7744b4:397 INFO utils.py:27] RULE_JOB_STOP_SIGNAL_FILENAME: None\n"
     ]
    }
   ],
   "source": [
    "# TODO: Import any packages that you might need\n",
    "# For instance you will need Boto3 and Sagemaker\n",
    "import sagemaker\n",
    "import boto3\n",
    "\n",
    "from sagemaker.session import Session\n",
    "from sagemaker.inputs import TrainingInput\n",
    "from sagemaker.pytorch import PyTorch\n",
    "from smdebug.trials import create_trial\n",
    "from smdebug.core.modes import ModeKeys\n",
    "from sagemaker.tuner import (\n",
    "    IntegerParameter,\n",
    "    CategoricalParameter,\n",
    "    ContinuousParameter,\n",
    "    HyperparameterTuner,\n",
    ")\n",
    "\n",
    "from sagemaker.debugger import(\n",
    "    DebuggerHookConfig,\n",
    "    ProfilerConfig,\n",
    "    FrameworkProfile,\n",
    "    Rule,\n",
    "    ProfilerRule,\n",
    "    rule_configs\n",
    ")"
   ]
  },
  {
   "cell_type": "markdown",
   "metadata": {},
   "source": [
    "## Dataset\n",
    "TODO: Explain what dataset you are using for this project. Maybe even give a small overview of the classes, class distributions etc that can help anyone not familiar with the dataset get a better understand of it."
   ]
  },
  {
   "cell_type": "markdown",
   "metadata": {},
   "source": [
    "This project use dog breeds image datasets from [here](https://s3-us-west-1.amazonaws.com/udacity-aind/dog-project/dogImages.zip). The datasets have been split to train, validation, and test set. The train set contains 6680 images divided into 133 classes corresponding to the dog breeds. The validation set contains 835 images and the test set contains 836 images. Both the validation set and test set have images for each class to check model performance."
   ]
  },
  {
   "cell_type": "code",
   "execution_count": 4,
   "metadata": {},
   "outputs": [
    {
     "name": "stdout",
     "output_type": "stream",
     "text": [
      "File ‘dogImages.zip’ already there; not retrieving.\n",
      "\n"
     ]
    }
   ],
   "source": [
    "#TODO: Fetch and upload the data to AWS S3\n",
    "\n",
    "# Command to download and unzip data\n",
    "! wget -nc https://s3-us-west-1.amazonaws.com/udacity-aind/dog-project/dogImages.zip\n",
    "! unzip -qq dogImages.zip"
   ]
  },
  {
   "cell_type": "code",
   "execution_count": 10,
   "metadata": {
    "tags": []
   },
   "outputs": [],
   "source": [
    "! aws s3 sync /root/dog-breed-classification/dogImages s3://sagemaker-us-east-1-022926224205/dog-breed-project/data/"
   ]
  },
  {
   "cell_type": "code",
   "execution_count": 13,
   "metadata": {
    "tags": []
   },
   "outputs": [
    {
     "data": {
      "text/plain": [
       "['test', 'valid', 'train']"
      ]
     },
     "execution_count": 13,
     "metadata": {},
     "output_type": "execute_result"
    }
   ],
   "source": [
    "import os\n",
    "\n",
    "os.listdir(\"/root/dog-breed-classification/dogImages/\")"
   ]
  },
  {
   "cell_type": "markdown",
   "metadata": {},
   "source": [
    "the dataset already splitted to test, valid, and train"
   ]
  },
  {
   "cell_type": "code",
   "execution_count": 4,
   "metadata": {
    "tags": []
   },
   "outputs": [
    {
     "name": "stderr",
     "output_type": "stream",
     "text": [
      "/opt/conda/lib/python3.8/site-packages/tqdm/auto.py:22: TqdmWarning: IProgress not found. Please update jupyter and ipywidgets. See https://ipywidgets.readthedocs.io/en/stable/user_install.html\n",
      "  from .autonotebook import tqdm as notebook_tqdm\n"
     ]
    }
   ],
   "source": [
    "import pandas as pd\n",
    "import torchvision\n",
    "from PIL import ImageFile\n",
    "\n",
    "%matplotlib inline\n",
    "ImageFile.LOAD_TRUNCATED_IMAGES = True\n",
    "\n",
    "train_dataset = torchvision.datasets.ImageFolder(\"~/dog-breed-classification/dogImages/train\")\n",
    "valid_dataset = torchvision.datasets.ImageFolder(\"~/dog-breed-classification/dogImages/valid\")\n",
    "test_dataset = torchvision.datasets.ImageFolder(\"~/dog-breed-classification/dogImages/test\")\n",
    "\n",
    "def get_class_distribution(dataset_obj):\n",
    "    idx2class = {v: k for k, v in dataset_obj.class_to_idx.items()}\n",
    "    count_dict = {k:0 for k,v in dataset_obj.class_to_idx.items()}\n",
    "    for _, label_id in dataset_obj:\n",
    "        label = idx2class[label_id]\n",
    "        count_dict[label] += 1\n",
    "    return count_dict"
   ]
  },
  {
   "cell_type": "code",
   "execution_count": 17,
   "metadata": {
    "tags": []
   },
   "outputs": [
    {
     "data": {
      "text/plain": [
       "Dataset ImageFolder\n",
       "    Number of datapoints: 6680\n",
       "    Root location: /root/dog-breed-classification/dogImages/train"
      ]
     },
     "execution_count": 17,
     "metadata": {},
     "output_type": "execute_result"
    }
   ],
   "source": [
    "train_dataset"
   ]
  },
  {
   "cell_type": "code",
   "execution_count": 19,
   "metadata": {
    "tags": []
   },
   "outputs": [
    {
     "data": {
      "text/plain": [
       "Dataset ImageFolder\n",
       "    Number of datapoints: 835\n",
       "    Root location: /root/dog-breed-classification/dogImages/valid"
      ]
     },
     "execution_count": 19,
     "metadata": {},
     "output_type": "execute_result"
    }
   ],
   "source": [
    "valid_dataset"
   ]
  },
  {
   "cell_type": "code",
   "execution_count": 20,
   "metadata": {
    "tags": []
   },
   "outputs": [
    {
     "data": {
      "text/plain": [
       "Dataset ImageFolder\n",
       "    Number of datapoints: 836\n",
       "    Root location: /root/dog-breed-classification/dogImages/test"
      ]
     },
     "execution_count": 20,
     "metadata": {},
     "output_type": "execute_result"
    }
   ],
   "source": [
    "test_dataset"
   ]
  },
  {
   "cell_type": "code",
   "execution_count": 50,
   "metadata": {
    "tags": []
   },
   "outputs": [
    {
     "name": "stdout",
     "output_type": "stream",
     "text": [
      "total_class: 133\n",
      "{'001.Affenpinscher': 0, '002.Afghan_hound': 1, '003.Airedale_terrier': 2, '004.Akita': 3, '005.Alaskan_malamute': 4, '006.American_eskimo_dog': 5, '007.American_foxhound': 6, '008.American_staffordshire_terrier': 7, '009.American_water_spaniel': 8, '010.Anatolian_shepherd_dog': 9, '011.Australian_cattle_dog': 10, '012.Australian_shepherd': 11, '013.Australian_terrier': 12, '014.Basenji': 13, '015.Basset_hound': 14, '016.Beagle': 15, '017.Bearded_collie': 16, '018.Beauceron': 17, '019.Bedlington_terrier': 18, '020.Belgian_malinois': 19, '021.Belgian_sheepdog': 20, '022.Belgian_tervuren': 21, '023.Bernese_mountain_dog': 22, '024.Bichon_frise': 23, '025.Black_and_tan_coonhound': 24, '026.Black_russian_terrier': 25, '027.Bloodhound': 26, '028.Bluetick_coonhound': 27, '029.Border_collie': 28, '030.Border_terrier': 29, '031.Borzoi': 30, '032.Boston_terrier': 31, '033.Bouvier_des_flandres': 32, '034.Boxer': 33, '035.Boykin_spaniel': 34, '036.Briard': 35, '037.Brittany': 36, '038.Brussels_griffon': 37, '039.Bull_terrier': 38, '040.Bulldog': 39, '041.Bullmastiff': 40, '042.Cairn_terrier': 41, '043.Canaan_dog': 42, '044.Cane_corso': 43, '045.Cardigan_welsh_corgi': 44, '046.Cavalier_king_charles_spaniel': 45, '047.Chesapeake_bay_retriever': 46, '048.Chihuahua': 47, '049.Chinese_crested': 48, '050.Chinese_shar-pei': 49, '051.Chow_chow': 50, '052.Clumber_spaniel': 51, '053.Cocker_spaniel': 52, '054.Collie': 53, '055.Curly-coated_retriever': 54, '056.Dachshund': 55, '057.Dalmatian': 56, '058.Dandie_dinmont_terrier': 57, '059.Doberman_pinscher': 58, '060.Dogue_de_bordeaux': 59, '061.English_cocker_spaniel': 60, '062.English_setter': 61, '063.English_springer_spaniel': 62, '064.English_toy_spaniel': 63, '065.Entlebucher_mountain_dog': 64, '066.Field_spaniel': 65, '067.Finnish_spitz': 66, '068.Flat-coated_retriever': 67, '069.French_bulldog': 68, '070.German_pinscher': 69, '071.German_shepherd_dog': 70, '072.German_shorthaired_pointer': 71, '073.German_wirehaired_pointer': 72, '074.Giant_schnauzer': 73, '075.Glen_of_imaal_terrier': 74, '076.Golden_retriever': 75, '077.Gordon_setter': 76, '078.Great_dane': 77, '079.Great_pyrenees': 78, '080.Greater_swiss_mountain_dog': 79, '081.Greyhound': 80, '082.Havanese': 81, '083.Ibizan_hound': 82, '084.Icelandic_sheepdog': 83, '085.Irish_red_and_white_setter': 84, '086.Irish_setter': 85, '087.Irish_terrier': 86, '088.Irish_water_spaniel': 87, '089.Irish_wolfhound': 88, '090.Italian_greyhound': 89, '091.Japanese_chin': 90, '092.Keeshond': 91, '093.Kerry_blue_terrier': 92, '094.Komondor': 93, '095.Kuvasz': 94, '096.Labrador_retriever': 95, '097.Lakeland_terrier': 96, '098.Leonberger': 97, '099.Lhasa_apso': 98, '100.Lowchen': 99, '101.Maltese': 100, '102.Manchester_terrier': 101, '103.Mastiff': 102, '104.Miniature_schnauzer': 103, '105.Neapolitan_mastiff': 104, '106.Newfoundland': 105, '107.Norfolk_terrier': 106, '108.Norwegian_buhund': 107, '109.Norwegian_elkhound': 108, '110.Norwegian_lundehund': 109, '111.Norwich_terrier': 110, '112.Nova_scotia_duck_tolling_retriever': 111, '113.Old_english_sheepdog': 112, '114.Otterhound': 113, '115.Papillon': 114, '116.Parson_russell_terrier': 115, '117.Pekingese': 116, '118.Pembroke_welsh_corgi': 117, '119.Petit_basset_griffon_vendeen': 118, '120.Pharaoh_hound': 119, '121.Plott': 120, '122.Pointer': 121, '123.Pomeranian': 122, '124.Poodle': 123, '125.Portuguese_water_dog': 124, '126.Saint_bernard': 125, '127.Silky_terrier': 126, '128.Smooth_fox_terrier': 127, '129.Tibetan_mastiff': 128, '130.Welsh_springer_spaniel': 129, '131.Wirehaired_pointing_griffon': 130, '132.Xoloitzcuintli': 131, '133.Yorkshire_terrier': 132}\n"
     ]
    }
   ],
   "source": [
    "print(f\"total_class: {len(train_dataset.classes)}\")\n",
    "print(train_dataset.class_to_idx)"
   ]
  },
  {
   "cell_type": "markdown",
   "metadata": {},
   "source": [
    "There're **133 classes** (dog breeds) with index 0 to 132"
   ]
  },
  {
   "cell_type": "code",
   "execution_count": 54,
   "metadata": {
    "tags": []
   },
   "outputs": [
    {
     "data": {
      "text/plain": [
       "{'001.Affenpinscher': 64,\n",
       " '002.Afghan_hound': 58,\n",
       " '003.Airedale_terrier': 52,\n",
       " '004.Akita': 63,\n",
       " '005.Alaskan_malamute': 77,\n",
       " '006.American_eskimo_dog': 64,\n",
       " '007.American_foxhound': 50,\n",
       " '008.American_staffordshire_terrier': 66,\n",
       " '009.American_water_spaniel': 34,\n",
       " '010.Anatolian_shepherd_dog': 50,\n",
       " '011.Australian_cattle_dog': 66,\n",
       " '012.Australian_shepherd': 66,\n",
       " '013.Australian_terrier': 46,\n",
       " '014.Basenji': 69,\n",
       " '015.Basset_hound': 73,\n",
       " '016.Beagle': 59,\n",
       " '017.Bearded_collie': 62,\n",
       " '018.Beauceron': 50,\n",
       " '019.Bedlington_terrier': 48,\n",
       " '020.Belgian_malinois': 62,\n",
       " '021.Belgian_sheepdog': 64,\n",
       " '022.Belgian_tervuren': 47,\n",
       " '023.Bernese_mountain_dog': 65,\n",
       " '024.Bichon_frise': 62,\n",
       " '025.Black_and_tan_coonhound': 37,\n",
       " '026.Black_russian_terrier': 41,\n",
       " '027.Bloodhound': 64,\n",
       " '028.Bluetick_coonhound': 35,\n",
       " '029.Border_collie': 74,\n",
       " '030.Border_terrier': 52,\n",
       " '031.Borzoi': 56,\n",
       " '032.Boston_terrier': 65,\n",
       " '033.Bouvier_des_flandres': 45,\n",
       " '034.Boxer': 64,\n",
       " '035.Boykin_spaniel': 53,\n",
       " '036.Briard': 65,\n",
       " '037.Brittany': 50,\n",
       " '038.Brussels_griffon': 57,\n",
       " '039.Bull_terrier': 69,\n",
       " '040.Bulldog': 53,\n",
       " '041.Bullmastiff': 69,\n",
       " '042.Cairn_terrier': 63,\n",
       " '043.Canaan_dog': 50,\n",
       " '044.Cane_corso': 64,\n",
       " '045.Cardigan_welsh_corgi': 53,\n",
       " '046.Cavalier_king_charles_spaniel': 67,\n",
       " '047.Chesapeake_bay_retriever': 54,\n",
       " '048.Chihuahua': 54,\n",
       " '049.Chinese_crested': 50,\n",
       " '050.Chinese_shar-pei': 50,\n",
       " '051.Chow_chow': 62,\n",
       " '052.Clumber_spaniel': 49,\n",
       " '053.Cocker_spaniel': 47,\n",
       " '054.Collie': 57,\n",
       " '055.Curly-coated_retriever': 50,\n",
       " '056.Dachshund': 65,\n",
       " '057.Dalmatian': 71,\n",
       " '058.Dandie_dinmont_terrier': 50,\n",
       " '059.Doberman_pinscher': 47,\n",
       " '060.Dogue_de_bordeaux': 60,\n",
       " '061.English_cocker_spaniel': 61,\n",
       " '062.English_setter': 53,\n",
       " '063.English_springer_spaniel': 53,\n",
       " '064.English_toy_spaniel': 39,\n",
       " '065.Entlebucher_mountain_dog': 42,\n",
       " '066.Field_spaniel': 33,\n",
       " '067.Finnish_spitz': 34,\n",
       " '068.Flat-coated_retriever': 63,\n",
       " '069.French_bulldog': 51,\n",
       " '070.German_pinscher': 47,\n",
       " '071.German_shepherd_dog': 62,\n",
       " '072.German_shorthaired_pointer': 48,\n",
       " '073.German_wirehaired_pointer': 42,\n",
       " '074.Giant_schnauzer': 41,\n",
       " '075.Glen_of_imaal_terrier': 44,\n",
       " '076.Golden_retriever': 64,\n",
       " '077.Gordon_setter': 43,\n",
       " '078.Great_dane': 40,\n",
       " '079.Great_pyrenees': 59,\n",
       " '080.Greater_swiss_mountain_dog': 46,\n",
       " '081.Greyhound': 56,\n",
       " '082.Havanese': 61,\n",
       " '083.Ibizan_hound': 46,\n",
       " '084.Icelandic_sheepdog': 50,\n",
       " '085.Irish_red_and_white_setter': 37,\n",
       " '086.Irish_setter': 53,\n",
       " '087.Irish_terrier': 66,\n",
       " '088.Irish_water_spaniel': 51,\n",
       " '089.Irish_wolfhound': 53,\n",
       " '090.Italian_greyhound': 58,\n",
       " '091.Japanese_chin': 57,\n",
       " '092.Keeshond': 44,\n",
       " '093.Kerry_blue_terrier': 35,\n",
       " '094.Komondor': 44,\n",
       " '095.Kuvasz': 49,\n",
       " '096.Labrador_retriever': 43,\n",
       " '097.Lakeland_terrier': 50,\n",
       " '098.Leonberger': 46,\n",
       " '099.Lhasa_apso': 42,\n",
       " '100.Lowchen': 34,\n",
       " '101.Maltese': 48,\n",
       " '102.Manchester_terrier': 29,\n",
       " '103.Mastiff': 58,\n",
       " '104.Miniature_schnauzer': 42,\n",
       " '105.Neapolitan_mastiff': 31,\n",
       " '106.Newfoundland': 50,\n",
       " '107.Norfolk_terrier': 46,\n",
       " '108.Norwegian_buhund': 26,\n",
       " '109.Norwegian_elkhound': 45,\n",
       " '110.Norwegian_lundehund': 33,\n",
       " '111.Norwich_terrier': 44,\n",
       " '112.Nova_scotia_duck_tolling_retriever': 54,\n",
       " '113.Old_english_sheepdog': 39,\n",
       " '114.Otterhound': 35,\n",
       " '115.Papillon': 63,\n",
       " '116.Parson_russell_terrier': 30,\n",
       " '117.Pekingese': 48,\n",
       " '118.Pembroke_welsh_corgi': 53,\n",
       " '119.Petit_basset_griffon_vendeen': 31,\n",
       " '120.Pharaoh_hound': 39,\n",
       " '121.Plott': 28,\n",
       " '122.Pointer': 32,\n",
       " '123.Pomeranian': 44,\n",
       " '124.Poodle': 50,\n",
       " '125.Portuguese_water_dog': 34,\n",
       " '126.Saint_bernard': 30,\n",
       " '127.Silky_terrier': 41,\n",
       " '128.Smooth_fox_terrier': 30,\n",
       " '129.Tibetan_mastiff': 48,\n",
       " '130.Welsh_springer_spaniel': 44,\n",
       " '131.Wirehaired_pointing_griffon': 30,\n",
       " '132.Xoloitzcuintli': 26,\n",
       " '133.Yorkshire_terrier': 30}"
      ]
     },
     "execution_count": 54,
     "metadata": {},
     "output_type": "execute_result"
    }
   ],
   "source": [
    "# Get the total sample of each class.\n",
    "class_dist = get_class_distribution(train_dataset)\n",
    "class_dist"
   ]
  },
  {
   "cell_type": "markdown",
   "metadata": {
    "tags": []
   },
   "source": [
    "## Hyperparameter Tuning\n",
    "**TODO:** This is the part where you will finetune a pretrained model with hyperparameter tuning. Remember that you have to tune a minimum of two hyperparameters. However you are encouraged to tune more. You are also encouraged to explain why you chose to tune those particular hyperparameters and the ranges.\n",
    "\n",
    "**Note:** You will need to use the `hpo.py` script to perform hyperparameter tuning."
   ]
  },
  {
   "cell_type": "markdown",
   "metadata": {},
   "source": [
    "- **Batch size**\n",
    "Neural networks are trained using gradient descent where the estimate of the error used to update the weights is calculated based on a subset of the training dataset. The number of examples from the training dataset used in the estimate of the error gradient is called the batch size and is an important hyperparameter that influences the dynamics of the learning algorithm.\n",
    "- **Epoch**\n",
    "The number of epochs is a hyperparameter of gradient descent that controls the number of complete passes through the training dataset. Small epoch used for educational purposes and cost saving.\n",
    "- **Learning rate**\n",
    "The learning rate is a hyperparameter that controls how much to change the model in response to the estimated error each time the model weights are updated. Choosing the learning rate is challenging as a value too small may result in a long training process that could get stuck, whereas a value too large may result in learning a sub-optimal set of weights too fast or an unstable training process.\n",
    "- **Step Size and Gamma**\n",
    "Adam can substantially benefit from a scheduled learning rate multiplier. In this project step-based (drop-based), learning rate scheduler is used. So the learning rate will drop by gamma for every step size (epoch).\n",
    "\n",
    "References:[1, ](https://machinelearningmastery.com/how-to-control-the-speed-and-stability-of-training-neural-networks-with-gradient-descent-batch-size/#:~:text=Batch%20size%20controls%20the%20accuracy,stability%20of%20the%20learning%20process)[2, ](https://machinelearningmastery.com/difference-between-a-batch-and-an-epoch/)[3, ](https://machinelearningmastery.com/understand-the-dynamics-of-learning-rate-on-deep-learning-neural-networks/)[4](https://discuss.pytorch.org/t/with-adam-optimizer-is-it-necessary-to-use-a-learning-scheduler/66477/2)"
   ]
  },
  {
   "cell_type": "code",
   "execution_count": 13,
   "metadata": {},
   "outputs": [],
   "source": [
    "role = sagemaker.get_execution_role()\n",
    "\n",
    "#TODO: Declare your HP ranges, metrics etc.\n",
    "hyperparameter_ranges = {\n",
    "    \"epochs\": IntegerParameter(3, 5),\n",
    "    \"learning_rate\": ContinuousParameter(1e-5, 0.1),\n",
    "    \"step_size\": IntegerParameter(1, 3),\n",
    "    \"gamma\": CategoricalParameter([0.25, 0.5]),\n",
    "    \"batch_size\": CategoricalParameter([32, 64, 128, 256, 512]),\n",
    "}"
   ]
  },
  {
   "cell_type": "code",
   "execution_count": 14,
   "metadata": {
    "tags": []
   },
   "outputs": [],
   "source": [
    "#TODO: Create estimators for your HPs\n",
    "# TODO: Your estimator here\n",
    "estimator = PyTorch(\n",
    "    entry_point=\"hpo.py\",\n",
    "    base_job_name=\"dog-breed-clf\",\n",
    "    role=role,\n",
    "    instance_type=\"ml.g4dn.xlarge\",\n",
    "    instance_count=1,\n",
    "    framework_version=\"1.12\",\n",
    "    py_version=\"py38\",\n",
    ")"
   ]
  },
  {
   "cell_type": "code",
   "execution_count": 15,
   "metadata": {},
   "outputs": [],
   "source": [
    "# TODO: Your HP tuner here\n",
    "tuner = HyperparameterTuner(\n",
    "    estimator=estimator,\n",
    "    base_tuning_job_name=\"dog-breed-clf-hpo\",\n",
    "    hyperparameter_ranges=hyperparameter_ranges,\n",
    "    max_jobs=5,\n",
    "    max_parallel_jobs=2,\n",
    "    objective_metric_name=\"test accucary\",\n",
    "    objective_type=\"Maximize\",\n",
    "    metric_definitions=[{\"Name\": \"test accucary\", \"Regex\": \"test_accuracy: ([0-9\\\\.]+)\"}],\n",
    "    early_stopping_type='Auto',\n",
    ")"
   ]
  },
  {
   "cell_type": "code",
   "execution_count": 16,
   "metadata": {
    "tags": []
   },
   "outputs": [
    {
     "name": "stderr",
     "output_type": "stream",
     "text": [
      "No finished training job found associated with this estimator. Please make sure this estimator is only used for building workflow config\n"
     ]
    },
    {
     "name": "stdout",
     "output_type": "stream",
     "text": [
      ".................................................................................................................................................................................................................................................................................!\n"
     ]
    }
   ],
   "source": [
    "# TODO: Fit your HP Tuner\n",
    "# TODO: Remember to include your data channels\n",
    "tuner.fit({\n",
    "    \"train\": \"s3://sagemaker-us-east-1-022926224205/dog-breed-project/data/train/\",\n",
    "    \"valid\": \"s3://sagemaker-us-east-1-022926224205/dog-breed-project/data/valid/\",\n",
    "    \"test\": \"s3://sagemaker-us-east-1-022926224205/dog-breed-project/data/test/\"\n",
    "})"
   ]
  },
  {
   "cell_type": "code",
   "execution_count": 18,
   "metadata": {},
   "outputs": [
    {
     "name": "stdout",
     "output_type": "stream",
     "text": [
      "\n",
      "2023-01-11 11:04:31 Starting - Found matching resource for reuse\n",
      "2023-01-11 11:04:31 Downloading - Downloading input data\n",
      "2023-01-11 11:04:31 Training - Training image download completed. Training in progress.\n",
      "2023-01-11 11:04:31 Uploading - Uploading generated training model\n",
      "2023-01-11 11:04:31 Completed - Resource reused by training job: dog-breed-clf-hpo-230111-1046-005-230bcff7\n"
     ]
    },
    {
     "data": {
      "text/plain": [
       "{'_tuning_objective_metric': '\"test accucary\"',\n",
       " 'batch_size': '\"32\"',\n",
       " 'epochs': '3',\n",
       " 'gamma': '\"0.5\"',\n",
       " 'learning_rate': '0.0007778063326940784',\n",
       " 'sagemaker_container_log_level': '20',\n",
       " 'sagemaker_estimator_class_name': '\"PyTorch\"',\n",
       " 'sagemaker_estimator_module': '\"sagemaker.pytorch.estimator\"',\n",
       " 'sagemaker_job_name': '\"dog-breed-clf-2023-01-11-10-46-44-123\"',\n",
       " 'sagemaker_program': '\"hpo.py\"',\n",
       " 'sagemaker_region': '\"us-east-1\"',\n",
       " 'sagemaker_submit_directory': '\"s3://sagemaker-us-east-1-022926224205/dog-breed-clf-2023-01-11-10-46-44-123/source/sourcedir.tar.gz\"',\n",
       " 'step_size': '3'}"
      ]
     },
     "execution_count": 18,
     "metadata": {},
     "output_type": "execute_result"
    }
   ],
   "source": [
    "# TODO: Get the best estimators and the best HPs\n",
    "#TODO\n",
    "best_estimator = tuner.best_estimator()\n",
    "\n",
    "#Get the hyperparameters of the best trained model\n",
    "best_estimator.hyperparameters()"
   ]
  },
  {
   "cell_type": "code",
   "execution_count": 19,
   "metadata": {
    "tags": []
   },
   "outputs": [
    {
     "name": "stdout",
     "output_type": "stream",
     "text": [
      "Number of training jobs with valid objective: 5\n",
      "{'lowest': 0.2978470027446747, 'highest': 0.815788984298706}\n"
     ]
    },
    {
     "data": {
      "text/html": [
       "<div>\n",
       "<style scoped>\n",
       "    .dataframe tbody tr th:only-of-type {\n",
       "        vertical-align: middle;\n",
       "    }\n",
       "\n",
       "    .dataframe tbody tr th {\n",
       "        vertical-align: top;\n",
       "    }\n",
       "\n",
       "    .dataframe thead th {\n",
       "        text-align: right;\n",
       "    }\n",
       "</style>\n",
       "<table border=\"1\" class=\"dataframe\">\n",
       "  <thead>\n",
       "    <tr style=\"text-align: right;\">\n",
       "      <th></th>\n",
       "      <th>batch_size</th>\n",
       "      <th>epochs</th>\n",
       "      <th>gamma</th>\n",
       "      <th>learning_rate</th>\n",
       "      <th>step_size</th>\n",
       "      <th>TrainingJobName</th>\n",
       "      <th>TrainingJobStatus</th>\n",
       "      <th>FinalObjectiveValue</th>\n",
       "      <th>TrainingStartTime</th>\n",
       "      <th>TrainingEndTime</th>\n",
       "      <th>TrainingElapsedTimeSeconds</th>\n",
       "    </tr>\n",
       "  </thead>\n",
       "  <tbody>\n",
       "    <tr>\n",
       "      <th>1</th>\n",
       "      <td>\"32\"</td>\n",
       "      <td>3.0</td>\n",
       "      <td>\"0.5\"</td>\n",
       "      <td>0.000778</td>\n",
       "      <td>3.0</td>\n",
       "      <td>dog-breed-clf-hpo-230111-1046-004-629bb623</td>\n",
       "      <td>Completed</td>\n",
       "      <td>0.815789</td>\n",
       "      <td>2023-01-11 10:59:13+00:00</td>\n",
       "      <td>2023-01-11 11:04:10+00:00</td>\n",
       "      <td>297.0</td>\n",
       "    </tr>\n",
       "    <tr>\n",
       "      <th>4</th>\n",
       "      <td>\"32\"</td>\n",
       "      <td>3.0</td>\n",
       "      <td>\"0.25\"</td>\n",
       "      <td>0.050675</td>\n",
       "      <td>1.0</td>\n",
       "      <td>dog-breed-clf-hpo-230111-1046-001-59ac14a6</td>\n",
       "      <td>Completed</td>\n",
       "      <td>0.812201</td>\n",
       "      <td>2023-01-11 10:48:02+00:00</td>\n",
       "      <td>2023-01-11 10:55:55+00:00</td>\n",
       "      <td>473.0</td>\n",
       "    </tr>\n",
       "    <tr>\n",
       "      <th>2</th>\n",
       "      <td>\"32\"</td>\n",
       "      <td>4.0</td>\n",
       "      <td>\"0.25\"</td>\n",
       "      <td>0.000169</td>\n",
       "      <td>3.0</td>\n",
       "      <td>dog-breed-clf-hpo-230111-1046-003-5df0c190</td>\n",
       "      <td>Completed</td>\n",
       "      <td>0.741627</td>\n",
       "      <td>2023-01-11 10:57:12+00:00</td>\n",
       "      <td>2023-01-11 11:04:15+00:00</td>\n",
       "      <td>423.0</td>\n",
       "    </tr>\n",
       "    <tr>\n",
       "      <th>0</th>\n",
       "      <td>\"512\"</td>\n",
       "      <td>3.0</td>\n",
       "      <td>\"0.5\"</td>\n",
       "      <td>0.000905</td>\n",
       "      <td>1.0</td>\n",
       "      <td>dog-breed-clf-hpo-230111-1046-005-230bcff7</td>\n",
       "      <td>Stopped</td>\n",
       "      <td>0.596890</td>\n",
       "      <td>2023-01-11 11:04:33+00:00</td>\n",
       "      <td>2023-01-11 11:09:39+00:00</td>\n",
       "      <td>306.0</td>\n",
       "    </tr>\n",
       "    <tr>\n",
       "      <th>3</th>\n",
       "      <td>\"256\"</td>\n",
       "      <td>5.0</td>\n",
       "      <td>\"0.5\"</td>\n",
       "      <td>0.000093</td>\n",
       "      <td>3.0</td>\n",
       "      <td>dog-breed-clf-hpo-230111-1046-002-404c289f</td>\n",
       "      <td>Stopped</td>\n",
       "      <td>0.297847</td>\n",
       "      <td>2023-01-11 10:47:58+00:00</td>\n",
       "      <td>2023-01-11 10:58:15+00:00</td>\n",
       "      <td>617.0</td>\n",
       "    </tr>\n",
       "  </tbody>\n",
       "</table>\n",
       "</div>"
      ],
      "text/plain": [
       "  batch_size  epochs   gamma  learning_rate  step_size  \\\n",
       "1       \"32\"     3.0   \"0.5\"       0.000778        3.0   \n",
       "4       \"32\"     3.0  \"0.25\"       0.050675        1.0   \n",
       "2       \"32\"     4.0  \"0.25\"       0.000169        3.0   \n",
       "0      \"512\"     3.0   \"0.5\"       0.000905        1.0   \n",
       "3      \"256\"     5.0   \"0.5\"       0.000093        3.0   \n",
       "\n",
       "                              TrainingJobName TrainingJobStatus  \\\n",
       "1  dog-breed-clf-hpo-230111-1046-004-629bb623         Completed   \n",
       "4  dog-breed-clf-hpo-230111-1046-001-59ac14a6         Completed   \n",
       "2  dog-breed-clf-hpo-230111-1046-003-5df0c190         Completed   \n",
       "0  dog-breed-clf-hpo-230111-1046-005-230bcff7           Stopped   \n",
       "3  dog-breed-clf-hpo-230111-1046-002-404c289f           Stopped   \n",
       "\n",
       "   FinalObjectiveValue         TrainingStartTime           TrainingEndTime  \\\n",
       "1             0.815789 2023-01-11 10:59:13+00:00 2023-01-11 11:04:10+00:00   \n",
       "4             0.812201 2023-01-11 10:48:02+00:00 2023-01-11 10:55:55+00:00   \n",
       "2             0.741627 2023-01-11 10:57:12+00:00 2023-01-11 11:04:15+00:00   \n",
       "0             0.596890 2023-01-11 11:04:33+00:00 2023-01-11 11:09:39+00:00   \n",
       "3             0.297847 2023-01-11 10:47:58+00:00 2023-01-11 10:58:15+00:00   \n",
       "\n",
       "   TrainingElapsedTimeSeconds  \n",
       "1                       297.0  \n",
       "4                       473.0  \n",
       "2                       423.0  \n",
       "0                       306.0  \n",
       "3                       617.0  "
      ]
     },
     "execution_count": 19,
     "metadata": {},
     "output_type": "execute_result"
    }
   ],
   "source": [
    "# Get results from HPO\n",
    "import pandas as pd\n",
    "\n",
    "tuning_job_name = tuner.latest_tuning_job.name\n",
    "tuner_results = sagemaker.HyperparameterTuningJobAnalytics(tuning_job_name)\n",
    "# Get the results as a dataframe\n",
    "full_df = tuner_results.dataframe()\n",
    "##Display results sorted by objective metric values\n",
    "if len(full_df) > 0:\n",
    "    df = full_df[full_df[\"FinalObjectiveValue\"] > -float(\"inf\")]\n",
    "    if len(df) > 0:\n",
    "        df = df.sort_values(\"FinalObjectiveValue\", ascending=False)\n",
    "        print(\"Number of training jobs with valid objective: %d\" % len(df))\n",
    "        print({\"lowest\": min(df[\"FinalObjectiveValue\"]), \"highest\": max(df[\"FinalObjectiveValue\"])})\n",
    "        pd.set_option(\"display.max_colwidth\", None)  # Don't truncate TrainingJobName\n",
    "    else:\n",
    "        print(\"No training jobs have reported valid results yet.\")\n",
    "\n",
    "df"
   ]
  },
  {
   "cell_type": "markdown",
   "metadata": {},
   "source": [
    "## Model Profiling and Debugging\n",
    "TODO: Using the best hyperparameters, create and finetune a new model\n",
    "\n",
    "**Note:** You will need to use the `train_model.py` script to perform model profiling and debugging."
   ]
  },
  {
   "cell_type": "code",
   "execution_count": 22,
   "metadata": {},
   "outputs": [],
   "source": [
    "# TODO: Set up debugging and profiling rules and hooks\n",
    "keys = [\"epochs\", \"learning_rate\", \"step_size\", \"gamma\", \"batch_size\"]\n",
    "dp_hyperparameters = {x:best_estimator.hyperparameters()[x] for x in keys}\n",
    "\n",
    "\n",
    "rules = [\n",
    "    Rule.sagemaker(rule_configs.vanishing_gradient()),\n",
    "    Rule.sagemaker(rule_configs.overfit()),\n",
    "    Rule.sagemaker(rule_configs.overtraining()),\n",
    "    Rule.sagemaker(rule_configs.poor_weight_initialization()),\n",
    "    Rule.sagemaker(rule_configs.loss_not_decreasing()),\n",
    "    ProfilerRule.sagemaker(rule_configs.LowGPUUtilization()),\n",
    "    ProfilerRule.sagemaker(rule_configs.CPUBottleneck()),\n",
    "    ProfilerRule.sagemaker(rule_configs.OverallSystemUsage()),\n",
    "    ProfilerRule.sagemaker(rule_configs.ProfilerReport()),\n",
    "]\n",
    "\n",
    "hook_config = DebuggerHookConfig(\n",
    "    hook_parameters={\"train.save_interval\": \"100\", \"eval.save_interval\": \"10\"}\n",
    ")\n",
    "\n",
    "profiler_config = ProfilerConfig(\n",
    "    system_monitor_interval_millis=500, framework_profile_params=FrameworkProfile()\n",
    ")"
   ]
  },
  {
   "cell_type": "code",
   "execution_count": 24,
   "metadata": {},
   "outputs": [
    {
     "name": "stderr",
     "output_type": "stream",
     "text": [
      "INFO:sagemaker.image_uris:image_uri is not presented, retrieving image_uri based on instance_type, framework etc.\n",
      "INFO:sagemaker:Creating training-job with name: dog-breed-clf-dp-2023-01-11-11-13-23-895\n"
     ]
    },
    {
     "name": "stdout",
     "output_type": "stream",
     "text": [
      "2023-01-11 11:13:24 Starting - Starting the training job...\n",
      "2023-01-11 11:13:40 Starting - Preparing the instances for trainingVanishingGradient: InProgress\n",
      "Overfit: InProgress\n",
      "Overtraining: InProgress\n",
      "PoorWeightInitialization: InProgress\n",
      "LossNotDecreasing: InProgress\n",
      "LowGPUUtilization: InProgress\n",
      "CPUBottleneck: InProgress\n",
      "OverallSystemUsage: InProgress\n",
      "ProfilerReport: InProgress\n",
      "......\n",
      "2023-01-11 11:14:40 Downloading - Downloading input data......\n",
      "2023-01-11 11:15:40 Training - Downloading the training image...............\n",
      "2023-01-11 11:18:21 Training - Training image download completed. Training in progress.\u001b[34mbash: cannot set terminal process group (-1): Inappropriate ioctl for device\u001b[0m\n",
      "\u001b[34mbash: no job control in this shell\u001b[0m\n",
      "\u001b[34m2023-01-11 11:18:11,200 sagemaker-training-toolkit INFO     Imported framework sagemaker_pytorch_container.training\u001b[0m\n",
      "\u001b[34m2023-01-11 11:18:11,217 sagemaker-training-toolkit INFO     No Neurons detected (normal if no neurons installed)\u001b[0m\n",
      "\u001b[34m2023-01-11 11:18:11,227 sagemaker_pytorch_container.training INFO     Block until all host DNS lookups succeed.\u001b[0m\n",
      "\u001b[34m2023-01-11 11:18:11,231 sagemaker_pytorch_container.training INFO     Invoking user training script.\u001b[0m\n",
      "\u001b[34m2023-01-11 11:18:11,450 sagemaker-training-toolkit INFO     No Neurons detected (normal if no neurons installed)\u001b[0m\n",
      "\u001b[34m2023-01-11 11:18:11,481 sagemaker-training-toolkit INFO     No Neurons detected (normal if no neurons installed)\u001b[0m\n",
      "\u001b[34m2023-01-11 11:18:11,512 sagemaker-training-toolkit INFO     No Neurons detected (normal if no neurons installed)\u001b[0m\n",
      "\u001b[34m2023-01-11 11:18:11,522 sagemaker-training-toolkit INFO     Invoking user script\u001b[0m\n",
      "\u001b[34mTraining Env:\u001b[0m\n",
      "\u001b[34m{\n",
      "    \"additional_framework_parameters\": {},\n",
      "    \"channel_input_dirs\": {\n",
      "        \"test\": \"/opt/ml/input/data/test\",\n",
      "        \"train\": \"/opt/ml/input/data/train\",\n",
      "        \"valid\": \"/opt/ml/input/data/valid\"\n",
      "    },\n",
      "    \"current_host\": \"algo-1\",\n",
      "    \"current_instance_group\": \"homogeneousCluster\",\n",
      "    \"current_instance_group_hosts\": [\n",
      "        \"algo-1\"\n",
      "    ],\n",
      "    \"current_instance_type\": \"ml.g4dn.xlarge\",\n",
      "    \"distribution_hosts\": [],\n",
      "    \"distribution_instance_groups\": [],\n",
      "    \"framework_module\": \"sagemaker_pytorch_container.training:main\",\n",
      "    \"hosts\": [\n",
      "        \"algo-1\"\n",
      "    ],\n",
      "    \"hyperparameters\": {\n",
      "        \"batch_size\": \"\\\"32\\\"\",\n",
      "        \"epochs\": \"3\",\n",
      "        \"gamma\": \"\\\"0.5\\\"\",\n",
      "        \"learning_rate\": \"0.0007778063326940784\",\n",
      "        \"step_size\": \"3\"\n",
      "    },\n",
      "    \"input_config_dir\": \"/opt/ml/input/config\",\n",
      "    \"input_data_config\": {\n",
      "        \"test\": {\n",
      "            \"TrainingInputMode\": \"File\",\n",
      "            \"S3DistributionType\": \"FullyReplicated\",\n",
      "            \"RecordWrapperType\": \"None\"\n",
      "        },\n",
      "        \"train\": {\n",
      "            \"TrainingInputMode\": \"File\",\n",
      "            \"S3DistributionType\": \"FullyReplicated\",\n",
      "            \"RecordWrapperType\": \"None\"\n",
      "        },\n",
      "        \"valid\": {\n",
      "            \"TrainingInputMode\": \"File\",\n",
      "            \"S3DistributionType\": \"FullyReplicated\",\n",
      "            \"RecordWrapperType\": \"None\"\n",
      "        }\n",
      "    },\n",
      "    \"input_dir\": \"/opt/ml/input\",\n",
      "    \"instance_groups\": [\n",
      "        \"homogeneousCluster\"\n",
      "    ],\n",
      "    \"instance_groups_dict\": {\n",
      "        \"homogeneousCluster\": {\n",
      "            \"instance_group_name\": \"homogeneousCluster\",\n",
      "            \"instance_type\": \"ml.g4dn.xlarge\",\n",
      "            \"hosts\": [\n",
      "                \"algo-1\"\n",
      "            ]\n",
      "        }\n",
      "    },\n",
      "    \"is_hetero\": false,\n",
      "    \"is_master\": true,\n",
      "    \"is_modelparallel_enabled\": null,\n",
      "    \"is_smddpmprun_installed\": true,\n",
      "    \"job_name\": \"dog-breed-clf-dp-2023-01-11-11-13-23-895\",\n",
      "    \"log_level\": 20,\n",
      "    \"master_hostname\": \"algo-1\",\n",
      "    \"model_dir\": \"/opt/ml/model\",\n",
      "    \"module_dir\": \"s3://sagemaker-us-east-1-022926224205/dog-breed-clf-dp-2023-01-11-11-13-23-895/source/sourcedir.tar.gz\",\n",
      "    \"module_name\": \"train_model\",\n",
      "    \"network_interface_name\": \"eth0\",\n",
      "    \"num_cpus\": 4,\n",
      "    \"num_gpus\": 1,\n",
      "    \"num_neurons\": 0,\n",
      "    \"output_data_dir\": \"/opt/ml/output/data\",\n",
      "    \"output_dir\": \"/opt/ml/output\",\n",
      "    \"output_intermediate_dir\": \"/opt/ml/output/intermediate\",\n",
      "    \"resource_config\": {\n",
      "        \"current_host\": \"algo-1\",\n",
      "        \"current_instance_type\": \"ml.g4dn.xlarge\",\n",
      "        \"current_group_name\": \"homogeneousCluster\",\n",
      "        \"hosts\": [\n",
      "            \"algo-1\"\n",
      "        ],\n",
      "        \"instance_groups\": [\n",
      "            {\n",
      "                \"instance_group_name\": \"homogeneousCluster\",\n",
      "                \"instance_type\": \"ml.g4dn.xlarge\",\n",
      "                \"hosts\": [\n",
      "                    \"algo-1\"\n",
      "                ]\n",
      "            }\n",
      "        ],\n",
      "        \"network_interface_name\": \"eth0\"\n",
      "    },\n",
      "    \"user_entry_point\": \"train_model.py\"\u001b[0m\n",
      "\u001b[34m}\u001b[0m\n",
      "\u001b[34mEnvironment variables:\u001b[0m\n",
      "\u001b[34mSM_HOSTS=[\"algo-1\"]\u001b[0m\n",
      "\u001b[34mSM_NETWORK_INTERFACE_NAME=eth0\u001b[0m\n",
      "\u001b[34mSM_HPS={\"batch_size\":\"\\\"32\\\"\",\"epochs\":\"3\",\"gamma\":\"\\\"0.5\\\"\",\"learning_rate\":\"0.0007778063326940784\",\"step_size\":\"3\"}\u001b[0m\n",
      "\u001b[34mSM_USER_ENTRY_POINT=train_model.py\u001b[0m\n",
      "\u001b[34mSM_FRAMEWORK_PARAMS={}\u001b[0m\n",
      "\u001b[34mSM_RESOURCE_CONFIG={\"current_group_name\":\"homogeneousCluster\",\"current_host\":\"algo-1\",\"current_instance_type\":\"ml.g4dn.xlarge\",\"hosts\":[\"algo-1\"],\"instance_groups\":[{\"hosts\":[\"algo-1\"],\"instance_group_name\":\"homogeneousCluster\",\"instance_type\":\"ml.g4dn.xlarge\"}],\"network_interface_name\":\"eth0\"}\u001b[0m\n",
      "\u001b[34mSM_INPUT_DATA_CONFIG={\"test\":{\"RecordWrapperType\":\"None\",\"S3DistributionType\":\"FullyReplicated\",\"TrainingInputMode\":\"File\"},\"train\":{\"RecordWrapperType\":\"None\",\"S3DistributionType\":\"FullyReplicated\",\"TrainingInputMode\":\"File\"},\"valid\":{\"RecordWrapperType\":\"None\",\"S3DistributionType\":\"FullyReplicated\",\"TrainingInputMode\":\"File\"}}\u001b[0m\n",
      "\u001b[34mSM_OUTPUT_DATA_DIR=/opt/ml/output/data\u001b[0m\n",
      "\u001b[34mSM_CHANNELS=[\"test\",\"train\",\"valid\"]\u001b[0m\n",
      "\u001b[34mSM_CURRENT_HOST=algo-1\u001b[0m\n",
      "\u001b[34mSM_CURRENT_INSTANCE_TYPE=ml.g4dn.xlarge\u001b[0m\n",
      "\u001b[34mSM_CURRENT_INSTANCE_GROUP=homogeneousCluster\u001b[0m\n",
      "\u001b[34mSM_CURRENT_INSTANCE_GROUP_HOSTS=[\"algo-1\"]\u001b[0m\n",
      "\u001b[34mSM_INSTANCE_GROUPS=[\"homogeneousCluster\"]\u001b[0m\n",
      "\u001b[34mSM_INSTANCE_GROUPS_DICT={\"homogeneousCluster\":{\"hosts\":[\"algo-1\"],\"instance_group_name\":\"homogeneousCluster\",\"instance_type\":\"ml.g4dn.xlarge\"}}\u001b[0m\n",
      "\u001b[34mSM_DISTRIBUTION_INSTANCE_GROUPS=[]\u001b[0m\n",
      "\u001b[34mSM_IS_HETERO=false\u001b[0m\n",
      "\u001b[34mSM_MODULE_NAME=train_model\u001b[0m\n",
      "\u001b[34mSM_LOG_LEVEL=20\u001b[0m\n",
      "\u001b[34mSM_FRAMEWORK_MODULE=sagemaker_pytorch_container.training:main\u001b[0m\n",
      "\u001b[34mSM_INPUT_DIR=/opt/ml/input\u001b[0m\n",
      "\u001b[34mSM_INPUT_CONFIG_DIR=/opt/ml/input/config\u001b[0m\n",
      "\u001b[34mSM_OUTPUT_DIR=/opt/ml/output\u001b[0m\n",
      "\u001b[34mSM_NUM_CPUS=4\u001b[0m\n",
      "\u001b[34mSM_NUM_GPUS=1\u001b[0m\n",
      "\u001b[34mSM_NUM_NEURONS=0\u001b[0m\n",
      "\u001b[34mSM_MODEL_DIR=/opt/ml/model\u001b[0m\n",
      "\u001b[34mSM_MODULE_DIR=s3://sagemaker-us-east-1-022926224205/dog-breed-clf-dp-2023-01-11-11-13-23-895/source/sourcedir.tar.gz\u001b[0m\n",
      "\u001b[34mSM_TRAINING_ENV={\"additional_framework_parameters\":{},\"channel_input_dirs\":{\"test\":\"/opt/ml/input/data/test\",\"train\":\"/opt/ml/input/data/train\",\"valid\":\"/opt/ml/input/data/valid\"},\"current_host\":\"algo-1\",\"current_instance_group\":\"homogeneousCluster\",\"current_instance_group_hosts\":[\"algo-1\"],\"current_instance_type\":\"ml.g4dn.xlarge\",\"distribution_hosts\":[],\"distribution_instance_groups\":[],\"framework_module\":\"sagemaker_pytorch_container.training:main\",\"hosts\":[\"algo-1\"],\"hyperparameters\":{\"batch_size\":\"\\\"32\\\"\",\"epochs\":\"3\",\"gamma\":\"\\\"0.5\\\"\",\"learning_rate\":\"0.0007778063326940784\",\"step_size\":\"3\"},\"input_config_dir\":\"/opt/ml/input/config\",\"input_data_config\":{\"test\":{\"RecordWrapperType\":\"None\",\"S3DistributionType\":\"FullyReplicated\",\"TrainingInputMode\":\"File\"},\"train\":{\"RecordWrapperType\":\"None\",\"S3DistributionType\":\"FullyReplicated\",\"TrainingInputMode\":\"File\"},\"valid\":{\"RecordWrapperType\":\"None\",\"S3DistributionType\":\"FullyReplicated\",\"TrainingInputMode\":\"File\"}},\"input_dir\":\"/opt/ml/input\",\"instance_groups\":[\"homogeneousCluster\"],\"instance_groups_dict\":{\"homogeneousCluster\":{\"hosts\":[\"algo-1\"],\"instance_group_name\":\"homogeneousCluster\",\"instance_type\":\"ml.g4dn.xlarge\"}},\"is_hetero\":false,\"is_master\":true,\"is_modelparallel_enabled\":null,\"is_smddpmprun_installed\":true,\"job_name\":\"dog-breed-clf-dp-2023-01-11-11-13-23-895\",\"log_level\":20,\"master_hostname\":\"algo-1\",\"model_dir\":\"/opt/ml/model\",\"module_dir\":\"s3://sagemaker-us-east-1-022926224205/dog-breed-clf-dp-2023-01-11-11-13-23-895/source/sourcedir.tar.gz\",\"module_name\":\"train_model\",\"network_interface_name\":\"eth0\",\"num_cpus\":4,\"num_gpus\":1,\"num_neurons\":0,\"output_data_dir\":\"/opt/ml/output/data\",\"output_dir\":\"/opt/ml/output\",\"output_intermediate_dir\":\"/opt/ml/output/intermediate\",\"resource_config\":{\"current_group_name\":\"homogeneousCluster\",\"current_host\":\"algo-1\",\"current_instance_type\":\"ml.g4dn.xlarge\",\"hosts\":[\"algo-1\"],\"instance_groups\":[{\"hosts\":[\"algo-1\"],\"instance_group_name\":\"homogeneousCluster\",\"instance_type\":\"ml.g4dn.xlarge\"}],\"network_interface_name\":\"eth0\"},\"user_entry_point\":\"train_model.py\"}\u001b[0m\n",
      "\u001b[34mSM_USER_ARGS=[\"--batch_size\",\"\\\"32\\\"\",\"--epochs\",\"3\",\"--gamma\",\"\\\"0.5\\\"\",\"--learning_rate\",\"0.0007778063326940784\",\"--step_size\",\"3\"]\u001b[0m\n",
      "\u001b[34mSM_OUTPUT_INTERMEDIATE_DIR=/opt/ml/output/intermediate\u001b[0m\n",
      "\u001b[34mSM_CHANNEL_TEST=/opt/ml/input/data/test\u001b[0m\n",
      "\u001b[34mSM_CHANNEL_TRAIN=/opt/ml/input/data/train\u001b[0m\n",
      "\u001b[34mSM_CHANNEL_VALID=/opt/ml/input/data/valid\u001b[0m\n",
      "\u001b[34mSM_HP_BATCH_SIZE=\"32\"\u001b[0m\n",
      "\u001b[34mSM_HP_EPOCHS=3\u001b[0m\n",
      "\u001b[34mSM_HP_GAMMA=\"0.5\"\u001b[0m\n",
      "\u001b[34mSM_HP_LEARNING_RATE=0.0007778063326940784\u001b[0m\n",
      "\u001b[34mSM_HP_STEP_SIZE=3\u001b[0m\n",
      "\u001b[34mPYTHONPATH=/opt/ml/code:/opt/conda/bin:/opt/conda/lib/python38.zip:/opt/conda/lib/python3.8:/opt/conda/lib/python3.8/lib-dynload:/opt/conda/lib/python3.8/site-packages:/opt/conda/lib/python3.8/site-packages/smdebug-1.0.24b20230106-py3.8.egg:/opt/conda/lib/python3.8/site-packages/pyinstrument-3.4.2-py3.8.egg:/opt/conda/lib/python3.8/site-packages/pyinstrument_cext-0.2.4-py3.8-linux-x86_64.egg:/opt/conda/lib/python3.8/site-packages/flash_attn-0.1-py3.8-linux-x86_64.egg:/opt/conda/lib/python3.8/site-packages/einops-0.6.0-py3.8.egg\u001b[0m\n",
      "\u001b[34mInvoking script with the following command:\u001b[0m\n",
      "\u001b[34m/opt/conda/bin/python3.8 train_model.py --batch_size \"32\" --epochs 3 --gamma \"0.5\" --learning_rate 0.0007778063326940784 --step_size 3\u001b[0m\n",
      "\u001b[34m2023-01-11 11:18:14,000 sagemaker-training-toolkit INFO     Exceptions not imported for SageMaker TF as Tensorflow is not installed.\u001b[0m\n",
      "\u001b[34m[2023-01-11 11:18:16.900 algo-1:47 INFO utils.py:28] RULE_JOB_STOP_SIGNAL_FILENAME: None\u001b[0m\n",
      "\u001b[34m/opt/conda/lib/python3.8/site-packages/smdebug-1.0.24b20230106-py3.8.egg/smdebug/profiler/system_metrics_reader.py:78: SyntaxWarning: \"is not\" with a literal. Did you mean \"!=\"?\u001b[0m\n",
      "\u001b[34m/opt/conda/lib/python3.8/site-packages/smdebug-1.0.24b20230106-py3.8.egg/smdebug/profiler/system_metrics_reader.py:78: SyntaxWarning: \"is not\" with a literal. Did you mean \"!=\"?\u001b[0m\n",
      "\u001b[34m[2023-01-11 11:18:17.295 algo-1:47 INFO profiler_config_parser.py:111] Using config at /opt/ml/input/config/profilerconfig.json.\u001b[0m\n",
      "\u001b[34mhyperparameters: {'epochs': 3, 'batch_size': 32, 'learning_rate': 0.0007778063326940784, 'step_size': 3, 'gamma': 0.5, 'train': '/opt/ml/input/data/train', 'valid': '/opt/ml/input/data/valid', 'test': '/opt/ml/input/data/test', 'model_dir': '/opt/ml/model'}\u001b[0m\n",
      "\u001b[34mINFO:__main__:hyperparameters: {'epochs': 3, 'batch_size': 32, 'learning_rate': 0.0007778063326940784, 'step_size': 3, 'gamma': 0.5, 'train': '/opt/ml/input/data/train', 'valid': '/opt/ml/input/data/valid', 'test': '/opt/ml/input/data/test', 'model_dir': '/opt/ml/model'}\u001b[0m\n",
      "\u001b[34mDownloading: \"https://download.pytorch.org/models/resnet50-11ad3fa6.pth\" to /root/.cache/torch/hub/checkpoints/resnet50-11ad3fa6.pth\u001b[0m\n",
      "\u001b[34m0%|          | 0.00/97.8M [00:00<?, ?B/s]\u001b[0m\n",
      "\u001b[34m9%|▉         | 8.77M/97.8M [00:00<00:01, 91.9MB/s]\u001b[0m\n",
      "\u001b[34m18%|█▊        | 17.6M/97.8M [00:00<00:00, 92.2MB/s]\u001b[0m\n",
      "\u001b[34m27%|██▋       | 26.4M/97.8M [00:00<00:00, 91.8MB/s]\u001b[0m\n",
      "\u001b[34m36%|███▌      | 35.2M/97.8M [00:00<00:00, 92.1MB/s]\u001b[0m\n",
      "\u001b[34m45%|████▌     | 44.1M/97.8M [00:00<00:00, 92.4MB/s]\u001b[0m\n",
      "\u001b[34m54%|█████▍    | 52.9M/97.8M [00:00<00:00, 92.6MB/s]\u001b[0m\n",
      "\u001b[34m63%|██████▎   | 61.9M/97.8M [00:00<00:00, 92.9MB/s]\u001b[0m\n",
      "\u001b[34m72%|███████▏  | 70.7M/97.8M [00:00<00:00, 92.8MB/s]\u001b[0m\n",
      "\u001b[34m81%|████████▏ | 79.6M/97.8M [00:00<00:00, 92.7MB/s]\u001b[0m\n",
      "\u001b[34m90%|█████████ | 88.4M/97.8M [00:01<00:00, 92.4MB/s]\u001b[0m\n",
      "\u001b[34m99%|█████████▉| 97.3M/97.8M [00:01<00:00, 92.5MB/s]\u001b[0m\n",
      "\u001b[34m100%|██████████| 97.8M/97.8M [00:01<00:00, 92.3MB/s]\u001b[0m\n",
      "\u001b[34m[2023-01-11 11:18:19.653 algo-1:47 INFO json_config.py:92] Creating hook from json_config at /opt/ml/input/config/debughookconfig.json.\u001b[0m\n",
      "\u001b[34m[2023-01-11 11:18:19.655 algo-1:47 INFO hook.py:206] tensorboard_dir has not been set for the hook. SMDebug will not be exporting tensorboard summaries.\u001b[0m\n",
      "\u001b[34m[2023-01-11 11:18:19.656 algo-1:47 INFO hook.py:259] Saving to /opt/ml/output/tensors\u001b[0m\n",
      "\u001b[34m[2023-01-11 11:18:19.656 algo-1:47 INFO state_store.py:77] The checkpoint config file /opt/ml/input/config/checkpointconfig.json does not exist.\u001b[0m\n",
      "\u001b[34m[2023-01-11 11:18:19.685 algo-1:47 INFO hook.py:561] name:fc.weight count_params:272384\u001b[0m\n",
      "\u001b[34m[2023-01-11 11:18:19.685 algo-1:47 INFO hook.py:561] name:fc.bias count_params:133\u001b[0m\n",
      "\u001b[34m[2023-01-11 11:18:19.686 algo-1:47 INFO hook.py:563] Total Trainable Params: 272517\u001b[0m\n",
      "\u001b[34mEpoch 1/3\u001b[0m\n",
      "\u001b[34m----------\u001b[0m\n",
      "\u001b[34m[2023-01-11 11:18:22.736 algo-1:47 INFO hook.py:427] Monitoring the collections: relu_input, gradients, losses\u001b[0m\n",
      "\u001b[34m[2023-01-11 11:18:22.738 algo-1:47 INFO python_profiler.py:188] Dumping cProfile stats to /opt/ml/output/profiler/framework/pytorch/cprofile/47-algo-1/prestepzero-*-start-1673435897296906.5_train-0-stepstart-1673435902737777.5/python_stats.\u001b[0m\n",
      "\u001b[34m[2023-01-11 11:18:22.803 algo-1:47 INFO hook.py:491] Hook is writing from the hook with pid: 47\u001b[0m\n",
      "\u001b[34m[2023-01-11 11:18:30.829 algo-1:47 WARNING hook.py:393] The detailed profiling using autograd profiler is not supported for torch version 1.12.1+cu113\u001b[0m\n",
      "\u001b[34m[2023-01-11 11:18:32.393 algo-1:47 INFO python_profiler.py:188] Dumping cProfile stats to /opt/ml/output/profiler/framework/pytorch/cprofile/47-algo-1/train-9-stepstart-1673435912343859.8_train-9-forwardpassend-1673435912393441.2/python_stats.\u001b[0m\n",
      "\u001b[34m[2023-01-11 11:18:32.856 algo-1:47 INFO python_profiler.py:188] Dumping cProfile stats to /opt/ml/output/profiler/framework/pytorch/cprofile/47-algo-1/train-9-forwardpassend-1673435912395054.0_train-10-stepstart-1673435912855248.8/python_stats.\u001b[0m\n",
      "\u001b[34m[2023-01-11 11:18:32.912 algo-1:47 INFO python_profiler.py:188] Dumping cProfile stats to /opt/ml/output/profiler/framework/pytorch/cprofile/47-algo-1/train-10-stepstart-1673435912860044.8_train-10-forwardpassend-1673435912911418.2/python_stats.\u001b[0m\n",
      "\u001b[34m[2023-01-11 11:18:33.322 algo-1:47 INFO python_profiler.py:188] Dumping cProfile stats to /opt/ml/output/profiler/framework/pytorch/cprofile/47-algo-1/train-10-forwardpassend-1673435912912915.5_train-11-stepstart-1673435913321489.8/python_stats.\u001b[0m\n",
      "\u001b[34m[2023-01-11 11:18:33.369 algo-1:47 INFO python_profiler.py:188] Dumping cProfile stats to /opt/ml/output/profiler/framework/pytorch/cprofile/47-algo-1/train-11-stepstart-1673435913325647.0_train-11-forwardpassend-1673435913369438.2/python_stats.\u001b[0m\n",
      "\u001b[34m[2023-01-11 11:18:33.805 algo-1:47 INFO python_profiler.py:188] Dumping cProfile stats to /opt/ml/output/profiler/framework/pytorch/cprofile/47-algo-1/train-11-forwardpassend-1673435913370782.2_train-12-stepstart-1673435913804720.2/python_stats.\u001b[0m\n",
      "\u001b[34mtrain_loss: 3.4611, train_acc: 0.3717\u001b[0m\n",
      "\u001b[34mINFO:__main__:train_loss: 3.4611, train_acc: 0.3717\u001b[0m\n",
      "\u001b[34mvalid_loss: 2.1715, valid_acc: 0.7485\u001b[0m\n",
      "\u001b[34mINFO:__main__:valid_loss: 2.1715, valid_acc: 0.7485\u001b[0m\n",
      "\u001b[34mEpoch 2/3\u001b[0m\n",
      "\u001b[34m----------\u001b[0m\n",
      "\u001b[34mtrain_loss: 1.8544, train_acc: 0.6781\u001b[0m\n",
      "\u001b[34mINFO:__main__:train_loss: 1.8544, train_acc: 0.6781\u001b[0m\n",
      "\u001b[34mvalid_loss: 1.2945, valid_acc: 0.8048\u001b[0m\n",
      "\u001b[34mINFO:__main__:valid_loss: 1.2945, valid_acc: 0.8048\u001b[0m\n",
      "\u001b[34mEpoch 3/3\u001b[0m\n",
      "\u001b[34m----------\u001b[0m\n",
      "\u001b[34mtrain_loss: 1.3611, train_acc: 0.7319\u001b[0m\n",
      "\u001b[34mINFO:__main__:train_loss: 1.3611, train_acc: 0.7319\u001b[0m\n",
      "\u001b[34mvalid_loss: 0.9234, valid_acc: 0.8263\u001b[0m\n",
      "\u001b[34mINFO:__main__:valid_loss: 0.9234, valid_acc: 0.8263\u001b[0m\n",
      "\u001b[34mTraining complete in 4m 0s\u001b[0m\n",
      "\u001b[34mBest validation accuracy: 0.826347\u001b[0m\n",
      "\u001b[34mTesting model on the whole testing dataset\u001b[0m\n",
      "\n",
      "2023-01-11 11:22:43 Uploading - Uploading generated training modelVanishingGradient: InProgress\n",
      "Overfit: Error\n",
      "Overtraining: InProgress\n",
      "PoorWeightInitialization: InProgress\n",
      "LossNotDecreasing: InProgress\n",
      "\u001b[34mtest_loss: 0.938625, test_accuracy: 0.833732\u001b[0m\n",
      "\u001b[34mINFO:__main__:test_loss: 0.938625, test_accuracy: 0.833732\u001b[0m\n",
      "\u001b[34m2023-01-11 11:22:29,069 sagemaker-training-toolkit INFO     Waiting for the process to finish and give a return code.\u001b[0m\n",
      "\u001b[34m2023-01-11 11:22:29,069 sagemaker-training-toolkit INFO     Done waiting for a return code. Received 0 from exiting process.\u001b[0m\n",
      "\u001b[34m2023-01-11 11:22:29,070 sagemaker-training-toolkit INFO     Reporting training SUCCESS\u001b[0m\n",
      "\n",
      "2023-01-11 11:23:03 Completed - Training job completed\n",
      "LowGPUUtilization: NoIssuesFound\n",
      "CPUBottleneck: InProgress\n",
      "OverallSystemUsage: NoIssuesFound\n",
      "ProfilerReport: NoIssuesFound\n",
      "Training seconds: 504\n",
      "Billable seconds: 504\n"
     ]
    }
   ],
   "source": [
    "# TODO: Create and fit an estimator\n",
    "# TODO: Your estimator here\n",
    "estimator = PyTorch(\n",
    "    entry_point=\"train_model.py\",\n",
    "    base_job_name=\"dog-breed-clf-dp\",\n",
    "    role=role,\n",
    "    instance_type=\"ml.g4dn.xlarge\",\n",
    "    instance_count=1,\n",
    "    framework_version=\"1.12\",\n",
    "    py_version=\"py38\",\n",
    "    hyperparameters=dp_hyperparameters,\n",
    "    debugger_hook_config=hook_config,\n",
    "    profiler_config=profiler_config,\n",
    "    rules=rules,\n",
    ")\n",
    "\n",
    "estimator.fit({\n",
    "    \"train\": \"s3://sagemaker-us-east-1-022926224205/dog-breed-project/data/train/\",\n",
    "    \"valid\": \"s3://sagemaker-us-east-1-022926224205/dog-breed-project/data/valid/\",\n",
    "    \"test\": \"s3://sagemaker-us-east-1-022926224205/dog-breed-project/data/test/\"\n",
    "})"
   ]
  },
  {
   "cell_type": "code",
   "execution_count": 31,
   "metadata": {
    "tags": []
   },
   "outputs": [
    {
     "name": "stdout",
     "output_type": "stream",
     "text": [
      "====================================================================\n",
      "TrainingJobStatus:  Completed  | SecondaryStatus:  Completed\n",
      "====================================================================\n",
      "VanishingGradient :  Error\n",
      "====================================================================\n",
      "Overfit :  Error\n",
      "====================================================================\n",
      "Overtraining :  NoIssuesFound\n",
      "====================================================================\n",
      "PoorWeightInitialization :  Error\n",
      "====================================================================\n",
      "LossNotDecreasing :  Error\n",
      "====================================================================\n",
      "LowGPUUtilization :  NoIssuesFound\n",
      "====================================================================\n",
      "CPUBottleneck :  NoIssuesFound\n",
      "====================================================================\n",
      "OverallSystemUsage :  NoIssuesFound\n",
      "====================================================================\n",
      "ProfilerReport :  NoIssuesFound\n",
      "====================================================================\n",
      "Current time:  Wed Jan 11 11:28:49 2023\n"
     ]
    }
   ],
   "source": [
    "# Print the latest training job's rule summary\n",
    "job_name = estimator.latest_training_job.name\n",
    "client = estimator.sagemaker_session.sagemaker_client\n",
    "description = client.describe_training_job(TrainingJobName=estimator.latest_training_job.name)\n",
    "\n",
    "import time\n",
    "from IPython import display\n",
    "\n",
    "%matplotlib inline\n",
    "\n",
    "for description[\"SecondaryStatus\"] in {\"Stopped\", \"Completed\"}:\n",
    "    description = client.describe_training_job(TrainingJobName=job_name)\n",
    "    primary_status = description[\"TrainingJobStatus\"]\n",
    "    secondary_status = description[\"SecondaryStatus\"]\n",
    "    print(\"====================================================================\")\n",
    "    print(\"TrainingJobStatus: \", primary_status, \" | SecondaryStatus: \", secondary_status)\n",
    "    print(\"====================================================================\")\n",
    "    for r in range(len(estimator.latest_training_job.rule_job_summary())):\n",
    "        rule_summary = estimator.latest_training_job.rule_job_summary()\n",
    "        print(\n",
    "            rule_summary[r][\"RuleConfigurationName\"], \": \", rule_summary[r][\"RuleEvaluationStatus\"]\n",
    "        )\n",
    "        if rule_summary[r][\"RuleEvaluationStatus\"] == \"IssuesFound\":\n",
    "            print(rule_summary[r][\"StatusDetails\"])\n",
    "        print(\"====================================================================\")\n",
    "    print(\"Current time: \", time.asctime())\n",
    "    display.clear_output(wait=True)\n",
    "    time.sleep(1)"
   ]
  },
  {
   "cell_type": "code",
   "execution_count": 33,
   "metadata": {
    "tags": []
   },
   "outputs": [
    {
     "name": "stdout",
     "output_type": "stream",
     "text": [
      "[2023-01-11 11:30:25.350 pytorch-1-12-gpu-py38-ml-t3-medium-5c243b1aae6a0c39c0e73a7744b4:397 INFO s3_trial.py:42] Loading trial debug-output at path s3://sagemaker-us-east-1-022926224205/dog-breed-clf-dp-2023-01-11-11-13-23-895/debug-output\n"
     ]
    }
   ],
   "source": [
    "trial = create_trial(estimator.latest_job_debugger_artifacts_path())"
   ]
  },
  {
   "cell_type": "code",
   "execution_count": 34,
   "metadata": {
    "tags": []
   },
   "outputs": [
    {
     "name": "stdout",
     "output_type": "stream",
     "text": [
      "[2023-01-11 11:30:55.652 pytorch-1-12-gpu-py38-ml-t3-medium-5c243b1aae6a0c39c0e73a7744b4:397 INFO trial.py:197] Training has ended, will refresh one final time in 1 sec.\n",
      "[2023-01-11 11:30:56.672 pytorch-1-12-gpu-py38-ml-t3-medium-5c243b1aae6a0c39c0e73a7744b4:397 INFO trial.py:210] Loaded all steps\n"
     ]
    },
    {
     "data": {
      "text/plain": [
       "['CrossEntropyLoss_output_0',\n",
       " 'gradient/ResNet_fc.bias',\n",
       " 'gradient/ResNet_fc.weight',\n",
       " 'layer1.0.relu_input_0',\n",
       " 'layer1.0.relu_input_1',\n",
       " 'layer1.0.relu_input_2',\n",
       " 'layer1.1.relu_input_0',\n",
       " 'layer1.1.relu_input_1',\n",
       " 'layer1.1.relu_input_2',\n",
       " 'layer1.2.relu_input_0',\n",
       " 'layer1.2.relu_input_1',\n",
       " 'layer1.2.relu_input_2',\n",
       " 'layer2.0.relu_input_0',\n",
       " 'layer2.0.relu_input_1',\n",
       " 'layer2.0.relu_input_2',\n",
       " 'layer2.1.relu_input_0',\n",
       " 'layer2.1.relu_input_1',\n",
       " 'layer2.1.relu_input_2',\n",
       " 'layer2.2.relu_input_0',\n",
       " 'layer2.2.relu_input_1',\n",
       " 'layer2.2.relu_input_2',\n",
       " 'layer2.3.relu_input_0',\n",
       " 'layer2.3.relu_input_1',\n",
       " 'layer2.3.relu_input_2',\n",
       " 'layer3.0.relu_input_0',\n",
       " 'layer3.0.relu_input_1',\n",
       " 'layer3.0.relu_input_2',\n",
       " 'layer3.1.relu_input_0',\n",
       " 'layer3.1.relu_input_1',\n",
       " 'layer3.1.relu_input_2',\n",
       " 'layer3.2.relu_input_0',\n",
       " 'layer3.2.relu_input_1',\n",
       " 'layer3.2.relu_input_2',\n",
       " 'layer3.3.relu_input_0',\n",
       " 'layer3.3.relu_input_1',\n",
       " 'layer3.3.relu_input_2',\n",
       " 'layer3.4.relu_input_0',\n",
       " 'layer3.4.relu_input_1',\n",
       " 'layer3.4.relu_input_2',\n",
       " 'layer3.5.relu_input_0',\n",
       " 'layer3.5.relu_input_1',\n",
       " 'layer3.5.relu_input_2',\n",
       " 'layer4.0.relu_input_0',\n",
       " 'layer4.0.relu_input_1',\n",
       " 'layer4.0.relu_input_2',\n",
       " 'layer4.1.relu_input_0',\n",
       " 'layer4.1.relu_input_1',\n",
       " 'layer4.1.relu_input_2',\n",
       " 'layer4.2.relu_input_0',\n",
       " 'layer4.2.relu_input_1',\n",
       " 'layer4.2.relu_input_2',\n",
       " 'relu_input_0']"
      ]
     },
     "execution_count": 34,
     "metadata": {},
     "output_type": "execute_result"
    }
   ],
   "source": [
    "trial.tensor_names()"
   ]
  },
  {
   "cell_type": "code",
   "execution_count": 36,
   "metadata": {
    "tags": []
   },
   "outputs": [
    {
     "data": {
      "text/plain": [
       "2"
      ]
     },
     "execution_count": 36,
     "metadata": {},
     "output_type": "execute_result"
    }
   ],
   "source": [
    "len(trial.tensor(\"CrossEntropyLoss_output_0\").steps(mode=ModeKeys.TRAIN))"
   ]
  },
  {
   "cell_type": "code",
   "execution_count": 37,
   "metadata": {
    "tags": []
   },
   "outputs": [
    {
     "data": {
      "text/plain": [
       "1"
      ]
     },
     "execution_count": 37,
     "metadata": {},
     "output_type": "execute_result"
    }
   ],
   "source": [
    "len(trial.tensor(\"CrossEntropyLoss_output_0\").steps(mode=ModeKeys.EVAL))"
   ]
  },
  {
   "cell_type": "code",
   "execution_count": 38,
   "metadata": {
    "tags": []
   },
   "outputs": [],
   "source": [
    "import matplotlib.pyplot as plt\n",
    "from mpl_toolkits.axes_grid1 import host_subplot\n",
    "\n",
    "def get_data(trial, tname, mode):\n",
    "    tensor = trial.tensor(tname)\n",
    "    steps = tensor.steps(mode=mode)\n",
    "    vals = []\n",
    "    for s in steps:\n",
    "        vals.append(tensor.value(s, mode=mode))\n",
    "    return steps, vals\n",
    "\n",
    "\n",
    "def plot_tensor(trial, tensor_name):\n",
    "\n",
    "    steps_train, vals_train = get_data(trial, tensor_name, mode=ModeKeys.TRAIN)\n",
    "    print(\"loaded TRAIN data\")\n",
    "    steps_eval, vals_eval = get_data(trial, tensor_name, mode=ModeKeys.EVAL)\n",
    "    print(\"loaded EVAL data\")\n",
    "\n",
    "    fig = plt.figure(figsize=(10, 7))\n",
    "    host = host_subplot(111)\n",
    "\n",
    "    par = host.twiny()\n",
    "\n",
    "    host.set_xlabel(\"Steps (TRAIN)\")\n",
    "    par.set_xlabel(\"Steps (EVAL)\")\n",
    "    host.set_ylabel(tensor_name)\n",
    "\n",
    "    (p1,) = host.plot(steps_train, vals_train, label=tensor_name)\n",
    "    print(\"completed TRAIN plot\")\n",
    "    (p2,) = par.plot(steps_eval, vals_eval, label=\"val_\" + tensor_name)\n",
    "    print(\"completed EVAL plot\")\n",
    "    leg = plt.legend()\n",
    "\n",
    "    host.xaxis.get_label().set_color(p1.get_color())\n",
    "    leg.texts[0].set_color(p1.get_color())\n",
    "\n",
    "    par.xaxis.get_label().set_color(p2.get_color())\n",
    "    leg.texts[1].set_color(p2.get_color())\n",
    "\n",
    "    plt.ylabel(tensor_name)\n",
    "\n",
    "    plt.show()"
   ]
  },
  {
   "cell_type": "code",
   "execution_count": 39,
   "metadata": {
    "tags": []
   },
   "outputs": [
    {
     "name": "stdout",
     "output_type": "stream",
     "text": [
      "loaded TRAIN data\n",
      "loaded EVAL data\n",
      "completed TRAIN plot\n",
      "completed EVAL plot\n"
     ]
    },
    {
     "data": {
      "image/png": "[encoded data removed]",
      "text/plain": [
       "<Figure size 720x504 with 1 Axes>"
      ]
     },
     "metadata": {
      "needs_background": "light"
     },
     "output_type": "display_data"
    }
   ],
   "source": [
    "plot_tensor(trial, \"CrossEntropyLoss_output_0\")"
   ]
  },
  {
   "cell_type": "code",
   "execution_count": 40,
   "metadata": {
    "tags": []
   },
   "outputs": [
    {
     "data": {
      "text/plain": [
       "[{'RuleConfigurationName': 'VanishingGradient',\n",
       "  'RuleEvaluationJobArn': 'arn:aws:sagemaker:us-east-1:022926224205:processing-job/dog-breed-clf-dp-2023-01-1-vanishinggradient-157a95a1',\n",
       "  'RuleEvaluationStatus': 'Error',\n",
       "  'StatusDetails': 'InternalServerError: We encountered an internal error. Please try again.',\n",
       "  'LastModifiedTime': datetime.datetime(2023, 1, 11, 11, 24, 4, 295000, tzinfo=tzlocal())},\n",
       " {'RuleConfigurationName': 'Overfit',\n",
       "  'RuleEvaluationJobArn': 'arn:aws:sagemaker:us-east-1:022926224205:processing-job/dog-breed-clf-dp-2023-01-1-overfit-1111df8b',\n",
       "  'RuleEvaluationStatus': 'Error',\n",
       "  'StatusDetails': 'InternalServerError: We encountered an internal error. Please try again.',\n",
       "  'LastModifiedTime': datetime.datetime(2023, 1, 11, 11, 24, 4, 295000, tzinfo=tzlocal())},\n",
       " {'RuleConfigurationName': 'Overtraining',\n",
       "  'RuleEvaluationJobArn': 'arn:aws:sagemaker:us-east-1:022926224205:processing-job/dog-breed-clf-dp-2023-01-1-overtraining-bd96d657',\n",
       "  'RuleEvaluationStatus': 'NoIssuesFound',\n",
       "  'LastModifiedTime': datetime.datetime(2023, 1, 11, 11, 24, 4, 295000, tzinfo=tzlocal())},\n",
       " {'RuleConfigurationName': 'PoorWeightInitialization',\n",
       "  'RuleEvaluationJobArn': 'arn:aws:sagemaker:us-east-1:022926224205:processing-job/dog-breed-clf-dp-2023-01-1-poorweightinitialization-b59b92de',\n",
       "  'RuleEvaluationStatus': 'Error',\n",
       "  'StatusDetails': 'InternalServerError: We encountered an internal error. Please try again.',\n",
       "  'LastModifiedTime': datetime.datetime(2023, 1, 11, 11, 24, 4, 295000, tzinfo=tzlocal())},\n",
       " {'RuleConfigurationName': 'LossNotDecreasing',\n",
       "  'RuleEvaluationJobArn': 'arn:aws:sagemaker:us-east-1:022926224205:processing-job/dog-breed-clf-dp-2023-01-1-lossnotdecreasing-753d875a',\n",
       "  'RuleEvaluationStatus': 'Error',\n",
       "  'StatusDetails': 'InternalServerError: We encountered an internal error. Please try again.',\n",
       "  'LastModifiedTime': datetime.datetime(2023, 1, 11, 11, 24, 4, 295000, tzinfo=tzlocal())},\n",
       " {'RuleConfigurationName': 'LowGPUUtilization',\n",
       "  'RuleEvaluationJobArn': 'arn:aws:sagemaker:us-east-1:022926224205:processing-job/dog-breed-clf-dp-2023-01-1-lowgpuutilization-7a6e4ad1',\n",
       "  'RuleEvaluationStatus': 'NoIssuesFound',\n",
       "  'LastModifiedTime': datetime.datetime(2023, 1, 11, 11, 23, 19, 769000, tzinfo=tzlocal())},\n",
       " {'RuleConfigurationName': 'CPUBottleneck',\n",
       "  'RuleEvaluationJobArn': 'arn:aws:sagemaker:us-east-1:022926224205:processing-job/dog-breed-clf-dp-2023-01-1-cpubottleneck-cab6efa2',\n",
       "  'RuleEvaluationStatus': 'NoIssuesFound',\n",
       "  'LastModifiedTime': datetime.datetime(2023, 1, 11, 11, 23, 19, 769000, tzinfo=tzlocal())},\n",
       " {'RuleConfigurationName': 'OverallSystemUsage',\n",
       "  'RuleEvaluationJobArn': 'arn:aws:sagemaker:us-east-1:022926224205:processing-job/dog-breed-clf-dp-2023-01-1-overallsystemusage-66564dcf',\n",
       "  'RuleEvaluationStatus': 'NoIssuesFound',\n",
       "  'LastModifiedTime': datetime.datetime(2023, 1, 11, 11, 23, 19, 769000, tzinfo=tzlocal())},\n",
       " {'RuleConfigurationName': 'ProfilerReport',\n",
       "  'RuleEvaluationJobArn': 'arn:aws:sagemaker:us-east-1:022926224205:processing-job/dog-breed-clf-dp-2023-01-1-profilerreport-8fa9f693',\n",
       "  'RuleEvaluationStatus': 'NoIssuesFound',\n",
       "  'LastModifiedTime': datetime.datetime(2023, 1, 11, 11, 23, 19, 769000, tzinfo=tzlocal())}]"
      ]
     },
     "execution_count": 40,
     "metadata": {},
     "output_type": "execute_result"
    }
   ],
   "source": [
    "estimator.latest_training_job.rule_job_summary()"
   ]
  },
  {
   "cell_type": "code",
   "execution_count": 45,
   "metadata": {
    "tags": []
   },
   "outputs": [
    {
     "name": "stdout",
     "output_type": "stream",
     "text": [
      "ProfilerConfig:{'S3OutputPath': 's3://sagemaker-us-east-1-022926224205/', 'ProfilingIntervalInMilliseconds': 500, 'ProfilingParameters': {'DataloaderProfilingConfig': '{\"StartStep\": 7, \"NumSteps\": 1, \"MetricsRegex\": \".*\", }', 'DetailedProfilingConfig': '{\"StartStep\": 5, \"NumSteps\": 1, }', 'FileOpenFailThreshold': '50', 'HorovodProfilingConfig': '{\"StartStep\": 13, \"NumSteps\": 1, }', 'LocalPath': '/opt/ml/output/profiler', 'PythonProfilingConfig': '{\"StartStep\": 9, \"NumSteps\": 3, \"ProfilerName\": \"cprofile\", \"cProfileTimer\": \"default\", }', 'RotateFileCloseIntervalInSeconds': '60', 'RotateMaxFileSizeInBytes': '10485760', 'SMDataParallelProfilingConfig': '{\"StartStep\": 15, \"NumSteps\": 1, }'}, 'DisableProfiler': False}\n",
      "s3 path:s3://sagemaker-us-east-1-022926224205/dog-breed-clf-dp-2023-01-11-11-13-23-895/profiler-output\n",
      "\n",
      "\n",
      "Profiler data from system is available\n"
     ]
    }
   ],
   "source": [
    "from smdebug.profiler.analysis.notebook_utils.training_job import TrainingJob\n",
    "\n",
    "session = boto3.session.Session()\n",
    "region = session.region_name\n",
    "training_job_name = estimator.latest_training_job.name\n",
    "tj = TrainingJob(training_job_name, region)\n",
    "tj.wait_for_sys_profiling_data_to_be_available()"
   ]
  },
  {
   "cell_type": "code",
   "execution_count": 46,
   "metadata": {
    "tags": []
   },
   "outputs": [
    {
     "data": {
      "application/javascript": [
       "(function(root) {\n",
       "  function now() {\n",
       "    return new Date();\n",
       "  }\n",
       "\n",
       "  const force = true;\n",
       "\n",
       "  if (typeof root._bokeh_onload_callbacks === \"undefined\" || force === true) {\n",
       "    root._bokeh_onload_callbacks = [];\n",
       "    root._bokeh_is_loading = undefined;\n",
       "  }\n",
       "\n",
       "const JS_MIME_TYPE = 'application/javascript';\n",
       "  const HTML_MIME_TYPE = 'text/html';\n",
       "  const EXEC_MIME_TYPE = 'application/vnd.bokehjs_exec.v0+json';\n",
       "  const CLASS_NAME = 'output_bokeh rendered_html';\n",
       "\n",
       "  /**\n",
       "   * Render data to the DOM node\n",
       "   */\n",
       "  function render(props, node) {\n",
       "    const script = document.createElement(\"script\");\n",
       "    node.appendChild(script);\n",
       "  }\n",
       "\n",
       "  /**\n",
       "   * Handle when an output is cleared or removed\n",
       "   */\n",
       "  function handleClearOutput(event, handle) {\n",
       "    const cell = handle.cell;\n",
       "\n",
       "    const id = cell.output_area._bokeh_element_id;\n",
       "    const server_id = cell.output_area._bokeh_server_id;\n",
       "    // Clean up Bokeh references\n",
       "    if (id != null && id in Bokeh.index) {\n",
       "      Bokeh.index[id].model.document.clear();\n",
       "      delete Bokeh.index[id];\n",
       "    }\n",
       "\n",
       "    if (server_id !== undefined) {\n",
       "      // Clean up Bokeh references\n",
       "      const cmd_clean = \"from bokeh.io.state import curstate; print(curstate().uuid_to_server['\" + server_id + \"'].get_sessions()[0].document.roots[0]._id)\";\n",
       "      cell.notebook.kernel.execute(cmd_clean, {\n",
       "        iopub: {\n",
       "          output: function(msg) {\n",
       "            const id = msg.content.text.trim();\n",
       "            if (id in Bokeh.index) {\n",
       "              Bokeh.index[id].model.document.clear();\n",
       "              delete Bokeh.index[id];\n",
       "            }\n",
       "          }\n",
       "        }\n",
       "      });\n",
       "      // Destroy server and session\n",
       "      const cmd_destroy = \"import bokeh.io.notebook as ion; ion.destroy_server('\" + server_id + \"')\";\n",
       "      cell.notebook.kernel.execute(cmd_destroy);\n",
       "    }\n",
       "  }\n",
       "\n",
       "  /**\n",
       "   * Handle when a new output is added\n",
       "   */\n",
       "  function handleAddOutput(event, handle) {\n",
       "    const output_area = handle.output_area;\n",
       "    const output = handle.output;\n",
       "\n",
       "    // limit handleAddOutput to display_data with EXEC_MIME_TYPE content only\n",
       "    if ((output.output_type != \"display_data\") || (!Object.prototype.hasOwnProperty.call(output.data, EXEC_MIME_TYPE))) {\n",
       "      return\n",
       "    }\n",
       "\n",
       "    const toinsert = output_area.element.find(\".\" + CLASS_NAME.split(' ')[0]);\n",
       "\n",
       "    if (output.metadata[EXEC_MIME_TYPE][\"id\"] !== undefined) {\n",
       "      toinsert[toinsert.length - 1].firstChild.textContent = output.data[JS_MIME_TYPE];\n",
       "      // store reference to embed id on output_area\n",
       "      output_area._bokeh_element_id = output.metadata[EXEC_MIME_TYPE][\"id\"];\n",
       "    }\n",
       "    if (output.metadata[EXEC_MIME_TYPE][\"server_id\"] !== undefined) {\n",
       "      const bk_div = document.createElement(\"div\");\n",
       "      bk_div.innerHTML = output.data[HTML_MIME_TYPE];\n",
       "      const script_attrs = bk_div.children[0].attributes;\n",
       "      for (let i = 0; i < script_attrs.length; i++) {\n",
       "        toinsert[toinsert.length - 1].firstChild.setAttribute(script_attrs[i].name, script_attrs[i].value);\n",
       "        toinsert[toinsert.length - 1].firstChild.textContent = bk_div.children[0].textContent\n",
       "      }\n",
       "      // store reference to server id on output_area\n",
       "      output_area._bokeh_server_id = output.metadata[EXEC_MIME_TYPE][\"server_id\"];\n",
       "    }\n",
       "  }\n",
       "\n",
       "  function register_renderer(events, OutputArea) {\n",
       "\n",
       "    function append_mime(data, metadata, element) {\n",
       "      // create a DOM node to render to\n",
       "      const toinsert = this.create_output_subarea(\n",
       "        metadata,\n",
       "        CLASS_NAME,\n",
       "        EXEC_MIME_TYPE\n",
       "      );\n",
       "      this.keyboard_manager.register_events(toinsert);\n",
       "      // Render to node\n",
       "      const props = {data: data, metadata: metadata[EXEC_MIME_TYPE]};\n",
       "      render(props, toinsert[toinsert.length - 1]);\n",
       "      element.append(toinsert);\n",
       "      return toinsert\n",
       "    }\n",
       "\n",
       "    /* Handle when an output is cleared or removed */\n",
       "    events.on('clear_output.CodeCell', handleClearOutput);\n",
       "    events.on('delete.Cell', handleClearOutput);\n",
       "\n",
       "    /* Handle when a new output is added */\n",
       "    events.on('output_added.OutputArea', handleAddOutput);\n",
       "\n",
       "    /**\n",
       "     * Register the mime type and append_mime function with output_area\n",
       "     */\n",
       "    OutputArea.prototype.register_mime_type(EXEC_MIME_TYPE, append_mime, {\n",
       "      /* Is output safe? */\n",
       "      safe: true,\n",
       "      /* Index of renderer in `output_area.display_order` */\n",
       "      index: 0\n",
       "    });\n",
       "  }\n",
       "\n",
       "  // register the mime type if in Jupyter Notebook environment and previously unregistered\n",
       "  if (root.Jupyter !== undefined) {\n",
       "    const events = require('base/js/events');\n",
       "    const OutputArea = require('notebook/js/outputarea').OutputArea;\n",
       "\n",
       "    if (OutputArea.prototype.mime_types().indexOf(EXEC_MIME_TYPE) == -1) {\n",
       "      register_renderer(events, OutputArea);\n",
       "    }\n",
       "  }\n",
       "  if (typeof (root._bokeh_timeout) === \"undefined\" || force === true) {\n",
       "    root._bokeh_timeout = Date.now() + 5000;\n",
       "    root._bokeh_failed_load = false;\n",
       "  }\n",
       "\n",
       "  const NB_LOAD_WARNING = {'data': {'text/html':\n",
       "     \"<div style='background-color: #fdd'>\\n\"+\n",
       "     \"<p>\\n\"+\n",
       "     \"BokehJS does not appear to have successfully loaded. If loading BokehJS from CDN, this \\n\"+\n",
       "     \"may be due to a slow or bad network connection. Possible fixes:\\n\"+\n",
       "     \"</p>\\n\"+\n",
       "     \"<ul>\\n\"+\n",
       "     \"<li>re-rerun `output_notebook()` to attempt to load from CDN again, or</li>\\n\"+\n",
       "     \"<li>use INLINE resources instead, as so:</li>\\n\"+\n",
       "     \"</ul>\\n\"+\n",
       "     \"<code>\\n\"+\n",
       "     \"from bokeh.resources import INLINE\\n\"+\n",
       "     \"output_notebook(resources=INLINE)\\n\"+\n",
       "     \"</code>\\n\"+\n",
       "     \"</div>\"}};\n",
       "\n",
       "  function display_loaded() {\n",
       "    const el = document.getElementById(null);\n",
       "    if (el != null) {\n",
       "      el.textContent = \"BokehJS is loading...\";\n",
       "    }\n",
       "    if (root.Bokeh !== undefined) {\n",
       "      if (el != null) {\n",
       "        el.textContent = \"BokehJS \" + root.Bokeh.version + \" successfully loaded.\";\n",
       "      }\n",
       "    } else if (Date.now() < root._bokeh_timeout) {\n",
       "      setTimeout(display_loaded, 100)\n",
       "    }\n",
       "  }\n",
       "\n",
       "  function run_callbacks() {\n",
       "    try {\n",
       "      root._bokeh_onload_callbacks.forEach(function(callback) {\n",
       "        if (callback != null)\n",
       "          callback();\n",
       "      });\n",
       "    } finally {\n",
       "      delete root._bokeh_onload_callbacks\n",
       "    }\n",
       "    console.debug(\"Bokeh: all callbacks have finished\");\n",
       "  }\n",
       "\n",
       "  function load_libs(css_urls, js_urls, callback) {\n",
       "    if (css_urls == null) css_urls = [];\n",
       "    if (js_urls == null) js_urls = [];\n",
       "\n",
       "    root._bokeh_onload_callbacks.push(callback);\n",
       "    if (root._bokeh_is_loading > 0) {\n",
       "      console.debug(\"Bokeh: BokehJS is being loaded, scheduling callback at\", now());\n",
       "      return null;\n",
       "    }\n",
       "    if (js_urls == null || js_urls.length === 0) {\n",
       "      run_callbacks();\n",
       "      return null;\n",
       "    }\n",
       "    console.debug(\"Bokeh: BokehJS not loaded, scheduling load and callback at\", now());\n",
       "    root._bokeh_is_loading = css_urls.length + js_urls.length;\n",
       "\n",
       "    function on_load() {\n",
       "      root._bokeh_is_loading--;\n",
       "      if (root._bokeh_is_loading === 0) {\n",
       "        console.debug(\"Bokeh: all BokehJS libraries/stylesheets loaded\");\n",
       "        run_callbacks()\n",
       "      }\n",
       "    }\n",
       "\n",
       "    function on_error(url) {\n",
       "      console.error(\"failed to load \" + url);\n",
       "    }\n",
       "\n",
       "    for (let i = 0; i < css_urls.length; i++) {\n",
       "      const url = css_urls[i];\n",
       "      const element = document.createElement(\"link\");\n",
       "      element.onload = on_load;\n",
       "      element.onerror = on_error.bind(null, url);\n",
       "      element.rel = \"stylesheet\";\n",
       "      element.type = \"text/css\";\n",
       "      element.href = url;\n",
       "      console.debug(\"Bokeh: injecting link tag for BokehJS stylesheet: \", url);\n",
       "      document.body.appendChild(element);\n",
       "    }\n",
       "\n",
       "    for (let i = 0; i < js_urls.length; i++) {\n",
       "      const url = js_urls[i];\n",
       "      const element = document.createElement('script');\n",
       "      element.onload = on_load;\n",
       "      element.onerror = on_error.bind(null, url);\n",
       "      element.async = false;\n",
       "      element.src = url;\n",
       "      console.debug(\"Bokeh: injecting script tag for BokehJS library: \", url);\n",
       "      document.head.appendChild(element);\n",
       "    }\n",
       "  };\n",
       "\n",
       "  function inject_raw_css(css) {\n",
       "    const element = document.createElement(\"style\");\n",
       "    element.appendChild(document.createTextNode(css));\n",
       "    document.body.appendChild(element);\n",
       "  }\n",
       "\n",
       "  const js_urls = [\"https://cdn.bokeh.org/bokeh/release/bokeh-2.4.3.min.js\", \"https://cdn.bokeh.org/bokeh/release/bokeh-gl-2.4.3.min.js\", \"https://cdn.bokeh.org/bokeh/release/bokeh-widgets-2.4.3.min.js\", \"https://cdn.bokeh.org/bokeh/release/bokeh-tables-2.4.3.min.js\", \"https://cdn.bokeh.org/bokeh/release/bokeh-mathjax-2.4.3.min.js\"];\n",
       "  const css_urls = [];\n",
       "\n",
       "  const inline_js = [    function(Bokeh) {\n",
       "      Bokeh.set_log_level(\"info\");\n",
       "    },\n",
       "function(Bokeh) {\n",
       "    }\n",
       "  ];\n",
       "\n",
       "  function run_inline_js() {\n",
       "    if (root.Bokeh !== undefined || force === true) {\n",
       "          for (let i = 0; i < inline_js.length; i++) {\n",
       "      inline_js[i].call(root, root.Bokeh);\n",
       "    }\n",
       "} else if (Date.now() < root._bokeh_timeout) {\n",
       "      setTimeout(run_inline_js, 100);\n",
       "    } else if (!root._bokeh_failed_load) {\n",
       "      console.log(\"Bokeh: BokehJS failed to load within specified timeout.\");\n",
       "      root._bokeh_failed_load = true;\n",
       "    } else if (force !== true) {\n",
       "      const cell = $(document.getElementById(null)).parents('.cell').data().cell;\n",
       "      cell.output_area.append_execute_result(NB_LOAD_WARNING)\n",
       "    }\n",
       "  }\n",
       "\n",
       "  if (root._bokeh_is_loading === 0) {\n",
       "    console.debug(\"Bokeh: BokehJS loaded, going straight to plotting\");\n",
       "    run_inline_js();\n",
       "  } else {\n",
       "    load_libs(css_urls, js_urls, function() {\n",
       "      console.debug(\"Bokeh: BokehJS plotting callback run at\", now());\n",
       "      run_inline_js();\n",
       "    });\n",
       "  }\n",
       "}(window));"
      ],
      "application/vnd.bokehjs_load.v0+json": "(function(root) {\n  function now() {\n    return new Date();\n  }\n\n  const force = true;\n\n  if (typeof root._bokeh_onload_callbacks === \"undefined\" || force === true) {\n    root._bokeh_onload_callbacks = [];\n    root._bokeh_is_loading = undefined;\n  }\n\n\n  if (typeof (root._bokeh_timeout) === \"undefined\" || force === true) {\n    root._bokeh_timeout = Date.now() + 5000;\n    root._bokeh_failed_load = false;\n  }\n\n  const NB_LOAD_WARNING = {'data': {'text/html':\n     \"<div style='background-color: #fdd'>\\n\"+\n     \"<p>\\n\"+\n     \"BokehJS does not appear to have successfully loaded. If loading BokehJS from CDN, this \\n\"+\n     \"may be due to a slow or bad network connection. Possible fixes:\\n\"+\n     \"</p>\\n\"+\n     \"<ul>\\n\"+\n     \"<li>re-rerun `output_notebook()` to attempt to load from CDN again, or</li>\\n\"+\n     \"<li>use INLINE resources instead, as so:</li>\\n\"+\n     \"</ul>\\n\"+\n     \"<code>\\n\"+\n     \"from bokeh.resources import INLINE\\n\"+\n     \"output_notebook(resources=INLINE)\\n\"+\n     \"</code>\\n\"+\n     \"</div>\"}};\n\n  function display_loaded() {\n    const el = document.getElementById(null);\n    if (el != null) {\n      el.textContent = \"BokehJS is loading...\";\n    }\n    if (root.Bokeh !== undefined) {\n      if (el != null) {\n        el.textContent = \"BokehJS \" + root.Bokeh.version + \" successfully loaded.\";\n      }\n    } else if (Date.now() < root._bokeh_timeout) {\n      setTimeout(display_loaded, 100)\n    }\n  }\n\n  function run_callbacks() {\n    try {\n      root._bokeh_onload_callbacks.forEach(function(callback) {\n        if (callback != null)\n          callback();\n      });\n    } finally {\n      delete root._bokeh_onload_callbacks\n    }\n    console.debug(\"Bokeh: all callbacks have finished\");\n  }\n\n  function load_libs(css_urls, js_urls, callback) {\n    if (css_urls == null) css_urls = [];\n    if (js_urls == null) js_urls = [];\n\n    root._bokeh_onload_callbacks.push(callback);\n    if (root._bokeh_is_loading > 0) {\n      console.debug(\"Bokeh: BokehJS is being loaded, scheduling callback at\", now());\n      return null;\n    }\n    if (js_urls == null || js_urls.length === 0) {\n      run_callbacks();\n      return null;\n    }\n    console.debug(\"Bokeh: BokehJS not loaded, scheduling load and callback at\", now());\n    root._bokeh_is_loading = css_urls.length + js_urls.length;\n\n    function on_load() {\n      root._bokeh_is_loading--;\n      if (root._bokeh_is_loading === 0) {\n        console.debug(\"Bokeh: all BokehJS libraries/stylesheets loaded\");\n        run_callbacks()\n      }\n    }\n\n    function on_error(url) {\n      console.error(\"failed to load \" + url);\n    }\n\n    for (let i = 0; i < css_urls.length; i++) {\n      const url = css_urls[i];\n      const element = document.createElement(\"link\");\n      element.onload = on_load;\n      element.onerror = on_error.bind(null, url);\n      element.rel = \"stylesheet\";\n      element.type = \"text/css\";\n      element.href = url;\n      console.debug(\"Bokeh: injecting link tag for BokehJS stylesheet: \", url);\n      document.body.appendChild(element);\n    }\n\n    for (let i = 0; i < js_urls.length; i++) {\n      const url = js_urls[i];\n      const element = document.createElement('script');\n      element.onload = on_load;\n      element.onerror = on_error.bind(null, url);\n      element.async = false;\n      element.src = url;\n      console.debug(\"Bokeh: injecting script tag for BokehJS library: \", url);\n      document.head.appendChild(element);\n    }\n  };\n\n  function inject_raw_css(css) {\n    const element = document.createElement(\"style\");\n    element.appendChild(document.createTextNode(css));\n    document.body.appendChild(element);\n  }\n\n  const js_urls = [\"https://cdn.bokeh.org/bokeh/release/bokeh-2.4.3.min.js\", \"https://cdn.bokeh.org/bokeh/release/bokeh-gl-2.4.3.min.js\", \"https://cdn.bokeh.org/bokeh/release/bokeh-widgets-2.4.3.min.js\", \"https://cdn.bokeh.org/bokeh/release/bokeh-tables-2.4.3.min.js\", \"https://cdn.bokeh.org/bokeh/release/bokeh-mathjax-2.4.3.min.js\"];\n  const css_urls = [];\n\n  const inline_js = [    function(Bokeh) {\n      Bokeh.set_log_level(\"info\");\n    },\nfunction(Bokeh) {\n    }\n  ];\n\n  function run_inline_js() {\n    if (root.Bokeh !== undefined || force === true) {\n          for (let i = 0; i < inline_js.length; i++) {\n      inline_js[i].call(root, root.Bokeh);\n    }\n} else if (Date.now() < root._bokeh_timeout) {\n      setTimeout(run_inline_js, 100);\n    } else if (!root._bokeh_failed_load) {\n      console.log(\"Bokeh: BokehJS failed to load within specified timeout.\");\n      root._bokeh_failed_load = true;\n    } else if (force !== true) {\n      const cell = $(document.getElementById(null)).parents('.cell').data().cell;\n      cell.output_area.append_execute_result(NB_LOAD_WARNING)\n    }\n  }\n\n  if (root._bokeh_is_loading === 0) {\n    console.debug(\"Bokeh: BokehJS loaded, going straight to plotting\");\n    run_inline_js();\n  } else {\n    load_libs(css_urls, js_urls, function() {\n      console.debug(\"Bokeh: BokehJS plotting callback run at\", now());\n      run_inline_js();\n    });\n  }\n}(window));"
     },
     "metadata": {},
     "output_type": "display_data"
    },
    {
     "name": "stdout",
     "output_type": "stream",
     "text": [
      "[2023-01-11 11:39:23.549 pytorch-1-12-gpu-py38-ml-t3-medium-5c243b1aae6a0c39c0e73a7744b4:397 INFO metrics_reader_base.py:134] Getting 9 event files\n",
      "select events:['total']\n",
      "select dimensions:['CPU', 'GPU']\n",
      "filtered_events:{'total'}\n",
      "filtered_dimensions:{'CPUUtilization-nodeid:algo-1', 'GPUMemoryUtilization-nodeid:algo-1', 'GPUUtilization-nodeid:algo-1'}\n"
     ]
    },
    {
     "data": {
      "text/html": [
       "\n",
       "  <div class=\"bk-root\" id=\"980e30c4-9e25-4590-a7db-912946c2f90a\" data-root-id=\"1125\"></div>\n"
      ]
     },
     "metadata": {},
     "output_type": "display_data"
    },
    {
     "data": {
      "application/javascript": [
       "(function(root) {\n",
       "  function embed_document(root) {\n",
       "  const docs_json = {\"82378b09-efe0-4988-b075-306aaa8f8af7\":{\"defs\":[],\"roots\":{\"references\":[{\"attributes\":{\"children\":[{\"id\":\"1124\"},{\"id\":\"1002\"}]},\"id\":\"1125\",\"type\":\"Row\"},{\"attributes\":{\"below\":[{\"id\":\"1092\"}],\"center\":[{\"id\":\"1095\"},{\"id\":\"1099\"}],\"height\":200,\"js_event_callbacks\":{\"selectiongeometry\":[{\"id\":\"1115\"}]},\"left\":[{\"id\":\"1096\"}],\"renderers\":[{\"id\":\"1118\"},{\"id\":\"1120\"}],\"title\":{\"id\":\"1130\"},\"toolbar\":{\"id\":\"1107\"},\"width\":1000,\"x_range\":{\"id\":\"1004\"},\"x_scale\":{\"id\":\"1088\"},\"y_range\":{\"id\":\"1086\"},\"y_scale\":{\"id\":\"1090\"}},\"id\":\"1084\",\"subtype\":\"Figure\",\"type\":\"Plot\"},{\"attributes\":{\"end\":102},\"id\":\"1086\",\"type\":\"Range1d\"},{\"attributes\":{},\"id\":\"1139\",\"type\":\"BasicTickFormatter\"},{\"attributes\":{\"args\":{\"div\":{\"id\":\"1002\"},\"s1\":{\"id\":\"1114\"}},\"code\":\"\\n                            console.log('Running CustomJS callback now.');\\n                            var inds = s1.selected.indices;\\n                            console.log(inds);\\n                            var line = \\\"<span style=float:left;clear:left;font_size=13px><b> Selected index range: [\\\" + Math.min.apply(Math,inds) + \\\",\\\" + Math.max.apply(Math,inds) + \\\"]</b></span>\\\\n\\\";\\n                            console.log(line)\\n                            var text = div.text.concat(line);\\n                            var lines = text.split(\\\"\\\\n\\\")\\n                            if (lines.length > 35)\\n                                lines.shift();\\n                            div.text = lines.join(\\\"\\\\n\\\");\"},\"id\":\"1115\",\"type\":\"CustomJS\"},{\"attributes\":{},\"id\":\"1093\",\"type\":\"BasicTicker\"},{\"attributes\":{\"data\":{\"x\":{\"__ndarray__\":\"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\",\"dtype\":\"float64\",\"order\":\"little\",\"shape\":[882]},\"y\":{\"__ndarray__\":\"AAAAAAAAAAAAAAAAAAAAAAAAAAAAAAAAAAAAAAAAAAAAAAAAAAAAAAAAAAAAAAAAAAAAAAAAAAAAAAAAAAAAAAAAAAAAAAAAAAAAAAAAAAAAAAAAAAAAAAAAAAAAAAAAAAAAAAAAAAAAAAAAAAAAAAAAAAAAAAAAAAAAAAAAAAAAAAAAAAAAAAAAAAAAAAAAAAAAAAAAAAAAAAAAAAAAAAAAAAAAAAAAAAAAAAAAAAAAAAAAAAAAAAAAAAAAAAAAAAAAAAAAAAAAAAAAAAAAAAAAAAAAAAAAAAAAAAAAAAAAAAAAAAAAAAAAAAAAAAAAAAAAAAAAAAAAAAAAAAAAAAAAAAAAAAAAAAAAAAAAAAAAAAAAAAAAAAAAAAAAAAAAAAAAAAAAAAAAAAAAAAAAAAAAAAAAAAAAAAAAAAAAAAAAAAAAAAAAAAAAAAAAAAAAAAAAAAAAAAAAAAAAAAAAAAAAAAAAAAAAAAAAAAAAAAAAAAAAAAAAAAAAAAAAAAAAAAAAAAAAAAAAAAAAAAAAAAAAAAAAAAAAAAAAAAAAAAAAAAAAAAAAAAAAAAAAAAAAAAAAAAAAAAAAAAAAAAAAAAAAAAAAAAAAAAAAAAAAAAAAAAAAAAAAAAAAAAAAAAAAAAAAAAAAAAAAAAAAAAAAAAAAAAAAAAAAAAAAAAAAAAAAAAAAAAAAAAAAAAAAAAAAAAAAAAAAAAAAAAAAAAAAAAAAAAAAAAAAAAAAAAAAAAAAAAAAAAAAAAAAAAAAAAAAAAAAAAAAAAAAAAAAAAAAAAAAAAAAAAAAAAAAAAAAAAAAAAAAAAAAAAAAAAAAAAAAAAAAAAAAAAAAAAAAAAAAAAAAAAAAAAAAAAAAAAAAAAAAAAAAAAAAAAAAAAAAAAAAAAAAAAAAAAAAAAAAAAAAAAAAAAAAAAAAAAAAAAAAAAAAAAAAAAAAAAAAAAAAAAAAAAAAAAAAAAAAAAAAAAAAAAAAAAAAAAAAAAAAAAAAAAAAAAAAAAAAAAAAAAAAAAAAAAAAAAAAAAAAAAAAAAAAAAAAAAAAAAAAAAAAAAAAAAAAAAAAAAAAAAAAAAAAAAAAAAAAAAAAAAAAAAAAAAAAAAAAAAAAAAAAAAAAAAAAAAAAAAAAAAAAAAAAAAAAAAAAAAAAAAAAAAAAAAAAAAAAAAAAAAAAAAAAAAAAAAAAAAAAAAAAAAAAAAAAAAAAAAAAAAAAAAAAAAAAAAAAAAAAAAAAAAAAAAAAAAAAAAAAAAAAAAAAAAAAAAAAAAAAAAAAAAAAAAAAAAAAAAAAAAAAAAAAAAAAAAAAAAAAAAAAAAAAAAAAAAAAAAAAAAAAAAAAAAAAAAAAAAAAAAAAAAAAAAAAAAAAAAAAAAAAAAAAAAAAAAAAAAAAAAAAAAAAAAAAAAAAAAAAAAAAAAAAAAAAAAAAAAAAAAAAAAAAAAAAAAAAAAAAAAAAAAAAAAAAAAAAAAAAAAAAAAAAAAAAAAAAAAAAAAAAAAAAAAAAAAAAAAAAAAAAAAAAAAAAAAAAAAAAAAAAAAAAAAAAAAAAAAAAAAAAAAAAAAAAAAAAAAAAAAAAAAAAAAAAAAAAAAAAAAAAAAAAAAAAAAAAAAAAAAAAAAAAAAAAAAAAAAAAAAAAAAAAAAAAAAAAAAAAAAAAAAAAAAAAAAAAAAAAAAAAAAAAAAAAAAAAAAAAAAAAAAAAAAAAAAAAAAAAAAAAAAAAAAAAAAAAAAAAAAAAAAAAAAAAAAAAAAAAAAAAAAAAAAAAAAAAAAAAAAAAAAAAAAAAAAAAAAAAAAAAAAAAAAAAAAAAAAAAAAAAAAAAAAAAAAAAAAAAAAAAAAAAAAAAAAAAAAAAAAAAAAAAAAAAAAAAAAAAAAAAAAAAAAAAAAAAAAAAAAAAAAAAAAAAAAAAAAAAAAAAAAAAAAAAAAAAAAAAAAAAAAAAAAAAAAAAAAAAAAAAAAAAAAAAAAAAAAAAAAAAAAAAAAAAAAAAAAAAAAAAAAAAAAAAAAAAAAAAAAAAAAAAAAAAAAAAAAAAAAAAAAAAAAAAAAAAAAAAAAAAAAAAAAAAAAAAAAAAAAAAAAAAAAAAAAAAAAAAAAAAAAAAAAAAAAAAAAAAAAAAAAAAAAAAAAAAAAAAAAAAAAAAAAAAAAAAAAAAAAAAAAAAAAAAAAAAAAAAAAAAAAAAAAAAAAAAAAAAAAAAAAAAAAAAAAAAAAAAAAAAAAAAAAAAAAAAAAAAAAAAAAAAAAAAAAAAAAAAAAAAAAAAAAAAAAAAAAAAAAAAAAAAAAAAAAAAAAAAAAAAAAAAAAAAAAAAAAAAAAAAAAAAAAAAAAAAAAAAAAAAAAAAAAAAAAAAAAAAAAAAAAAAAAAAAAAAAAAAAAAAAAAAAAAAAAAAAAAAAAAAAAAAAAAAAAAAAAAAAAAAAAAAAAAAAAAAAAAAAAAAAAAAAAAAAAAAAAAAAAAAAAAAAAAAAAAAAAAAAAAAAAAAAAAAAAAAAAAAAAAAAAAAAAAAAAAAAAAAAAAAAAAAAAAAAAAAAAAAAAAAAAAAAAAAAAAAAAAAAAAAAAAAAAAAAAAAAAAAAAAAAAAAAAAAAAAAAAAAAAAAAAAAAAAAAAAAAAAAAAAAAAAAAAAAAAAAAAAAAAAAAAAAAAAAAAAAAAAAAAAAAAAAAAAAAAAAAAAAAAAAAAAAAAAAAAAAAAAAAAAAAAAAAAAAAAAAAAAAAAAAAAAAAAAAAAAAAAAAAAAAAAAAAAAAAAAAAAAAAAAAAAAAAAAAAAAAAAAAAAAAAAAAAAAAAAAAAAAAAAAAAAAAAAAAAAAAAAAAAAAAAAAAAAAAAAAAAAAAAAAAAAAAAAAAAAAAAAAAAAAAAAAAAAAAAAAAAAAAAAAAAAAAAAAAAAAAAAAAAAAAAAAAAAAAAAAAAAAAAAAAAAAAAAAAAAAAAAAAAAAAAAAAAAAAAAAAAAAAAAAAAAAAAAAAAAAAAAAAAAAAAAAAAAAAAAAAAAAAAAAAAAAAAAAAAAAAAAAAAAAAAAAAAAAAAAAAAAAAAAAAAAAAAAAAAAAAAAAAAAAAAAAAAAAAAAAAAAAAAAAAAAAAAAAAAAAAAAAAAAAAAAAAAAAAAAAAAAAAAAAAAAAAAAAAAAAAAAAAAAAAAAAAAAAAAAAAAAAAAAAAAAAAAAAAAAAAAAAAAAAAAAAAAAAAAAAAAAAAAAAAAAAAAAAAAAAAAAAAAAAAAAAAAAAAAAAAAAAAAAAAAAAAAAAAAAAAAAAAAAAAAAAAAAAAAAAAAAAAAAAAAAAAAAAAAAAAAAAAAAAAAAAAAAAAAAAAAAAAAAAAAAAAAAAAAAAAAAAAAAAAAAAAAAAAAAAAAAAAAAAAAAAAAAAAAAAAAAAAAAAAAAAAAAAAAAAAAAAAAAAAAAAAAAAAAAAAAAAAAAAAAAAAAAAAAAAAAAAAAAAAAAAAAAAAAAAAAAAAAAAAAAAAAAAAAAAAAAAAAAAAAAAAAAAAAAAAAAAAAAAAAAAAAAAAAAAAAAAAAAAAAAAAAAAAAAAAAAAAAAAAAAAAAAAAAAAAAAAAAAAAAAAAAAAAAAAAAAAAAAAAAAAAAAAAAAAAAAAAAAAAAAAAAAAAAAAAAAAAAAAAAAAAAAAAAAAAAAAAAAAAAAAAAAAAAAAAAAAAAAAAAAAAAAAAAAAAAAAAAAAAAAAAAAAAAAAAAAAAAAAAAAAAAAAAAAAAAAAAAAAAAAAAAAAAAAAAAAAAAAAAAAAAAAAAAAAAAAAAAAAAAAAAAAAAAAAAAAAAAAAAAAAAAAAAAAAAAAAAAAAAAAAAAAAAAAAAAAAAAAAAAAAAAAAAAAAAAAAAAAAAAAAAAAAAAAAAAAAAAAAAAAAAAAAAAAAAAAAAAAAAAAAAAAAAAAAAAAAAAAAAAAAAAAAAAAAAAAAAAAAAAAAAAAAAAAAAAAAAAAAAAAAAAAAAAAAAAAAAAAAAAAAAAAAAAAAAAAAAAAAAAAAAAAAAAAAAAAAAAAAAAAAAAAAAAAAAAAAAAAAAAAAAAAAAAAAAAAAAAAAAAAAAAAAAAAAAAAAAAAAAAAAAAAAAAAAAAAAAAAAAAAAAAAAAAAAAAAAAAAAAAAAAAAAAAAAAAAAAAAAAAAAAAAAAAAAAAAAAAAAAAAAAAAAAAAAAAAAAAAAAAAAAAAAAAAAAAAAAAAAAAAAAAAAAAAAAAAAAAAAAAAAAAAAAAAAAAAAAAAAAAAAAAAAAAAAAAAAAAAAAAAAAAAAAAAAAAAAAAAAAAAAAAAAAAAAAAAAAAAAAAAAAAAAAAAAAAAAAAAAAAAAAAAAAAAAAAAAAAAAAAAAAAAAAAAAAAAAAAAAAAAAAAAAAAAAAAAAAAAAAAAAAAAAAAAAAAAAAAAAAAAAAAAAAAAAAAAAAAAAAAAAAAAAAAAAAAAAAAAAAAAAAAAAAAAAAAAAAAAAAAAAAAAAAAAAAAAAAAAAAAAAAAAAAAAAAAAAAAAAAAAAAAAAAAAAAAAAAAAAAAAAAAAAAAAAAAAAAAAAAAAAAAAAAAAAAAAAAAAAAAAAAAAAAAAAAAAAAAAAAAAAAAAAAAAAAAAAAAAAAAAAAAAAAAAAAAAAAAAAAAAAAAAAAAAAAAAAAAAAAAAAAAAAAAAAAAAAAAAAAAAAAAAAAAAAAAAAAAAAAAAAAAAAAAAAAAAAAAAAAAAAAAAAAAAAAAAAAAAAAAAAAAAAAAAAAAAAAAAAAAAAAAAAAAAAAAAAAAAAAAAAAAAAAAAAAAAAAAAAAAAAAAAAAAAAAAAAA8D8AAAAAAAAAAAAAAAAAAAAAAAAAAAAAAAAAAAAAAAAiQAAAAAAAAAhAAAAAAAAAJkAAAAAAAAAIQAAAAAAAAAhAAAAAAAAAMEAAAAAAAAAUQAAAAAAAAABAAAAAAAAAEEAAAAAAAAA/QAAAAAAAAAAAAAAAAAAAQ0AAAAAAAIBDQAAAAAAAADNAAAAAAAAAQ0AAAAAAAAAAAAAAAAAAgENAAAAAAAAAKEAAAAAAAIBCQAAAAAAAAERAAAAAAAAAMUAAAAAAAABDQAAAAAAAAD1AAAAAAAAAAAAAAAAAAADwPwAAAAAAAAAAAAAAAAAA8D8AAAAAAABEQAAAAAAAAD9AAAAAAAAAAAAAAAAAAAA3QAAAAAAAAENAAAAAAACAQkAAAAAAAABDQAAAAAAAAABAAAAAAAAAQUAAAAAAAAAAAAAAAAAAAAAAAAAAAACAQ0AAAAAAAABCQAAAAAAAABxAAAAAAAAAO0AAAAAAAABDQAAAAAAAgEJAAAAAAAAAAAAAAAAAAABDQAAAAAAAAD5AAAAAAAAAHEAAAAAAAAAAAAAAAAAAABBAAAAAAAAAAAAAAAAAAAAsQAAAAAAAAENAAAAAAAAALkAAAAAAAABDQAAAAAAAACZAAAAAAAAAQ0AAAAAAAABDQAAAAAAAAENAAAAAAAAAQ0AAAAAAAAA6QAAAAAAAAENAAAAAAAAALkAAAAAAAAA3QAAAAAAAAENAAAAAAAAAAAAAAAAAAAAAAAAAAAAAABBAAAAAAAAAQ0AAAAAAAAA+QAAAAAAAgENAAAAAAAAAREAAAAAAAABDQAAAAAAAgENAAAAAAAAAJkAAAAAAAAAAAAAAAAAAAENAAAAAAAAAQ0AAAAAAAABBQAAAAAAAABBAAAAAAAAAAAAAAAAAAAAAAAAAAAAAABxAAAAAAAAA8D8AAAAAAABEQAAAAAAAAENAAAAAAAAAQ0AAAAAAAAAAAAAAAAAAAAAAAAAAAAAAIEAAAAAAAIBDQAAAAAAAADRAAAAAAAAAO0AAAAAAAABDQAAAAAAAADRAAAAAAAAAQ0AAAAAAAAA1QAAAAAAAgEJAAAAAAACAQ0AAAAAAAIBBQAAAAAAAgENAAAAAAAAAM0AAAAAAAAAAAAAAAAAAgENAAAAAAAAAN0AAAAAAAAAQQAAAAAAAABxAAAAAAAAAREAAAAAAAAAmQAAAAAAAAAAAAAAAAAAAJEAAAAAAAAAmQAAAAAAAgENAAAAAAAAAAAAAAAAAAIBDQAAAAAAAAENAAAAAAAAAQ0AAAAAAAAA1QAAAAAAAgENAAAAAAAAAOEAAAAAAAIBDQAAAAAAAgEJAAAAAAACAQkAAAAAAAIBCQAAAAAAAACxAAAAAAAAAOEAAAAAAAAAzQAAAAAAAAAAAAAAAAAAALEAAAAAAAIBCQAAAAAAAAEJAAAAAAAAAMUAAAAAAAAAQQAAAAAAAAERAAAAAAACAQ0AAAAAAAAAcQAAAAAAAAPA/AAAAAAAA8D8AAAAAAAA3QAAAAAAAgENAAAAAAAAAJkAAAAAAAABDQAAAAAAAAPA/AAAAAAAAPkAAAAAAAABDQAAAAAAAAD5AAAAAAACAQEAAAAAAAABDQAAAAAAAAABAAAAAAAAACEAAAAAAAADwPwAAAAAAAAhAAAAAAAAA8D8AAAAAAAAAQAAAAAAAAABAAAAAAAAAFEAAAAAAAIBBQAAAAAAAAEJAAAAAAACAQUAAAAAAAAAAAAAAAAAAAAAAAAAAAAAAQkAAAAAAAAAoQAAAAAAAADlAAAAAAAAAP0AAAAAAAIBBQAAAAAAAgEFAAAAAAACAQUAAAAAAAAA2QAAAAAAAgEBAAAAAAAAAMkAAAAAAAAAAAAAAAAAAABhAAAAAAAAAQUAAAAAAAIBHQAAAAAAAACxAAAAAAAAAQEAAAAAAAAAAAAAAAAAAAENAAAAAAAAAQ0AAAAAAAABDQAAAAAAAADFAAAAAAAAAAEAAAAAAAAA6QAAAAAAAAERAAAAAAAAALkAAAAAAAAAiQAAAAAAAAENAAAAAAAAAJkAAAAAAAABDQAAAAAAAAAAAAAAAAAAAOUAAAAAAAAAUQAAAAAAAACBAAAAAAAAAAAAAAAAAAABEQAAAAAAAAENAAAAAAAAAOEAAAAAAAAAAAAAAAAAAAERAAAAAAAAAQ0AAAAAAAABDQAAAAAAAgENAAAAAAAAAPUAAAAAAAIBCQAAAAAAAgEJAAAAAAAAAAAAAAAAAAIBBQAAAAAAAAENAAAAAAAAANUAAAAAAAABDQAAAAAAAADtAAAAAAAAAKkAAAAAAAABDQAAAAAAAAENAAAAAAAAAOEAAAAAAAABDQAAAAAAAgEJAAAAAAAAANUAAAAAAAAA6QAAAAAAAAENAAAAAAAAAQ0AAAAAAAIBCQAAAAAAAAAAAAAAAAAAAAAAAAAAAAAAoQAAAAAAAADRAAAAAAAAAQ0AAAAAAAAAAAAAAAAAAAENAAAAAAAAAQEAAAAAAAAA/QAAAAAAAADhAAAAAAAAAAAAAAAAAAABDQAAAAAAAACpAAAAAAAAAREAAAAAAAIBAQAAAAAAAADpAAAAAAAAAAAAAAAAAAABEQAAAAAAAADhAAAAAAAAAAAAAAAAAAIBCQAAAAAAAAD1AAAAAAAAAM0AAAAAAAIBDQAAAAAAAACJAAAAAAAAALEAAAAAAAABDQAAAAAAAgEJAAAAAAAAAKkAAAAAAAIBDQAAAAAAAAD9AAAAAAAAAQ0AAAAAAAIBAQAAAAAAAACpAAAAAAAAAJEAAAAAAAAAAAAAAAAAAgENAAAAAAAAAQ0AAAAAAAIBDQAAAAAAAgEBAAAAAAAAAQEAAAAAAAAA9QAAAAAAAADxAAAAAAAAAREAAAAAAAIBBQAAAAAAAAEJAAAAAAAAAQ0AAAAAAAABAQAAAAAAAgENAAAAAAAAAEEAAAAAAAABDQAAAAAAAADxAAAAAAAAAAAAAAAAAAABDQAAAAAAAAENAAAAAAAAAOEAAAAAAAABAQAAAAAAAADhAAAAAAAAAM0AAAAAAAAAuQAAAAAAAAD1AAAAAAAAAOUAAAAAAAAAwQAAAAAAAgENAAAAAAACAQUAAAAAAAIBCQAAAAAAAADtAAAAAAAAAREAAAAAAAABDQAAAAAAAgENAAAAAAACAQkAAAAAAAIBBQAAAAAAAAC5AAAAAAAAAAAAAAAAAAIBDQAAAAAAAAENAAAAAAAAAEEAAAAAAAIBAQAAAAAAAAENAAAAAAAAAOkAAAAAAAABBQAAAAAAAADdAAAAAAAAAQkAAAAAAAAA3QAAAAAAAABRAAAAAAAAAJEAAAAAAAAA4QAAAAAAAAD9AAAAAAAAAQUAAAAAAAIBBQAAAAAAAgEFAAAAAAAAAAAAAAAAAAAAwQAAAAAAAgEFAAAAAAACAQkAAAAAAAABDQAAAAAAAAERAAAAAAAAAQEAAAAAAAABEQAAAAAAAADhAAAAAAAAAEEAAAAAAAAAAAAAAAAAAgENAAAAAAACAQEAAAAAAAAAqQAAAAAAAAEJAAAAAAAAAQ0AAAAAAAABDQAAAAAAAAENAAAAAAAAALEAAAAAAAAAAAAAAAAAAAAAAAAAAAACAQ0AAAAAAAIBDQAAAAAAAgENAAAAAAACAQ0AAAAAAAABDQAAAAAAAAENAAAAAAAAAAAAAAAAAAABDQAAAAAAAAAAAAAAAAAAA8D8AAAAAAAAQQAAAAAAAAENAAAAAAAAANUAAAAAAAAAAAAAAAAAAAENAAAAAAACAQ0AAAAAAAAAxQAAAAAAAAERAAAAAAAAAKEAAAAAAAABAQAAAAAAAAENAAAAAAAAAN0AAAAAAAABEQAAAAAAAADlAAAAAAAAAQ0AAAAAAAAAsQAAAAAAAADhAAAAAAAAAAAAAAAAAAAA8QAAAAAAAgENAAAAAAAAAQ0AAAAAAAABDQAAAAAAAgENAAAAAAAAAAAAAAAAAAAAUQAAAAAAAAAhAAAAAAAAAAAAAAAAAAAAAAAAAAAAAAAhAAAAAAAAA8D8AAAAAAAAQQAAAAAAAAPA/AAAAAAAAAAAAAAAAAIBDQAAAAAAAgEJAAAAAAAAAO0AAAAAAAIBBQAAAAAAAgENAAAAAAAAANkAAAAAAAIBDQAAAAAAAACRAAAAAAAAAAAAAAAAAAAA3QAAAAAAAgENAAAAAAACAQ0AAAAAAAIBCQAAAAAAAAENAAAAAAAAAAAAAAAAAAABDQAAAAAAAADBAAAAAAAAAAAAAAAAAAAAAAAAAAAAAADpAAAAAAACAQ0AAAAAAAAAAAAAAAAAAAERAAAAAAAAAQ0AAAAAAAABDQAAAAAAAADZAAAAAAAAAMEAAAAAAAAA/QAAAAAAAADFAAAAAAAAAQkAAAAAAAIBAQAAAAAAAAENAAAAAAAAALkAAAAAAAABCQAAAAAAAAERAAAAAAAAANkAAAAAAAIBCQAAAAAAAgENAAAAAAAAAQ0AAAAAAAAAsQAAAAAAAAAAAAAAAAAAAREAAAAAAAABDQAAAAAAAADpAAAAAAAAAO0AAAAAAAIBBQAAAAAAAAENAAAAAAAAANUAAAAAAAAAzQAAAAAAAAENAAAAAAAAAJkAAAAAAAAAAAAAAAAAAACxA\",\"dtype\":\"float64\",\"order\":\"little\",\"shape\":[882]}},\"selected\":{\"id\":\"1154\"},\"selection_policy\":{\"id\":\"1153\"}},\"id\":\"1074\",\"type\":\"ColumnDataSource\"},{\"attributes\":{},\"id\":\"1140\",\"type\":\"AllLabels\"},{\"attributes\":{\"fill_alpha\":{\"value\":0},\"line_width\":{\"value\":0},\"x\":{\"field\":\"x\"},\"y\":{\"field\":\"y\"}},\"id\":\"1117\",\"type\":\"Circle\"},{\"attributes\":{},\"id\":\"1090\",\"type\":\"LinearScale\"},{\"attributes\":{},\"id\":\"1088\",\"type\":\"LinearScale\"},{\"attributes\":{\"axis_label\":\"Time in ms\",\"coordinates\":null,\"formatter\":{\"id\":\"1148\"},\"group\":null,\"major_label_policy\":{\"id\":\"1149\"},\"ticker\":{\"id\":\"1093\"}},\"id\":\"1092\",\"type\":\"LinearAxis\"},{\"attributes\":{},\"id\":\"1142\",\"type\":\"BasicTickFormatter\"},{\"attributes\":{\"coordinates\":null,\"data_source\":{\"id\":\"1034\"},\"glyph\":{\"id\":\"1036\"},\"group\":null,\"hover_glyph\":null,\"view\":{\"id\":\"1039\"}},\"id\":\"1038\",\"type\":\"GlyphRenderer\"},{\"attributes\":{},\"id\":\"1104\",\"type\":\"SaveTool\"},{\"attributes\":{\"axis_label\":\"GPUUtilization-nodeid:algo-1_total\",\"coordinates\":null,\"formatter\":{\"id\":\"1145\"},\"group\":null,\"major_label_policy\":{\"id\":\"1146\"},\"ticker\":{\"id\":\"1097\"}},\"id\":\"1096\",\"type\":\"LinearAxis\"},{\"attributes\":{\"axis\":{\"id\":\"1092\"},\"coordinates\":null,\"group\":null,\"ticker\":null,\"visible\":false},\"id\":\"1095\",\"type\":\"Grid\"},{\"attributes\":{\"source\":{\"id\":\"1034\"}},\"id\":\"1039\",\"type\":\"CDSView\"},{\"attributes\":{},\"id\":\"1143\",\"type\":\"AllLabels\"},{\"attributes\":{\"axis\":{\"id\":\"1096\"},\"coordinates\":null,\"dimension\":1,\"group\":null,\"ticker\":null,\"visible\":false},\"id\":\"1099\",\"type\":\"Grid\"},{\"attributes\":{\"line_color\":\"blue\",\"x\":{\"field\":\"x\"},\"y\":{\"field\":\"y\"}},\"id\":\"1036\",\"type\":\"Line\"},{\"attributes\":{},\"id\":\"1097\",\"type\":\"BasicTicker\"},{\"attributes\":{\"children\":[{\"id\":\"1003\"},{\"id\":\"1044\"},{\"id\":\"1084\"}]},\"id\":\"1124\",\"type\":\"Column\"},{\"attributes\":{\"end\":102},\"id\":\"1046\",\"type\":\"Range1d\"},{\"attributes\":{},\"id\":\"1102\",\"type\":\"PanTool\"},{\"attributes\":{\"fill_alpha\":{\"value\":0},\"line_width\":{\"value\":0},\"x\":{\"field\":\"x\"},\"y\":{\"field\":\"y\"}},\"id\":\"1037\",\"type\":\"Circle\"},{\"attributes\":{\"dimensions\":\"width\",\"overlay\":{\"id\":\"1106\"}},\"id\":\"1101\",\"type\":\"BoxSelectTool\"},{\"attributes\":{\"source\":{\"id\":\"1034\"}},\"id\":\"1041\",\"type\":\"CDSView\"},{\"attributes\":{},\"id\":\"1100\",\"type\":\"CrosshairTool\"},{\"attributes\":{\"callback\":null,\"renderers\":[{\"id\":\"1040\"}],\"tooltips\":[[\"index\",\"$index\"],[\"(x,y)\",\"($x, $y)\"]]},\"id\":\"1042\",\"type\":\"HoverTool\"},{\"attributes\":{\"coordinates\":null,\"data_source\":{\"id\":\"1034\"},\"glyph\":{\"id\":\"1037\"},\"group\":null,\"hover_glyph\":null,\"view\":{\"id\":\"1041\"}},\"id\":\"1040\",\"type\":\"GlyphRenderer\"},{\"attributes\":{},\"id\":\"1103\",\"type\":\"ResetTool\"},{\"attributes\":{\"dimensions\":\"width\"},\"id\":\"1105\",\"type\":\"WheelZoomTool\"},{\"attributes\":{\"below\":[{\"id\":\"1052\"}],\"center\":[{\"id\":\"1055\"},{\"id\":\"1059\"}],\"height\":200,\"js_event_callbacks\":{\"selectiongeometry\":[{\"id\":\"1075\"}]},\"left\":[{\"id\":\"1056\"}],\"renderers\":[{\"id\":\"1078\"},{\"id\":\"1080\"}],\"title\":{\"id\":\"1128\"},\"toolbar\":{\"id\":\"1067\"},\"width\":1000,\"x_range\":{\"id\":\"1004\"},\"x_scale\":{\"id\":\"1048\"},\"y_range\":{\"id\":\"1046\"},\"y_scale\":{\"id\":\"1050\"}},\"id\":\"1044\",\"subtype\":\"Figure\",\"type\":\"Plot\"},{\"attributes\":{\"bottom_units\":\"screen\",\"coordinates\":null,\"fill_alpha\":0.5,\"fill_color\":\"lightgrey\",\"group\":null,\"left_units\":\"screen\",\"level\":\"overlay\",\"line_alpha\":1.0,\"line_color\":\"black\",\"line_dash\":[4,4],\"line_width\":2,\"right_units\":\"screen\",\"syncable\":false,\"top_units\":\"screen\"},\"id\":\"1106\",\"type\":\"BoxAnnotation\"},{\"attributes\":{\"args\":{\"div\":{\"id\":\"1002\"},\"s1\":{\"id\":\"1074\"}},\"code\":\"\\n                            console.log('Running CustomJS callback now.');\\n                            var inds = s1.selected.indices;\\n                            console.log(inds);\\n                            var line = \\\"<span style=float:left;clear:left;font_size=13px><b> Selected index range: [\\\" + Math.min.apply(Math,inds) + \\\",\\\" + Math.max.apply(Math,inds) + \\\"]</b></span>\\\\n\\\";\\n                            console.log(line)\\n                            var text = div.text.concat(line);\\n                            var lines = text.split(\\\"\\\\n\\\")\\n                            if (lines.length > 35)\\n                                lines.shift();\\n                            div.text = lines.join(\\\"\\\\n\\\");\"},\"id\":\"1075\",\"type\":\"CustomJS\"},{\"attributes\":{},\"id\":\"1053\",\"type\":\"BasicTicker\"},{\"attributes\":{\"fill_alpha\":{\"value\":0},\"line_width\":{\"value\":0},\"x\":{\"field\":\"x\"},\"y\":{\"field\":\"y\"}},\"id\":\"1077\",\"type\":\"Circle\"},{\"attributes\":{},\"id\":\"1050\",\"type\":\"LinearScale\"},{\"attributes\":{},\"id\":\"1048\",\"type\":\"LinearScale\"},{\"attributes\":{\"axis_label\":\"Time in ms\",\"coordinates\":null,\"formatter\":{\"id\":\"1142\"},\"group\":null,\"major_label_policy\":{\"id\":\"1143\"},\"ticker\":{\"id\":\"1053\"}},\"id\":\"1052\",\"type\":\"LinearAxis\"},{\"attributes\":{},\"id\":\"1064\",\"type\":\"SaveTool\"},{\"attributes\":{\"axis_label\":\"GPUMemoryUtilization-nodeid:algo-1_total\",\"coordinates\":null,\"formatter\":{\"id\":\"1139\"},\"group\":null,\"major_label_policy\":{\"id\":\"1140\"},\"ticker\":{\"id\":\"1057\"}},\"id\":\"1056\",\"type\":\"LinearAxis\"},{\"attributes\":{\"axis\":{\"id\":\"1052\"},\"coordinates\":null,\"group\":null,\"ticker\":null,\"visible\":false},\"id\":\"1055\",\"type\":\"Grid\"},{\"attributes\":{},\"id\":\"1153\",\"type\":\"UnionRenderers\"},{\"attributes\":{},\"id\":\"1154\",\"type\":\"Selection\"},{\"attributes\":{\"axis\":{\"id\":\"1056\"},\"coordinates\":null,\"dimension\":1,\"group\":null,\"ticker\":null,\"visible\":false},\"id\":\"1059\",\"type\":\"Grid\"},{\"attributes\":{},\"id\":\"1057\",\"type\":\"BasicTicker\"},{\"attributes\":{\"coordinates\":null,\"data_source\":{\"id\":\"1114\"},\"glyph\":{\"id\":\"1117\"},\"group\":null,\"hover_glyph\":null,\"view\":{\"id\":\"1121\"}},\"id\":\"1120\",\"type\":\"GlyphRenderer\"},{\"attributes\":{},\"id\":\"1062\",\"type\":\"PanTool\"},{\"attributes\":{\"dimensions\":\"width\",\"overlay\":{\"id\":\"1066\"}},\"id\":\"1061\",\"type\":\"BoxSelectTool\"},{\"attributes\":{},\"id\":\"1060\",\"type\":\"CrosshairTool\"},{\"attributes\":{},\"id\":\"1145\",\"type\":\"BasicTickFormatter\"},{\"attributes\":{},\"id\":\"1063\",\"type\":\"ResetTool\"},{\"attributes\":{\"dimensions\":\"width\"},\"id\":\"1065\",\"type\":\"WheelZoomTool\"},{\"attributes\":{\"callback\":null,\"renderers\":[{\"id\":\"1080\"}],\"tooltips\":[[\"index\",\"$index\"],[\"(x,y)\",\"($x, $y)\"]]},\"id\":\"1082\",\"type\":\"HoverTool\"},{\"attributes\":{},\"id\":\"1146\",\"type\":\"AllLabels\"},{\"attributes\":{\"source\":{\"id\":\"1074\"}},\"id\":\"1081\",\"type\":\"CDSView\"},{\"attributes\":{\"line_color\":\"blue\",\"x\":{\"field\":\"x\"},\"y\":{\"field\":\"y\"}},\"id\":\"1116\",\"type\":\"Line\"},{\"attributes\":{},\"id\":\"1148\",\"type\":\"BasicTickFormatter\"},{\"attributes\":{\"bottom_units\":\"screen\",\"coordinates\":null,\"fill_alpha\":0.5,\"fill_color\":\"lightgrey\",\"group\":null,\"left_units\":\"screen\",\"level\":\"overlay\",\"line_alpha\":1.0,\"line_color\":\"black\",\"line_dash\":[4,4],\"line_width\":2,\"right_units\":\"screen\",\"syncable\":false,\"top_units\":\"screen\"},\"id\":\"1066\",\"type\":\"BoxAnnotation\"},{\"attributes\":{\"tools\":[{\"id\":\"1100\"},{\"id\":\"1101\"},{\"id\":\"1102\"},{\"id\":\"1103\"},{\"id\":\"1104\"},{\"id\":\"1105\"},{\"id\":\"1122\"}]},\"id\":\"1107\",\"type\":\"Toolbar\"},{\"attributes\":{},\"id\":\"1149\",\"type\":\"AllLabels\"},{\"attributes\":{\"source\":{\"id\":\"1114\"}},\"id\":\"1119\",\"type\":\"CDSView\"},{\"attributes\":{\"coordinates\":null,\"data_source\":{\"id\":\"1114\"},\"glyph\":{\"id\":\"1116\"},\"group\":null,\"hover_glyph\":null,\"view\":{\"id\":\"1119\"}},\"id\":\"1118\",\"type\":\"GlyphRenderer\"},{\"attributes\":{\"data\":{\"x\":{\"__ndarray__\":\"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\",\"dtype\":\"float64\",\"order\":\"little\",\"shape\":[882]},\"y\":{\"__ndarray__\":\"AAAAAAAAAAAAAAAAAAAAAAAAAAAAAAAAAAAAAAAAAAAAAAAAAAAAAAAAAAAAAAAAAAAAAAAAAAAAAAAAAAAAAAAAAAAAAAAAAAAAAAAAAAAAAAAAAAAAAAAAAAAAAAAAAAAAAAAAAAAAAAAAAAAAAAAAAAAAAAAAAAAAAAAAAAAAAAAAAAAAAAAAAAAAAAAAAAAAAAAAAAAAAAAAAAAAAAAAAAAAAAAAAAAAAAAAAAAAAAAAAAAAAAAAAAAAAAAAAAAAAAAAAAAAAAAAAAAAAAAAAAAAAAAAAAAAAAAAAAAAAAAAAAAAAAAAAAAAAAAAAAAAAAAAAAAAAAAAAAAAAAAAAAAAAAAAAAAAAAAAAAAAAAAAAAAAAAAAAAAAAAAAAAAAAAAAAAAAAAAAAAAAAAAAAAAAAAAAAAAAAAAAAAAAAAAAAAAAAAAAAAAAAAAAAAAAAAAAAAAAAAAAAAAAAAAAAAAAAAAAAAAAAAAAAAAAAAAAAAAAAAAAAAAAAAAAAAAAAAAAAAAAAAAAAAAAAAAAAAAAAAAAAAAAAAAAAAAAAAAAAAAAAAAAAAAAAAAAAAAAAAAAAAAAAAAAAAAAAAAAAAAAAAAAAAAAAAAAAAAAAAAAAAAAAAAAAAAAAAAAAAAAAAAAAAAAAAAAAAAAAAAAAAAAAAAAAAAAAAAAAAAAAAAAAAAAAAAAAAAAAAAAAAAAAAAAAAAAAAAAAAAAAAAAAAAAAAAAAAAAAAAAAAAAAAAAAAAAAAAAAAAAAAAAAAAAAAAAAAAAAAAAAAAAAAAAAAAAAAAAAAAAAAAAAAAAAAAAAAAAAAAAAAAAAAAAAAAAAAAAAAAAAAAAAAAAAAAAAAAAAAAAAAAAAAAAAAAAAAAAAAAAAAAAAAAAAAAAAAAAAAAAAAAAAAAAAAAAAAAAAAAAAAAAAAAAAAAAAAAAAAAAAAAAAAAAAAAAAAAAAAAAAAAAAAAAAAAAAAAAAAAAAAAAAAAAAAAAAAAAAAAAAAAAAAAAAAAAAAAAAAAAAAAAAAAAAAAAAAAAAAAAAAAAAAAAAAAAAAAAAAAAAAAAAAAAAAAAAAAAAAAAAAAAAAAAAAAAAAAAAAAAAAAAAAAAAAAAAAAAAAAAAAAAAAAAAAAAAAAAAAAAAAAAAAAAAAAAAAAAAAAAAAAAAAAAAAAAAAAAAAAAAAAAAAAAAAAAAAAAAAAAAAAAAAAAAAAAAAAAAAAAAAAAAAAAAAAAAAAAAAAAAAAAAAAAAAAAAAAAAAAAAAAAAAAAAAAAAAAAAAAAAAAAAAAAAAAAAAAAAAAAAAAAAAAAAAAAAAAAAAAAAAAAAAAAAAAAAAAAAAAAAAAAAAAAAAAAAAAAAAAAAAAAAAAAAAAAAAAAAAAAAAAAAAAAAAAAAAAAAAAAAAAAAAAAAAAAAAAAAAAAAAAAAAAAAAAAAAAAAAAAAAAAAAAAAAAAAAAAAAAAAAAAAAAAAAAAAAAAAAAAAAAAAAAAAAAAAAAAAAAAAAAAAAAAAAAAAAAAAAAAAAAAAAAAAAAAAAAAAAAAAAAAAAAAAAAAAAAAAAAAAAAAAAAAAAAAAAAAAAAAAAAAAAAAAAAAAAAAAAAAAAAAAAAAAAAAAAAAAAAAAAAAAAAAAAAAAAAAAAAAAAAAAAAAAAAAAAAAAAAAAAAAAAAAAAAAAAAAAAAAAAAAAAAAAAAAAAAAAAAAAAAAAAAAAAAAAAAAAAAAAAAAAAAAAAAAAAAAAAAAAAAAAAAAAAAAAAAAAAAAAAAAAAAAAAAAAAAAAAAAAAAAAAAAAAAAAAAAAAAAAAAAAAAAAAAAAAAAAAAAAAAAAAAAAAAAAAAAAAAAAAAAAAAAAAAAAAAAAAAAAAAAAAAAAAAAAAAAAAAAAAAAAAAAAAAAAAAAAAAAAAAAAAAAAAAAAAAAAAAAAAAAAAAAAAAAAAAAAAAAAAAAAAAAAAAAAAAAAAAAAAAAAAAAAAAAAAAAAAAAAAAAAAAAAAAAAAAAAAAAAAAAAAAAAAAAAAAAAAAAAAAAAAAAAAAAAAAAAAAAAAAAAAAAAAAAAAAAAAAAAAAAAAAAAAAAAAAAAAAAAAAAAAAAAAAAAAAAAAAAAAAAAAAAAAAAAAAAAAAAAAAAAAAAAAAAAAAAAAAAAAAAAAAAAAAAAAAAAAAAAAAAAAAAAAAAAAAAAAAAAAAAAAAAAAAAAAAAAAAAAAAAAAAAAAAAAAAAAAAAAAAAAAAAAAAAAAAAAAAAAAAAAAAAAAAAAAAAAAAAAAAAAAAAAAAAAAAAAAAAAAAAAAAAAAAAAAAAAAAAAAAAAAAAAAAAAAAAAAAAAAAAAAAAAAAAAAAAAAAAAAAAAAAAAAAAAAAAAAAAAAAAAAAAAAAAAAAAAAAAAAAAAAAAAAAAAAAAAAAAAAAAAAAAAAAAAAAAAAAAAAAAAAAAAAAAAAAAAAAAAAAAAAAAAAAAAAAAAAAAAAAAAAAAAAAAAAAAAAAAAAAAAAAAAAAAAAAAAAAAAAAAAAAAAAAAAAAAAAAAAAAAAAAAAAAAAAAAAAAAAAAAAAAAAAAAAAAAAAAAAAAAAAAAAAAAAAAAAAAAAAAAAAAAAAAAAAAAAAAAAAAAAAAAAAAAAAAAAAAAAAAAAAAAAAAAAAAAAAAAAAAAAAAAAAAAAAAAAAAAAAAAAAAAAAAAAAAAAAAAAAAAAAAAAAAAAAAAAAAAAAAAAAAAAAAAAAAAAAAAAAAAAAAAAAAAAAAAAAAAAAAAAAAAAAAAAAAAAAAAAAAAAAAAAAAAAAAAAAAAAAAAAAAAAAAAAAAAAAAAAAAAAAAAAAAAAAAAAAAAAAAAAAAAAAAAAAAAAAAAAAAAAAAAAAAAAAAAAAAAAAAAAAAAAAAAAAAAAAAAAAAAAAAAAAAAAAAAAAAAAAAAAAAAAAAAAAAAAAAAAAAAAAAAAAAAAAAAAAAAAAAAAAAAAAAAAAAAAAAAAAAAAAAAAAAAAAAAAAAAAAAAAAAAAAAAAAAAAAAAAAAAAAAAAAAAAAAAAAAAAAAAAAAAAAAAAAAAAAAAAAAAAAAAAAAAAAAAAAAAAAAAAAAAAAAAAAAAAAAAAAAAAAAAAAAAAAAAAAAAAAAAAAAAAAAAAAAAAAAAAAAAAAAAAAAAAAAAAAAAAAAAAAAAAAAAAAAAAAAAAAAAAAAAAAAAAAAAAAAAAAAAAAAAAAAAAAAAAAAAAAAAAAAAAAAAAAAAAAAAAAAAAAAAAAAAAAAAAAAAAAAAAAAAAAAAAAAAAAAAAAAAAAAAAAAAAAAAAAAAAAAAAAAAAAAAAAAAAAAAAAAAAAAAAAAAAAAAAAAAAAAAAAAAAAAAAAAAAAAAAAAAAAAAAAAAAAAAAAAAAAAAAAAAAAAAAAAAAAAAAAAAAAAAAAAAAAAAAAAAAAAAAAAAAAAAAAAAAAAAAAAAAAAAAAAAAAAAAAAAAAAAAAAAAAAAAAAAAAAAAAAAAAAAAAAAAAAAAAAAAAAAAAAAAAAAAAAAAAAAAAAAAAAAAAAAAAAAAAAAAAAAAAAAAAAAAAAAAAAAAAAAAAAAAAAAAAAAAAAAAAAAAAAAAAAAAAAAAAAAAAAAAAAAAAAAAAAAAAAAAAAAAAAAAAAAAAAAAAAAAAAAAAAAAAAAAAAAAAAAAAAAAAAAAAAAAAAAAAAAAAAAAAAAAAAAAAAAAAAAAAAAAAAAAAAAAAAAAAAAAAAAAAAAAAAAAAAAAAAAAAAAAAAAAAAAAAAAAAAAAAAAAAAAAAAAAAAAAAAAAAAAAAAAAAAAAAAAAAAAAAAAAAAAAAAAAAAAAAAAAAAAAAAAAAAAAAAAAAAAAAAAAAAAAAAAAAAAAAAAAAAAAAAAAAAAAAAAAAAAAAAAAAAAAAAAAAAAAAAAAAAAAAAAAAAAAAAAAAAAAAAAAAAAAAAAAAAAAAAAAAAAAAAAAAAAAAAAAAAAAAAAAAAAAAAAAAAAAAAAAAAAAAAAAAAAAAAAAAAAAAAAAAAAAAAAAAAAAAAAAAAAAAAAAAAAAAAAAAAAAAAAAAAAAAAAAAAAAAAAAAAAAAAAAAAAAAAAAAAAAAAAAAAAAAAAAAAAAAAAAAAAAAAAAAAAAAAAAAAAAAAAAAAAAAAAAAAAAAAAAAAAAAAAAAAAAAAAAAAAAAAAAAAAAAAAAAAAAAAAAAAAAAAAAAAAAAAAAAAAAAAAAAAAAAAAAAAAAAAAAAAAAAAAAAAAAAAAAAAAAAAAAAAAAAAAAAAAAAAAAAAAAAAAAAAAAAAAAAAAAAAAAAAAAAAAAAAAAAAAAAAAAAAAAAAAAAAAAAAAAAAAAAAAAAAAAAAAAAAAAAAAAAAAAAAAAAAAAAAAAAAAAAAAAAAAAAAAAAAAAAAAAAAAAAAAAAAAAAAAAAAAAAAAAAAAAAAAAAAAAAAAAAAAAAAAAAAAAAAAAAAAAAAAAAAAAAAAAAAAAAAAAAAAAAAAAAAAAAAAAAAAAAAAAAAAAAAAAAAAAAAAAAAAAAAAAAAAAAAAAAAAAAAAAAAAAAAAAAAAAAAAAAAAAAAAAAAAAAAAAAAAAAAAAAAAAAAAAAAAAAAAAAAAAAAAAAAAAAAAAAAAAAAAAAAAAAAAAAAAAAAAAAAAAAAAAAAAAAAAAAAAAAAAAAAAAAAAAAAAAAAAAAAAAAAAAAAAAAAAAAAAAAAAAAAAAAAAAAAAAAAAAAAAAAAAAAAAAAAAAAAAAAAAAAAAAAAAAAAAQAAAAAAAABBAAAAAAAAAFEAAAAAAAAAYQAAAAAAAABRAAAAAAAAAHEAAAAAAAAAAQAAAAAAAABhAAAAAAAAAEEAAAAAAAAAyQAAAAAAAAAhAAAAAAAAAMEAAAAAAAAAkQAAAAAAAAChAAAAAAAAAPEAAAAAAAAAqQAAAAAAAACBAAAAAAAAAKkAAAAAAAABIQAAAAAAAAAAAAAAAAAAARUAAAAAAAABFQAAAAAAAADVAAAAAAACAREAAAAAAAAAAAAAAAAAAgEVAAAAAAAAALEAAAAAAAIBEQAAAAAAAgERAAAAAAAAAM0AAAAAAAABFQAAAAAAAAD5AAAAAAAAAAAAAAAAAAADwPwAAAAAAAAAAAAAAAAAA8D8AAAAAAABFQAAAAAAAAEBAAAAAAAAAAAAAAAAAAAA5QAAAAAAAAEVAAAAAAAAAREAAAAAAAIBFQAAAAAAAAAhAAAAAAACAQkAAAAAAAAAAAAAAAAAAAABAAAAAAACARUAAAAAAAABDQAAAAAAAACJAAAAAAAAAPEAAAAAAAABFQAAAAAAAAERAAAAAAAAA8D8AAAAAAIBFQAAAAAAAgEBAAAAAAAAAIEAAAAAAAAAAAAAAAAAAABhAAAAAAAAAAAAAAAAAAAAuQAAAAAAAAEVAAAAAAAAAMEAAAAAAAIBFQAAAAAAAAChAAAAAAACARUAAAAAAAABFQAAAAAAAAEVAAAAAAAAARUAAAAAAAAA8QAAAAAAAgEVAAAAAAAAAMUAAAAAAAAA5QAAAAAAAAEVAAAAAAAAAAAAAAAAAAAAAAAAAAAAAABhAAAAAAACARUAAAAAAAABAQAAAAAAAAERAAAAAAACARUAAAAAAAIBFQAAAAAAAAEVAAAAAAAAALEAAAAAAAAAAQAAAAAAAAEVAAAAAAAAARUAAAAAAAIBBQAAAAAAAABhAAAAAAAAAAAAAAAAAAAAAAAAAAAAAACJAAAAAAAAAAEAAAAAAAIBFQAAAAAAAgERAAAAAAAAARUAAAAAAAAAAAAAAAAAAAAAAAAAAAAAAJkAAAAAAAABFQAAAAAAAADVAAAAAAAAAPEAAAAAAAIBDQAAAAAAAADZAAAAAAACAQ0AAAAAAAAA3QAAAAAAAAEVAAAAAAACARUAAAAAAAIBBQAAAAAAAgEVAAAAAAAAANEAAAAAAAAAAAAAAAAAAgEVAAAAAAAAAOEAAAAAAAAAUQAAAAAAAACJAAAAAAACARUAAAAAAAAAoQAAAAAAAAAAAAAAAAAAAJkAAAAAAAAAqQAAAAAAAgEVAAAAAAAAAAAAAAAAAAIBFQAAAAAAAAEVAAAAAAACAREAAAAAAAAA3QAAAAAAAgEVAAAAAAAAAOUAAAAAAAABFQAAAAAAAAENAAAAAAAAARUAAAAAAAIBEQAAAAAAAAC5AAAAAAAAAOUAAAAAAAAA1QAAAAAAAAAAAAAAAAAAAMEAAAAAAAIBEQAAAAAAAAENAAAAAAAAANUAAAAAAAAAUQAAAAAAAgEVAAAAAAACARUAAAAAAAAAkQAAAAAAAAPA/AAAAAAAACEAAAAAAAAA5QAAAAAAAgEVAAAAAAAAAKkAAAAAAAABFQAAAAAAAAABAAAAAAAAAQEAAAAAAAABFQAAAAAAAAD9AAAAAAAAAQkAAAAAAAABOQAAAAAAAACZAAAAAAAAAJkAAAAAAAAAQQAAAAAAAACJAAAAAAAAA8D8AAAAAAAAcQAAAAAAAACBAAAAAAAAAKkAAAAAAAIBDQAAAAAAAgENAAAAAAACAQ0AAAAAAAAAAAAAAAAAAAAAAAAAAAAAAREAAAAAAAAAsQAAAAAAAADtAAAAAAAAAQEAAAAAAAIBDQAAAAAAAgENAAAAAAAAAREAAAAAAAAA4QAAAAAAAAEFAAAAAAAAAM0AAAAAAAAAAAAAAAAAAABxAAAAAAACAQkAAAAAAAEBSQAAAAAAAAC5AAAAAAACAQUAAAAAAAAAAAAAAAAAAAEVAAAAAAAAARUAAAAAAAABFQAAAAAAAADNAAAAAAAAACEAAAAAAAAA8QAAAAAAAAEVAAAAAAAAAMEAAAAAAAAAoQAAAAAAAgEVAAAAAAAAALEAAAAAAAABFQAAAAAAAAAAAAAAAAAAAOkAAAAAAAAAYQAAAAAAAACJAAAAAAAAAAEAAAAAAAIBFQAAAAAAAAEVAAAAAAAAAOUAAAAAAAAAAAAAAAAAAAEVAAAAAAAAARUAAAAAAAIBEQAAAAAAAAEVAAAAAAAAAPUAAAAAAAABEQAAAAAAAgENAAAAAAAAAAEAAAAAAAABDQAAAAAAAgERAAAAAAAAAN0AAAAAAAIBFQAAAAAAAAD5AAAAAAAAALkAAAAAAAIBFQAAAAAAAAEVAAAAAAAAAOkAAAAAAAIBFQAAAAAAAgERAAAAAAAAAOUAAAAAAAAA7QAAAAAAAAERAAAAAAACAREAAAAAAAABFQAAAAAAAAABAAAAAAAAAAAAAAAAAAAAsQAAAAAAAADZAAAAAAAAARUAAAAAAAAAAAAAAAAAAgENAAAAAAACAQUAAAAAAAABBQAAAAAAAADlAAAAAAAAAAEAAAAAAAABFQAAAAAAAACxAAAAAAAAARUAAAAAAAABBQAAAAAAAADxAAAAAAAAAAAAAAAAAAABFQAAAAAAAADlAAAAAAAAAAAAAAAAAAABFQAAAAAAAAD9AAAAAAAAANUAAAAAAAIBFQAAAAAAAACRAAAAAAAAAMEAAAAAAAABFQAAAAAAAAEVAAAAAAAAALEAAAAAAAIBFQAAAAAAAgEBAAAAAAAAARUAAAAAAAABCQAAAAAAAACxAAAAAAAAAKEAAAAAAAAAAAAAAAAAAgEVAAAAAAAAAREAAAAAAAABFQAAAAAAAgEFAAAAAAAAAQUAAAAAAAAA/QAAAAAAAAEBAAAAAAACARUAAAAAAAABDQAAAAAAAAEJAAAAAAAAARUAAAAAAAIBBQAAAAAAAgEVAAAAAAAAAEEAAAAAAAIBEQAAAAAAAAD5AAAAAAAAAAEAAAAAAAIBFQAAAAAAAAEVAAAAAAAAAOUAAAAAAAIBAQAAAAAAAADpAAAAAAAAANEAAAAAAAAAwQAAAAAAAAEBAAAAAAAAAO0AAAAAAAAAyQAAAAAAAAEVAAAAAAAAAQ0AAAAAAAABFQAAAAAAAAD1AAAAAAACARUAAAAAAAIBEQAAAAAAAAEVAAAAAAACAREAAAAAAAABDQAAAAAAAADFAAAAAAAAAAAAAAAAAAABFQAAAAAAAgEVAAAAAAAAAGEAAAAAAAABBQAAAAAAAgERAAAAAAAAAO0AAAAAAAIBCQAAAAAAAADhAAAAAAAAAREAAAAAAAAA4QAAAAAAAABxAAAAAAAAAKEAAAAAAAAA8QAAAAAAAAEFAAAAAAACAQUAAAAAAAIBDQAAAAAAAgEJAAAAAAAAAAAAAAAAAAAAzQAAAAAAAgENAAAAAAACARUAAAAAAAIBFQAAAAAAAgEVAAAAAAAAAQUAAAAAAAIBFQAAAAAAAADpAAAAAAAAAFEAAAAAAAAAAAAAAAAAAgEVAAAAAAAAAQkAAAAAAAAAuQAAAAAAAgEJAAAAAAACARUAAAAAAAIBFQAAAAAAAgEVAAAAAAAAALkAAAAAAAAAAAAAAAAAAAABAAAAAAACARUAAAAAAAIBFQAAAAAAAAERAAAAAAACARUAAAAAAAIBEQAAAAAAAAEVAAAAAAAAAAAAAAAAAAABFQAAAAAAAAAAAAAAAAAAAAEAAAAAAAAAYQAAAAAAAgEVAAAAAAAAANUAAAAAAAAAAAAAAAAAAgERAAAAAAACARUAAAAAAAAA1QAAAAAAAgEVAAAAAAAAALEAAAAAAAIBAQAAAAAAAAEVAAAAAAAAAO0AAAAAAAIBFQAAAAAAAADtAAAAAAAAARUAAAAAAAAAuQAAAAAAAADlAAAAAAAAAAAAAAAAAAAA9QAAAAAAAgEVAAAAAAACARUAAAAAAAIBEQAAAAAAAAEVAAAAAAAAAHEAAAAAAAAAoQAAAAAAAACJAAAAAAAAAAAAAAAAAAAAAAAAAAAAAACBAAAAAAAAAEEAAAAAAAAAmQAAAAAAAAAhAAAAAAAAAAAAAAAAAAIBFQAAAAAAAAEVAAAAAAAAAPEAAAAAAAABCQAAAAAAAgEVAAAAAAAAAN0AAAAAAAABFQAAAAAAAACZAAAAAAAAAAEAAAAAAAAA5QAAAAAAAgEVAAAAAAAAARUAAAAAAAIBEQAAAAAAAgERAAAAAAAAAAAAAAAAAAIBFQAAAAAAAADFAAAAAAAAAAAAAAAAAAADwPwAAAAAAADxAAAAAAAAARUAAAAAAAAAAAAAAAAAAgEVAAAAAAACAQ0AAAAAAAABFQAAAAAAAADdAAAAAAAAAMkAAAAAAAABBQAAAAAAAADNAAAAAAACAQ0AAAAAAAABBQAAAAAAAAERAAAAAAAAAMkAAAAAAAIBDQAAAAAAAAEVAAAAAAAAAOUAAAAAAAABDQAAAAAAAgEVAAAAAAACARUAAAAAAAAAxQAAAAAAAAAAAAAAAAAAARUAAAAAAAABFQAAAAAAAADtAAAAAAAAAPEAAAAAAAABCQAAAAAAAgEVAAAAAAAAANkAAAAAAAAA3QAAAAAAAAEVAAAAAAAAAKEAAAAAAAAAAAAAAAAAAADBA\",\"dtype\":\"float64\",\"order\":\"little\",\"shape\":[882]}},\"selected\":{\"id\":\"1157\"},\"selection_policy\":{\"id\":\"1156\"}},\"id\":\"1114\",\"type\":\"ColumnDataSource\"},{\"attributes\":{\"coordinates\":null,\"data_source\":{\"id\":\"1074\"},\"glyph\":{\"id\":\"1077\"},\"group\":null,\"hover_glyph\":null,\"view\":{\"id\":\"1081\"}},\"id\":\"1080\",\"type\":\"GlyphRenderer\"},{\"attributes\":{\"callback\":null,\"renderers\":[{\"id\":\"1120\"}],\"tooltips\":[[\"index\",\"$index\"],[\"(x,y)\",\"($x, $y)\"]]},\"id\":\"1122\",\"type\":\"HoverTool\"},{\"attributes\":{\"tools\":[{\"id\":\"1060\"},{\"id\":\"1061\"},{\"id\":\"1062\"},{\"id\":\"1063\"},{\"id\":\"1064\"},{\"id\":\"1065\"},{\"id\":\"1082\"}]},\"id\":\"1067\",\"type\":\"Toolbar\"},{\"attributes\":{\"source\":{\"id\":\"1114\"}},\"id\":\"1121\",\"type\":\"CDSView\"},{\"attributes\":{},\"id\":\"1150\",\"type\":\"UnionRenderers\"},{\"attributes\":{},\"id\":\"1151\",\"type\":\"Selection\"},{\"attributes\":{},\"id\":\"1156\",\"type\":\"UnionRenderers\"},{\"attributes\":{\"line_color\":\"blue\",\"x\":{\"field\":\"x\"},\"y\":{\"field\":\"y\"}},\"id\":\"1076\",\"type\":\"Line\"},{\"attributes\":{},\"id\":\"1157\",\"type\":\"Selection\"},{\"attributes\":{\"coordinates\":null,\"group\":null},\"id\":\"1126\",\"type\":\"Title\"},{\"attributes\":{\"coordinates\":null,\"group\":null},\"id\":\"1128\",\"type\":\"Title\"},{\"attributes\":{\"coordinates\":null,\"group\":null},\"id\":\"1130\",\"type\":\"Title\"},{\"attributes\":{},\"id\":\"1133\",\"type\":\"BasicTickFormatter\"},{\"attributes\":{\"axis\":{\"id\":\"1016\"},\"coordinates\":null,\"dimension\":1,\"group\":null,\"ticker\":null,\"visible\":false},\"id\":\"1019\",\"type\":\"Grid\"},{\"attributes\":{},\"id\":\"1017\",\"type\":\"BasicTicker\"},{\"attributes\":{},\"id\":\"1134\",\"type\":\"AllLabels\"},{\"attributes\":{},\"id\":\"1136\",\"type\":\"BasicTickFormatter\"},{\"attributes\":{\"axis_label\":\"CPUUtilization-nodeid:algo-1_total\",\"coordinates\":null,\"formatter\":{\"id\":\"1133\"},\"group\":null,\"major_label_policy\":{\"id\":\"1134\"},\"ticker\":{\"id\":\"1017\"}},\"id\":\"1016\",\"type\":\"LinearAxis\"},{\"attributes\":{\"axis\":{\"id\":\"1012\"},\"coordinates\":null,\"group\":null,\"ticker\":null,\"visible\":false},\"id\":\"1015\",\"type\":\"Grid\"},{\"attributes\":{},\"id\":\"1013\",\"type\":\"BasicTicker\"},{\"attributes\":{},\"id\":\"1137\",\"type\":\"AllLabels\"},{\"attributes\":{\"axis_label\":\"Time in ms\",\"coordinates\":null,\"formatter\":{\"id\":\"1136\"},\"group\":null,\"major_label_policy\":{\"id\":\"1137\"},\"ticker\":{\"id\":\"1013\"}},\"id\":\"1012\",\"type\":\"LinearAxis\"},{\"attributes\":{},\"id\":\"1024\",\"type\":\"SaveTool\"},{\"attributes\":{\"height\":100,\"height_policy\":\"fixed\",\"width\":250},\"id\":\"1002\",\"type\":\"Div\"},{\"attributes\":{\"end\":1673436119.502131,\"start\":1673435680.007651},\"id\":\"1004\",\"type\":\"Range1d\"},{\"attributes\":{\"args\":{\"div\":{\"id\":\"1002\"},\"s1\":{\"id\":\"1034\"}},\"code\":\"\\n                            console.log('Running CustomJS callback now.');\\n                            var inds = s1.selected.indices;\\n                            console.log(inds);\\n                            var line = \\\"<span style=float:left;clear:left;font_size=13px><b> Selected index range: [\\\" + Math.min.apply(Math,inds) + \\\",\\\" + Math.max.apply(Math,inds) + \\\"]</b></span>\\\\n\\\";\\n                            console.log(line)\\n                            var text = div.text.concat(line);\\n                            var lines = text.split(\\\"\\\\n\\\")\\n                            if (lines.length > 35)\\n                                lines.shift();\\n                            div.text = lines.join(\\\"\\\\n\\\");\"},\"id\":\"1035\",\"type\":\"CustomJS\"},{\"attributes\":{\"data\":{\"x\":{\"__ndarray__\":\"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\",\"dtype\":\"float64\",\"order\":\"little\",\"shape\":[881]},\"y\":{\"__ndarray__\":\"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\",\"dtype\":\"float64\",\"order\":\"little\",\"shape\":[881]}},\"selected\":{\"id\":\"1151\"},\"selection_policy\":{\"id\":\"1150\"}},\"id\":\"1034\",\"type\":\"ColumnDataSource\"},{\"attributes\":{},\"id\":\"1010\",\"type\":\"LinearScale\"},{\"attributes\":{},\"id\":\"1008\",\"type\":\"LinearScale\"},{\"attributes\":{\"end\":102},\"id\":\"1006\",\"type\":\"Range1d\"},{\"attributes\":{\"below\":[{\"id\":\"1012\"}],\"center\":[{\"id\":\"1015\"},{\"id\":\"1019\"}],\"height\":200,\"js_event_callbacks\":{\"selectiongeometry\":[{\"id\":\"1035\"}]},\"left\":[{\"id\":\"1016\"}],\"renderers\":[{\"id\":\"1038\"},{\"id\":\"1040\"}],\"title\":{\"id\":\"1126\"},\"toolbar\":{\"id\":\"1027\"},\"width\":1000,\"x_range\":{\"id\":\"1004\"},\"x_scale\":{\"id\":\"1008\"},\"y_range\":{\"id\":\"1006\"},\"y_scale\":{\"id\":\"1010\"}},\"id\":\"1003\",\"subtype\":\"Figure\",\"type\":\"Plot\"},{\"attributes\":{},\"id\":\"1020\",\"type\":\"CrosshairTool\"},{\"attributes\":{},\"id\":\"1022\",\"type\":\"PanTool\"},{\"attributes\":{\"dimensions\":\"width\",\"overlay\":{\"id\":\"1026\"}},\"id\":\"1021\",\"type\":\"BoxSelectTool\"},{\"attributes\":{},\"id\":\"1023\",\"type\":\"ResetTool\"},{\"attributes\":{\"dimensions\":\"width\"},\"id\":\"1025\",\"type\":\"WheelZoomTool\"},{\"attributes\":{\"tools\":[{\"id\":\"1020\"},{\"id\":\"1021\"},{\"id\":\"1022\"},{\"id\":\"1023\"},{\"id\":\"1024\"},{\"id\":\"1025\"},{\"id\":\"1042\"}]},\"id\":\"1027\",\"type\":\"Toolbar\"},{\"attributes\":{\"bottom_units\":\"screen\",\"coordinates\":null,\"fill_alpha\":0.5,\"fill_color\":\"lightgrey\",\"group\":null,\"left_units\":\"screen\",\"level\":\"overlay\",\"line_alpha\":1.0,\"line_color\":\"black\",\"line_dash\":[4,4],\"line_width\":2,\"right_units\":\"screen\",\"syncable\":false,\"top_units\":\"screen\"},\"id\":\"1026\",\"type\":\"BoxAnnotation\"},{\"attributes\":{\"coordinates\":null,\"data_source\":{\"id\":\"1074\"},\"glyph\":{\"id\":\"1076\"},\"group\":null,\"hover_glyph\":null,\"view\":{\"id\":\"1079\"}},\"id\":\"1078\",\"type\":\"GlyphRenderer\"},{\"attributes\":{\"source\":{\"id\":\"1074\"}},\"id\":\"1079\",\"type\":\"CDSView\"}],\"root_ids\":[\"1125\"]},\"title\":\"Bokeh Application\",\"version\":\"2.4.3\"}};\n",
       "  const render_items = [{\"docid\":\"82378b09-efe0-4988-b075-306aaa8f8af7\",\"notebook_comms_target\":\"1159\",\"root_ids\":[\"1125\"],\"roots\":{\"1125\":\"980e30c4-9e25-4590-a7db-912946c2f90a\"}}];\n",
       "  root.Bokeh.embed.embed_items_notebook(docs_json, render_items);\n",
       "  }\n",
       "  if (root.Bokeh !== undefined) {\n",
       "    embed_document(root);\n",
       "  } else {\n",
       "    let attempts = 0;\n",
       "    const timer = setInterval(function(root) {\n",
       "      if (root.Bokeh !== undefined) {\n",
       "        clearInterval(timer);\n",
       "        embed_document(root);\n",
       "      } else {\n",
       "        attempts++;\n",
       "        if (attempts > 100) {\n",
       "          clearInterval(timer);\n",
       "          console.log(\"Bokeh: ERROR: Unable to run BokehJS code because BokehJS library is missing\");\n",
       "        }\n",
       "      }\n",
       "    }, 10, root)\n",
       "  }\n",
       "})(window);"
      ],
      "application/vnd.bokehjs_exec.v0+json": ""
     },
     "metadata": {
      "application/vnd.bokehjs_exec.v0+json": {
       "id": "1125"
      }
     },
     "output_type": "display_data"
    }
   ],
   "source": [
    "from smdebug.profiler.analysis.notebook_utils.timeline_charts import TimelineCharts\n",
    "\n",
    "system_metrics_reader = tj.get_systems_metrics_reader()\n",
    "system_metrics_reader.refresh_event_file_list()\n",
    "\n",
    "view_timeline_charts = TimelineCharts(\n",
    "    system_metrics_reader,\n",
    "    framework_metrics_reader=None,\n",
    "    select_dimensions=[\"CPU\", \"GPU\"],\n",
    "    select_events=[\"total\"],\n",
    ")"
   ]
  },
  {
   "cell_type": "code",
   "execution_count": 55,
   "metadata": {
    "tags": []
   },
   "outputs": [
    {
     "data": {
      "text/plain": [
       "[{'RuleConfigurationName': 'VanishingGradient',\n",
       "  'RuleEvaluationJobArn': 'arn:aws:sagemaker:us-east-1:022926224205:processing-job/dog-breed-clf-dp-2023-01-1-vanishinggradient-157a95a1',\n",
       "  'RuleEvaluationStatus': 'Error',\n",
       "  'StatusDetails': 'InternalServerError: We encountered an internal error. Please try again.',\n",
       "  'LastModifiedTime': datetime.datetime(2023, 1, 11, 11, 24, 4, 295000, tzinfo=tzlocal())},\n",
       " {'RuleConfigurationName': 'Overfit',\n",
       "  'RuleEvaluationJobArn': 'arn:aws:sagemaker:us-east-1:022926224205:processing-job/dog-breed-clf-dp-2023-01-1-overfit-1111df8b',\n",
       "  'RuleEvaluationStatus': 'Error',\n",
       "  'StatusDetails': 'InternalServerError: We encountered an internal error. Please try again.',\n",
       "  'LastModifiedTime': datetime.datetime(2023, 1, 11, 11, 24, 4, 295000, tzinfo=tzlocal())},\n",
       " {'RuleConfigurationName': 'Overtraining',\n",
       "  'RuleEvaluationJobArn': 'arn:aws:sagemaker:us-east-1:022926224205:processing-job/dog-breed-clf-dp-2023-01-1-overtraining-bd96d657',\n",
       "  'RuleEvaluationStatus': 'NoIssuesFound',\n",
       "  'LastModifiedTime': datetime.datetime(2023, 1, 11, 11, 24, 4, 295000, tzinfo=tzlocal())},\n",
       " {'RuleConfigurationName': 'PoorWeightInitialization',\n",
       "  'RuleEvaluationJobArn': 'arn:aws:sagemaker:us-east-1:022926224205:processing-job/dog-breed-clf-dp-2023-01-1-poorweightinitialization-b59b92de',\n",
       "  'RuleEvaluationStatus': 'Error',\n",
       "  'StatusDetails': 'InternalServerError: We encountered an internal error. Please try again.',\n",
       "  'LastModifiedTime': datetime.datetime(2023, 1, 11, 11, 24, 4, 295000, tzinfo=tzlocal())},\n",
       " {'RuleConfigurationName': 'LossNotDecreasing',\n",
       "  'RuleEvaluationJobArn': 'arn:aws:sagemaker:us-east-1:022926224205:processing-job/dog-breed-clf-dp-2023-01-1-lossnotdecreasing-753d875a',\n",
       "  'RuleEvaluationStatus': 'Error',\n",
       "  'StatusDetails': 'InternalServerError: We encountered an internal error. Please try again.',\n",
       "  'LastModifiedTime': datetime.datetime(2023, 1, 11, 11, 24, 4, 295000, tzinfo=tzlocal())},\n",
       " {'RuleConfigurationName': 'LowGPUUtilization',\n",
       "  'RuleEvaluationJobArn': 'arn:aws:sagemaker:us-east-1:022926224205:processing-job/dog-breed-clf-dp-2023-01-1-lowgpuutilization-7a6e4ad1',\n",
       "  'RuleEvaluationStatus': 'NoIssuesFound',\n",
       "  'LastModifiedTime': datetime.datetime(2023, 1, 11, 11, 23, 19, 769000, tzinfo=tzlocal())},\n",
       " {'RuleConfigurationName': 'CPUBottleneck',\n",
       "  'RuleEvaluationJobArn': 'arn:aws:sagemaker:us-east-1:022926224205:processing-job/dog-breed-clf-dp-2023-01-1-cpubottleneck-cab6efa2',\n",
       "  'RuleEvaluationStatus': 'NoIssuesFound',\n",
       "  'LastModifiedTime': datetime.datetime(2023, 1, 11, 11, 23, 19, 769000, tzinfo=tzlocal())},\n",
       " {'RuleConfigurationName': 'OverallSystemUsage',\n",
       "  'RuleEvaluationJobArn': 'arn:aws:sagemaker:us-east-1:022926224205:processing-job/dog-breed-clf-dp-2023-01-1-overallsystemusage-66564dcf',\n",
       "  'RuleEvaluationStatus': 'NoIssuesFound',\n",
       "  'LastModifiedTime': datetime.datetime(2023, 1, 11, 11, 23, 19, 769000, tzinfo=tzlocal())},\n",
       " {'RuleConfigurationName': 'ProfilerReport',\n",
       "  'RuleEvaluationJobArn': 'arn:aws:sagemaker:us-east-1:022926224205:processing-job/dog-breed-clf-dp-2023-01-1-profilerreport-8fa9f693',\n",
       "  'RuleEvaluationStatus': 'NoIssuesFound',\n",
       "  'LastModifiedTime': datetime.datetime(2023, 1, 11, 11, 23, 19, 769000, tzinfo=tzlocal())}]"
      ]
     },
     "execution_count": 55,
     "metadata": {},
     "output_type": "execute_result"
    }
   ],
   "source": [
    "estimator.latest_training_job.rule_job_summary()"
   ]
  },
  {
   "cell_type": "code",
   "execution_count": 48,
   "metadata": {
    "tags": []
   },
   "outputs": [
    {
     "data": {
      "text/plain": [
       "'ProfilerReport'"
      ]
     },
     "execution_count": 48,
     "metadata": {},
     "output_type": "execute_result"
    }
   ],
   "source": [
    "profiler_report_name"
   ]
  },
  {
   "cell_type": "code",
   "execution_count": 47,
   "metadata": {
    "tags": []
   },
   "outputs": [
    {
     "ename": "FileNotFoundError",
     "evalue": "[Errno 2] No such file or directory: 'ProfilerReport/profiler-output/profiler-report.html'",
     "output_type": "error",
     "traceback": [
      "\u001b[0;31m---------------------------------------------------------------------------\u001b[0m",
      "\u001b[0;31mFileNotFoundError\u001b[0m                         Traceback (most recent call last)",
      "\u001b[0;32m<ipython-input-47-73bc4a9d8053>\u001b[0m in \u001b[0;36m<module>\u001b[0;34m\u001b[0m\n\u001b[1;32m     10\u001b[0m \u001b[0;32mimport\u001b[0m \u001b[0mIPython\u001b[0m\u001b[0;34m\u001b[0m\u001b[0;34m\u001b[0m\u001b[0m\n\u001b[1;32m     11\u001b[0m \u001b[0;34m\u001b[0m\u001b[0m\n\u001b[0;32m---> 12\u001b[0;31m \u001b[0mIPython\u001b[0m\u001b[0;34m.\u001b[0m\u001b[0mdisplay\u001b[0m\u001b[0;34m.\u001b[0m\u001b[0mHTML\u001b[0m\u001b[0;34m(\u001b[0m\u001b[0mfilename\u001b[0m\u001b[0;34m=\u001b[0m\u001b[0mprofiler_report_name\u001b[0m \u001b[0;34m+\u001b[0m \u001b[0;34m\"/profiler-output/profiler-report.html\"\u001b[0m\u001b[0;34m)\u001b[0m\u001b[0;34m\u001b[0m\u001b[0;34m\u001b[0m\u001b[0m\n\u001b[0m",
      "\u001b[0;32m/opt/conda/lib/python3.8/site-packages/IPython/core/display.py\u001b[0m in \u001b[0;36m__init__\u001b[0;34m(self, data, url, filename, metadata)\u001b[0m\n\u001b[1;32m    716\u001b[0m         \u001b[0;32mif\u001b[0m \u001b[0mwarn\u001b[0m\u001b[0;34m(\u001b[0m\u001b[0;34m)\u001b[0m\u001b[0;34m:\u001b[0m\u001b[0;34m\u001b[0m\u001b[0;34m\u001b[0m\u001b[0m\n\u001b[1;32m    717\u001b[0m             \u001b[0mwarnings\u001b[0m\u001b[0;34m.\u001b[0m\u001b[0mwarn\u001b[0m\u001b[0;34m(\u001b[0m\u001b[0;34m\"Consider using IPython.display.IFrame instead\"\u001b[0m\u001b[0;34m)\u001b[0m\u001b[0;34m\u001b[0m\u001b[0;34m\u001b[0m\u001b[0m\n\u001b[0;32m--> 718\u001b[0;31m         \u001b[0msuper\u001b[0m\u001b[0;34m(\u001b[0m\u001b[0mHTML\u001b[0m\u001b[0;34m,\u001b[0m \u001b[0mself\u001b[0m\u001b[0;34m)\u001b[0m\u001b[0;34m.\u001b[0m\u001b[0m__init__\u001b[0m\u001b[0;34m(\u001b[0m\u001b[0mdata\u001b[0m\u001b[0;34m=\u001b[0m\u001b[0mdata\u001b[0m\u001b[0;34m,\u001b[0m \u001b[0murl\u001b[0m\u001b[0;34m=\u001b[0m\u001b[0murl\u001b[0m\u001b[0;34m,\u001b[0m \u001b[0mfilename\u001b[0m\u001b[0;34m=\u001b[0m\u001b[0mfilename\u001b[0m\u001b[0;34m,\u001b[0m \u001b[0mmetadata\u001b[0m\u001b[0;34m=\u001b[0m\u001b[0mmetadata\u001b[0m\u001b[0;34m)\u001b[0m\u001b[0;34m\u001b[0m\u001b[0;34m\u001b[0m\u001b[0m\n\u001b[0m\u001b[1;32m    719\u001b[0m \u001b[0;34m\u001b[0m\u001b[0m\n\u001b[1;32m    720\u001b[0m     \u001b[0;32mdef\u001b[0m \u001b[0m_repr_html_\u001b[0m\u001b[0;34m(\u001b[0m\u001b[0mself\u001b[0m\u001b[0;34m)\u001b[0m\u001b[0;34m:\u001b[0m\u001b[0;34m\u001b[0m\u001b[0;34m\u001b[0m\u001b[0m\n",
      "\u001b[0;32m/opt/conda/lib/python3.8/site-packages/IPython/core/display.py\u001b[0m in \u001b[0;36m__init__\u001b[0;34m(self, data, url, filename, metadata)\u001b[0m\n\u001b[1;32m    628\u001b[0m             \u001b[0mself\u001b[0m\u001b[0;34m.\u001b[0m\u001b[0mmetadata\u001b[0m \u001b[0;34m=\u001b[0m \u001b[0;34m{\u001b[0m\u001b[0;34m}\u001b[0m\u001b[0;34m\u001b[0m\u001b[0;34m\u001b[0m\u001b[0m\n\u001b[1;32m    629\u001b[0m \u001b[0;34m\u001b[0m\u001b[0m\n\u001b[0;32m--> 630\u001b[0;31m         \u001b[0mself\u001b[0m\u001b[0;34m.\u001b[0m\u001b[0mreload\u001b[0m\u001b[0;34m(\u001b[0m\u001b[0;34m)\u001b[0m\u001b[0;34m\u001b[0m\u001b[0;34m\u001b[0m\u001b[0m\n\u001b[0m\u001b[1;32m    631\u001b[0m         \u001b[0mself\u001b[0m\u001b[0;34m.\u001b[0m\u001b[0m_check_data\u001b[0m\u001b[0;34m(\u001b[0m\u001b[0;34m)\u001b[0m\u001b[0;34m\u001b[0m\u001b[0;34m\u001b[0m\u001b[0m\n\u001b[1;32m    632\u001b[0m \u001b[0;34m\u001b[0m\u001b[0m\n",
      "\u001b[0;32m/opt/conda/lib/python3.8/site-packages/IPython/core/display.py\u001b[0m in \u001b[0;36mreload\u001b[0;34m(self)\u001b[0m\n\u001b[1;32m    653\u001b[0m         \u001b[0;34m\"\"\"Reload the raw data from file or URL.\"\"\"\u001b[0m\u001b[0;34m\u001b[0m\u001b[0;34m\u001b[0m\u001b[0m\n\u001b[1;32m    654\u001b[0m         \u001b[0;32mif\u001b[0m \u001b[0mself\u001b[0m\u001b[0;34m.\u001b[0m\u001b[0mfilename\u001b[0m \u001b[0;32mis\u001b[0m \u001b[0;32mnot\u001b[0m \u001b[0;32mNone\u001b[0m\u001b[0;34m:\u001b[0m\u001b[0;34m\u001b[0m\u001b[0;34m\u001b[0m\u001b[0m\n\u001b[0;32m--> 655\u001b[0;31m             \u001b[0;32mwith\u001b[0m \u001b[0mopen\u001b[0m\u001b[0;34m(\u001b[0m\u001b[0mself\u001b[0m\u001b[0;34m.\u001b[0m\u001b[0mfilename\u001b[0m\u001b[0;34m,\u001b[0m \u001b[0mself\u001b[0m\u001b[0;34m.\u001b[0m\u001b[0m_read_flags\u001b[0m\u001b[0;34m)\u001b[0m \u001b[0;32mas\u001b[0m \u001b[0mf\u001b[0m\u001b[0;34m:\u001b[0m\u001b[0;34m\u001b[0m\u001b[0;34m\u001b[0m\u001b[0m\n\u001b[0m\u001b[1;32m    656\u001b[0m                 \u001b[0mself\u001b[0m\u001b[0;34m.\u001b[0m\u001b[0mdata\u001b[0m \u001b[0;34m=\u001b[0m \u001b[0mf\u001b[0m\u001b[0;34m.\u001b[0m\u001b[0mread\u001b[0m\u001b[0;34m(\u001b[0m\u001b[0;34m)\u001b[0m\u001b[0;34m\u001b[0m\u001b[0;34m\u001b[0m\u001b[0m\n\u001b[1;32m    657\u001b[0m         \u001b[0;32melif\u001b[0m \u001b[0mself\u001b[0m\u001b[0;34m.\u001b[0m\u001b[0murl\u001b[0m \u001b[0;32mis\u001b[0m \u001b[0;32mnot\u001b[0m \u001b[0;32mNone\u001b[0m\u001b[0;34m:\u001b[0m\u001b[0;34m\u001b[0m\u001b[0;34m\u001b[0m\u001b[0m\n",
      "\u001b[0;31mFileNotFoundError\u001b[0m: [Errno 2] No such file or directory: 'ProfilerReport/profiler-output/profiler-report.html'"
     ]
    }
   ],
   "source": [
    "import os\n",
    "\n",
    "# get the autogenerated folder name of profiler report\n",
    "profiler_report_name = [\n",
    "    rule[\"RuleConfigurationName\"]\n",
    "    for rule in estimator.latest_training_job.rule_job_summary()\n",
    "    if \"Profiler\" in rule[\"RuleConfigurationName\"]\n",
    "][0]\n",
    "\n",
    "import IPython\n",
    "\n",
    "IPython.display.HTML(filename=profiler_report_name + \"/profiler-output/profiler-report.html\")"
   ]
  },
  {
   "cell_type": "code",
   "execution_count": 56,
   "metadata": {
    "tags": []
   },
   "outputs": [
    {
     "name": "stdout",
     "output_type": "stream",
     "text": [
      "You will find the profiler report in s3://sagemaker-us-east-1-022926224205/dog-breed-clf-dp-2023-01-11-11-13-23-895/rule-output\n"
     ]
    }
   ],
   "source": [
    "rule_output_path = estimator.output_path + estimator.latest_training_job.job_name + \"/rule-output\"\n",
    "print(f\"You will find the profiler report in {rule_output_path}\")"
   ]
  },
  {
   "cell_type": "code",
   "execution_count": null,
   "metadata": {},
   "outputs": [],
   "source": [
    "# TODO: Plot a debugging output."
   ]
  },
  {
   "cell_type": "markdown",
   "metadata": {},
   "source": [
    "**TODO**: Is there some anomalous behaviour in your debugging output? If so, what is the error and how will you fix it?  \n",
    "**TODO**: If not, suppose there was an error. What would that error look like and how would you have fixed it?"
   ]
  },
  {
   "cell_type": "code",
   "execution_count": null,
   "metadata": {},
   "outputs": [],
   "source": [
    "# TODO: Display the profiler output"
   ]
  },
  {
   "cell_type": "markdown",
   "metadata": {},
   "source": [
    "## Model Deploying"
   ]
  },
  {
   "cell_type": "code",
   "execution_count": null,
   "metadata": {},
   "outputs": [],
   "source": [
    "# TODO: Deploy your model to an endpoint\n",
    "\n",
    "predictor=estimator.deploy() # TODO: Add your deployment configuration like instance type and number of instances"
   ]
  },
  {
   "cell_type": "code",
   "execution_count": null,
   "metadata": {},
   "outputs": [],
   "source": [
    "# TODO: Run an prediction on the endpoint\n",
    "\n",
    "image = # TODO: Your code to load and preprocess image to send to endpoint for prediction\n",
    "response = predictor.predict(image)"
   ]
  },
  {
   "cell_type": "code",
   "execution_count": null,
   "metadata": {},
   "outputs": [],
   "source": [
    "# TODO: Remember to shutdown/delete your endpoint once your work is done\n",
    "predictor.delete_endpoint()"
   ]
  },
  {
   "cell_type": "code",
   "execution_count": null,
   "metadata": {},
   "outputs": [],
   "source": []
  }
 ],
 "metadata": {
  "instance_type": "ml.t3.medium",
  "kernelspec": {
   "display_name": "Python 3 (PyTorch 1.12 Python 3.8 GPU Optimized)",
   "language": "python",
   "name": "python3__SAGEMAKER_INTERNAL__arn:aws:sagemaker:us-east-1:081325390199:image/pytorch-1.12-gpu-py38"
  },
  "language_info": {
   "codemirror_mode": {
    "name": "ipython",
    "version": 3
   },
   "file_extension": ".py",
   "mimetype": "text/x-python",
   "name": "python",
   "nbconvert_exporter": "python",
   "pygments_lexer": "ipython3",
   "version": "3.8.13"
  }
 },
 "nbformat": 4,
 "nbformat_minor": 4
}
